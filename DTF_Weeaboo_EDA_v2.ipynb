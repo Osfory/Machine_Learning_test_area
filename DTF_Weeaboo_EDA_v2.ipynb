{
 "cells": [
  {
   "cell_type": "markdown",
   "metadata": {},
   "source": [
    "# Weeaboo Subsite Overview"
   ]
  },
  {
   "cell_type": "markdown",
   "metadata": {},
   "source": [
    "## Preliminary Preparations"
   ]
  },
  {
   "cell_type": "code",
   "execution_count": null,
   "metadata": {},
   "outputs": [],
   "source": [
    "import numpy as np\n",
    "import pandas as pd\n",
    "\n",
    "import matplotlib.mlab as mlab\n",
    "import matplotlib.pyplot as plt\n",
    "import matplotlib_venn\n",
    "import seaborn as sns\n",
    "\n",
    "import json\n",
    "import yaml\n",
    "import ast\n",
    "\n",
    "import requests\n",
    "from PIL import Image\n",
    "from io import BytesIO\n",
    "import IPython.display as Disp\n",
    "\n",
    "from re import findall, match, sub\n",
    "import itertools\n",
    "\n",
    "from datetime import datetime\n",
    "from datetime import tzinfo\n",
    "\n",
    "%matplotlib inline\n",
    "plt.rcParams[\"figure.figsize\"] = [14, 10]\n",
    "\n",
    "%config Completer.use_jedi = False\n",
    "\n",
    "print(\"Imports Done!\")"
   ]
  },
  {
   "cell_type": "code",
   "execution_count": null,
   "metadata": {},
   "outputs": [],
   "source": [
    "PATH = \"/home/aleksey/PycharmProjects/DTF_database_and_scrapper_config/\""
   ]
  },
  {
   "cell_type": "code",
   "execution_count": null,
   "metadata": {},
   "outputs": [],
   "source": [
    "weeaboo_origin = pd.read_csv(PATH + 'data_weeaboo_01_03.csv', index_col=0)\n",
    "weeaboo_origin.reset_index(inplace=True)\n",
    "weeaboo_origin.drop(columns=['index'], inplace=True)\n",
    "weeaboo_origin.head()"
   ]
  },
  {
   "cell_type": "code",
   "execution_count": null,
   "metadata": {},
   "outputs": [],
   "source": [
    "weeaboo_origin.tail(3)"
   ]
  },
  {
   "cell_type": "code",
   "execution_count": null,
   "metadata": {},
   "outputs": [],
   "source": [
    "weeaboo_origin.info()"
   ]
  },
  {
   "cell_type": "markdown",
   "metadata": {},
   "source": [
    "**Потенциально полезно:**\n",
    "- id -- ИД статьи в базе, инкрементный идентификатор\n",
    "- url -- ссылка на статью\n",
    "- author -- автор: словарь с данными, нужна обработка\n",
    "- commentsCount -- кол-во комментов\n",
    "- favoritesCount -- кол-во добавлений в закладки\n",
    "- cover -- это КПДВ (нужно ли?)\n",
    "- date -- unix timestamp\n",
    "- dateRFC -- человекочитаемое время, UTC+3\n",
    "- hitsCount -- просмотры\n",
    "- isRepost -- бинарный маркер репоста\n",
    "- likes -- лайки: словарь, нужна обработка\n",
    "- subsite -- подсайт, в котором опубликован оригинал статьи\n",
    "- title -- заголовок\n",
    "- type -- тип статьи \n",
    "- entryContent -- содержимое поста\n",
    "- repost -- подсайт из которого сделан репост: словарь, нужна обработка\n",
    "- stackedRepostsAuthors -- репостнувшие пользователи/подсайты - список\n",
    "- blocks -- содержимое поста поблочно. \n",
    "- summarize -- последний абзац/резюмирующий абзац - видимо, некая фича редактора"
   ]
  },
  {
   "cell_type": "markdown",
   "metadata": {},
   "source": [
    "## Data Preprocessing"
   ]
  },
  {
   "cell_type": "code",
   "execution_count": null,
   "metadata": {},
   "outputs": [],
   "source": [
    "date_parser = lambda x: datetime.fromtimestamp(int(x)).strftime('%Y-%m-%d %H:%M:%S')"
   ]
  },
  {
   "cell_type": "code",
   "execution_count": null,
   "metadata": {},
   "outputs": [],
   "source": [
    "df = pd.read_csv(PATH + \"data_weeaboo_01_03.csv\", parse_dates=['date'], date_parser=date_parser, \n",
    "                 index_col=None, # None / 0 / ['date']\n",
    "                 usecols=['id', 'url', 'author', 'commentsCount', 'favoritesCount', 'date', \n",
    "                          'hitsCount', 'isRepost', 'likes', 'subsite', 'title', 'type', \n",
    "                          'repost', 'stackedRepostsAuthors', 'blocks'])\n",
    "df.head()"
   ]
  },
  {
   "cell_type": "code",
   "execution_count": null,
   "metadata": {},
   "outputs": [],
   "source": [
    "df.shape"
   ]
  },
  {
   "cell_type": "markdown",
   "metadata": {},
   "source": [
    "Нужно:\n",
    "- id\n",
    "- url\n",
    "- author -- автор: словарь с данными, нужна обработка\n",
    "- commentsCount -- кол-во комментов\n",
    "- favoritesCount -- кол-во добавлений в закладки\n",
    "- date -- unix timestamp\n",
    "- dateRFC -- человекочитаемое время, UTC+3\n",
    "- hitsCount -- просмотры\n",
    "- isRepost -- бинарный маркер репоста\n",
    "- likes -- лайки, словарь, нужна обработка\n",
    "- subsite -- подсайт, в котором опубликован оригинал статьи\n",
    "- title -- заголовок\n",
    "- type -- тип статьи \n",
    "- repost -- подсайт из которого сделан репост, словарь, нужна обработка\n",
    "- stackedRepostsAuthors -- репостнувшие пользователи/подсайты - список\n",
    "- blocks -- содержимое поста поблочно. "
   ]
  },
  {
   "cell_type": "markdown",
   "metadata": {},
   "source": [
    "Извлечём виды контента, содержащиеся в посте."
   ]
  },
  {
   "cell_type": "code",
   "execution_count": null,
   "metadata": {},
   "outputs": [],
   "source": [
    "def get_medias(media):\n",
    "    \"\"\"\n",
    "        Extracting mediacontent types from pd.Series\n",
    "    \"\"\"\n",
    "    medias = []\n",
    "    for x in media:\n",
    "        medias.append(x['type'])\n",
    "    return(set(medias))    "
   ]
  },
  {
   "cell_type": "markdown",
   "metadata": {},
   "source": [
    "Преобразуем лайки, автора и подсайт в удобочитаемый формат."
   ]
  },
  {
   "cell_type": "code",
   "execution_count": null,
   "metadata": {},
   "outputs": [],
   "source": [
    "df['likes'] = df['likes'].apply(lambda x: ast.literal_eval(x))\n",
    "df['likes'] = df['likes'].apply(lambda x: x.get('summ'))\n",
    "\n",
    "medias = df.loc[:, 'blocks']\n",
    "medias_resume_list = medias.apply(lambda x: ast.literal_eval(x))\n",
    "df['media_content_types'] = medias_resume_list.apply(lambda el: get_medias(el))\n",
    "\n",
    "\n",
    "df['author'] = df['author'].apply(lambda x: ast.literal_eval(x))\n",
    "df['author_name'] = df['author'].apply(lambda x: x.get('name'))\n",
    "df['author_type'] = df['author'].apply(lambda x: x.get('type'))\n",
    "df['author_avatar_url'] = df['author'].apply(lambda x: x.get('avatar_url'))\n",
    "\n",
    "df['subsite'] = df['subsite'].apply(lambda x: ast.literal_eval(x))\n",
    "df['subsite'] = df['subsite'].apply(lambda x: x.get('name'))"
   ]
  },
  {
   "cell_type": "code",
   "execution_count": null,
   "metadata": {},
   "outputs": [],
   "source": [
    "df.head()"
   ]
  },
  {
   "cell_type": "markdown",
   "metadata": {},
   "source": [
    "---\n",
    "### Проведём тесты на небольшом кусочке датасета\n",
    "---"
   ]
  },
  {
   "cell_type": "code",
   "execution_count": null,
   "metadata": {},
   "outputs": [],
   "source": [
    "df_subs = df.loc[0:5, :]\n",
    "df_subs"
   ]
  },
  {
   "cell_type": "code",
   "execution_count": null,
   "metadata": {},
   "outputs": [],
   "source": [
    "df_subs['media_content_types']"
   ]
  },
  {
   "cell_type": "markdown",
   "metadata": {},
   "source": [
    "Создаём множество с самыми распространёнными типами контента в статьях. Остальное будем отлавливать специально."
   ]
  },
  {
   "cell_type": "code",
   "execution_count": null,
   "metadata": {},
   "outputs": [],
   "source": [
    "etalon_set = {\"media\", \"delimiter\", \"link\", \"header\", \"text\", \"video\", \"list\", \"telegram\", \"quote\"}"
   ]
  },
  {
   "cell_type": "code",
   "execution_count": null,
   "metadata": {
    "scrolled": true
   },
   "outputs": [],
   "source": [
    "df_subs.loc[:, 'exotic_media_type'] = df_subs.apply(lambda row: row.media_content_types - etalon_set, axis=1)\n",
    "df_subs.loc[:, 'exotic_media_type'] = df_subs['exotic_media_type'].apply(lambda row: row if len(row) != 0 else 0)"
   ]
  },
  {
   "cell_type": "markdown",
   "metadata": {},
   "source": [
    "https://stackoverflow.com/questions/58528989/pandas-get-unique-values-from-column-of-lists\n",
    "\n",
    "https://datascience.stackexchange.com/questions/17769/how-to-fill-missing-value-based-on-other-columns-in-pandas-dataframe\n",
    "\n",
    "https://www.geeksforgeeks.org/create-a-new-column-in-pandas-dataframe-based-on-the-existing-columns/\n"
   ]
  },
  {
   "cell_type": "code",
   "execution_count": null,
   "metadata": {},
   "outputs": [],
   "source": [
    "df_subs['exotic_media_type'].explode().unique() "
   ]
  },
  {
   "cell_type": "code",
   "execution_count": null,
   "metadata": {},
   "outputs": [],
   "source": [
    "df_subs"
   ]
  },
  {
   "cell_type": "markdown",
   "metadata": {},
   "source": [
    "Произведём расчёт количества символов, слов, хэш-тэгов, а также медиаконтента, содержащегося в статьях.\n",
    "\n",
    "Ссылки на твиттер, телеграм и прочие источники учитываются как один тип.\n",
    "\n",
    "Также виджет инстаграма учитывается как одно изображение, вне зависимости от количества изображений в галерее. Это вызвано тем, что API Очобы не отдаёт информацию о типе содержимого виджета."
   ]
  },
  {
   "cell_type": "markdown",
   "metadata": {},
   "source": [
    "https://stackoverflow.com/questions/48632356/python-extract-hashtags-out-of-a-text-file\n",
    "    \n",
    "https://stackoverflow.com/questions/2527892/parsing-a-tweet-to-extract-hashtags-into-an-array\n"
   ]
  },
  {
   "cell_type": "markdown",
   "metadata": {},
   "source": [
    "Нужно попробовать вот этот паттерн [#][^\\s#]+"
   ]
  },
  {
   "cell_type": "code",
   "execution_count": null,
   "metadata": {},
   "outputs": [],
   "source": [
    "def stats_counter(df: pd.DataFrame):\n",
    "    \n",
    "    # Гифки считаются изображениями-картинками\n",
    "    \n",
    "    symbols_by_block = []\n",
    "    words_by_block = []\n",
    "    \n",
    "    image_counter = 0\n",
    "    video_counter = 0\n",
    "    audio_counter = 0\n",
    "    \n",
    "    links_counter = 0\n",
    "    \n",
    "    hashtags = []\n",
    "      \n",
    "    content_in_str = df['blocks']\n",
    "    resume_list = ast.literal_eval(content_in_str) \n",
    "    \n",
    "    for element in resume_list:\n",
    "        if element['type'] in ['text', 'quote', 'header', 'incut', 'warning']:\n",
    "            symbols_by_block.append(len(element['data']['text']))\n",
    "            words_by_block.append(len(element['data']['text'].split()))\n",
    "            hashtags.append(findall(r'#.*?(?=\\s|$)', element['data']['text']))\n",
    "            \n",
    "        if element['type'] == 'number': \n",
    "            symbols_by_block.append(len(element['data']['title']))\n",
    "            words_by_block.append(len(element['data']['title'].split()))\n",
    "\n",
    "        if element['type'] == 'list': \n",
    "            for elem in element['data']['items']:\n",
    "                symbols_by_block.append(len(elem))\n",
    "                words_by_block.append(len(elem.split()))\n",
    "                hashtags.append(findall(r'[#][^\\s#]+', elem))\n",
    "\n",
    "        if element['type'] == 'video':\n",
    "            video_counter += 1\n",
    "\n",
    "        if element['type'] == 'media': \n",
    "            for elem in element['data']['items']:\n",
    "                image_counter += 1\n",
    "                symbols_by_block.append(len(elem['title']))\n",
    "                words_by_block.append(len(elem['title'].split())) \n",
    "                \n",
    "        if element['type'] == 'instagram': \n",
    "            image_counter += 1\n",
    "            \n",
    "        if element['type'] in ['audio', 'spotify']:\n",
    "            audio_counter += 1\n",
    "\n",
    "        if element['type'] in ['tweet', 'link', 'telegram', 'person']: \n",
    "            links_counter += 1\n",
    "    \n",
    "    hashtags = [x for x in hashtags if x != []]\n",
    "    hashtags = list(itertools.chain(*hashtags))    \n",
    "    \n",
    "    return(sum(symbols_by_block), sum(words_by_block), image_counter, video_counter, \n",
    "           links_counter, audio_counter, sum([image_counter, video_counter, \n",
    "           links_counter, audio_counter]), hashtags)"
   ]
  },
  {
   "cell_type": "code",
   "execution_count": null,
   "metadata": {},
   "outputs": [],
   "source": [
    "df_subs.apply(lambda row: stats_counter(row), axis=1)"
   ]
  },
  {
   "cell_type": "markdown",
   "metadata": {},
   "source": [
    "https://stackoverflow.com/questions/23586510/return-multiple-columns-from-pandas-apply\n",
    "\n",
    "https://stackoverflow.com/questions/47969756/pandas-apply-function-that-returns-two-new-columns\n",
    "\n",
    "https://stackoverflow.com/questions/16236684/apply-pandas-function-to-column-to-create-multiple-new-columns"
   ]
  },
  {
   "cell_type": "code",
   "execution_count": null,
   "metadata": {},
   "outputs": [],
   "source": [
    "df_subs[['symbols', 'words', 'images', 'videos', 'links', 'audio', 'total_mediacontent', 'hashtags']] = \\\n",
    "df_subs.apply(lambda row: stats_counter(row), axis=1, result_type='expand')"
   ]
  },
  {
   "cell_type": "code",
   "execution_count": null,
   "metadata": {},
   "outputs": [],
   "source": [
    "df_subs.loc[2, :]"
   ]
  },
  {
   "cell_type": "code",
   "execution_count": null,
   "metadata": {
    "scrolled": false
   },
   "outputs": [],
   "source": [
    "df_subs"
   ]
  },
  {
   "cell_type": "markdown",
   "metadata": {},
   "source": [
    "---\n",
    "### Возвращаемся к исходному датасету и применяем разработанные функции\n",
    "---"
   ]
  },
  {
   "cell_type": "code",
   "execution_count": null,
   "metadata": {},
   "outputs": [],
   "source": [
    "df.apply(lambda row: stats_counter(row), axis=1)"
   ]
  },
  {
   "cell_type": "code",
   "execution_count": null,
   "metadata": {},
   "outputs": [],
   "source": [
    "df[['symbols', 'words', 'images', 'videos', 'links', 'audio', 'total_mediacontent', 'hashtags']] = \\\n",
    "df.apply(lambda row: stats_counter(row), axis=1, result_type='expand')"
   ]
  },
  {
   "cell_type": "code",
   "execution_count": null,
   "metadata": {},
   "outputs": [],
   "source": [
    "df.head()"
   ]
  },
  {
   "cell_type": "code",
   "execution_count": null,
   "metadata": {},
   "outputs": [],
   "source": [
    "df.tail()"
   ]
  },
  {
   "cell_type": "code",
   "execution_count": null,
   "metadata": {},
   "outputs": [],
   "source": [
    "etalon_set = {\"media\", \"delimiter\", \"link\", \"header\", \"text\", \"video\", \"list\", \"telegram\", \"quote\", \n",
    "              \"tweet\", \"audio\", \"incut\", \"number\", \"instagram\", \"quiz\", \"warning\", \"spotify\", \"person\"}"
   ]
  },
  {
   "cell_type": "code",
   "execution_count": null,
   "metadata": {
    "scrolled": true
   },
   "outputs": [],
   "source": [
    "df.loc[:, 'exotic_media_type'] = df.apply(lambda row: row.media_content_types - etalon_set, axis=1)\n",
    "df.loc[:, 'exotic_media_type'] = df['exotic_media_type'].apply(lambda row: row if len(row) != 0 else 0)"
   ]
  },
  {
   "cell_type": "code",
   "execution_count": null,
   "metadata": {},
   "outputs": [],
   "source": [
    "df['exotic_media_type'].explode().unique() "
   ]
  },
  {
   "cell_type": "code",
   "execution_count": null,
   "metadata": {
    "scrolled": false
   },
   "outputs": [],
   "source": [
    "df[df['exotic_media_type'] != 0]"
   ]
  },
  {
   "cell_type": "code",
   "execution_count": null,
   "metadata": {},
   "outputs": [],
   "source": [
    "df.drop(columns=['exotic_media_type'], inplace=True)"
   ]
  },
  {
   "cell_type": "markdown",
   "metadata": {},
   "source": [
    "### Спустя 5 итераций наконец-то учтён контент всех типов. \n",
    "### Актуально на 14.03.2021. \n",
    "\n",
    "При выгрузке нового датасета стоит проверять появление новых видов контента."
   ]
  },
  {
   "cell_type": "markdown",
   "metadata": {},
   "source": [
    "### Перевод camel-style в snake-style названий столбцов датафрейма"
   ]
  },
  {
   "cell_type": "markdown",
   "metadata": {},
   "source": [
    "https://stackoverflow.com/questions/1175208/elegant-python-function-to-convert-camelcase-to-snake-case"
   ]
  },
  {
   "cell_type": "code",
   "execution_count": null,
   "metadata": {},
   "outputs": [],
   "source": [
    "df.columns"
   ]
  },
  {
   "cell_type": "code",
   "execution_count": null,
   "metadata": {},
   "outputs": [],
   "source": [
    "def camel_to_snake(name):\n",
    "#     re.sub used\n",
    "    name = sub('(.)([A-Z][a-z]+)', r'\\1_\\2', name) \n",
    "    return sub('([a-z0-9])([A-Z])', r'\\1_\\2', name).lower()"
   ]
  },
  {
   "cell_type": "code",
   "execution_count": null,
   "metadata": {},
   "outputs": [],
   "source": [
    "df.columns = df.columns.to_series().apply(camel_to_snake)\n",
    "df.columns"
   ]
  },
  {
   "cell_type": "markdown",
   "metadata": {},
   "source": [
    "# Exploratory Data Analysis\n",
    "\n",
    "Разведочный анализ данных, визуализации, статистические исследования"
   ]
  },
  {
   "cell_type": "markdown",
   "metadata": {},
   "source": [
    "Что можно сделать или проверить?\n",
    "\n",
    "- Построить диаграммы рассеивания для параметров: лайки, кол-во медиаконтента, просмотры, комментарии\n",
    "\n",
    "- Посмотреть корреляции между величинами\n",
    "\n",
    "- Посчитать базовые описательные статистики: количество, средние \n",
    "\n",
    "- Кто написал максимальное количество статей?\n",
    "\n",
    "- У кого самые популярные статьи? Критерии оценки: кол-во комментариев, просмотров, лайков.\n",
    "\n",
    "- Посмотреть на описательные статистики по дням недели или по неделям\n",
    "\n",
    "- Построить распределение длины постов: Кол-во постов в % от длины символов"
   ]
  },
  {
   "cell_type": "code",
   "execution_count": null,
   "metadata": {},
   "outputs": [],
   "source": [
    "df.head()"
   ]
  },
  {
   "cell_type": "code",
   "execution_count": null,
   "metadata": {},
   "outputs": [],
   "source": [
    "df.info()"
   ]
  },
  {
   "cell_type": "markdown",
   "metadata": {},
   "source": [
    "### Удалённые статьи"
   ]
  },
  {
   "cell_type": "code",
   "execution_count": null,
   "metadata": {},
   "outputs": [],
   "source": [
    "df[df.title == 'Статья удалена']"
   ]
  },
  {
   "cell_type": "code",
   "execution_count": null,
   "metadata": {},
   "outputs": [],
   "source": [
    "print(df[df.title == 'Статья удалена'].shape)\n",
    "print(df[df.title == 'Статья удалена'].index)"
   ]
  },
  {
   "cell_type": "code",
   "execution_count": null,
   "metadata": {},
   "outputs": [],
   "source": [
    "df.drop(df[df.title == 'Статья удалена'].index, inplace=True)"
   ]
  },
  {
   "cell_type": "code",
   "execution_count": null,
   "metadata": {},
   "outputs": [],
   "source": [
    "df.shape"
   ]
  },
  {
   "cell_type": "markdown",
   "metadata": {},
   "source": [
    "### Хэштеги"
   ]
  },
  {
   "cell_type": "markdown",
   "metadata": {},
   "source": [
    "https://stackoverflow.com/questions/37125174/accessing-every-1st-element-of-pandas-dataframe-column-containing-lists"
   ]
  },
  {
   "cell_type": "code",
   "execution_count": null,
   "metadata": {},
   "outputs": [],
   "source": [
    "pd.Series([x for item in df.hashtags for x in item])"
   ]
  },
  {
   "cell_type": "code",
   "execution_count": null,
   "metadata": {},
   "outputs": [],
   "source": [
    "df.hashtags = df.hashtags.apply(lambda x: [str(i).split(']', 1)[0] for i in x])\n",
    "df.hashtags"
   ]
  },
  {
   "cell_type": "code",
   "execution_count": null,
   "metadata": {},
   "outputs": [],
   "source": [
    "hshtgs = pd.Series([x for item in df.hashtags for x in item])\n",
    "hshtgs.value_counts().head(30)"
   ]
  },
  {
   "cell_type": "code",
   "execution_count": null,
   "metadata": {},
   "outputs": [],
   "source": [
    "hshtgs.value_counts().index"
   ]
  },
  {
   "cell_type": "code",
   "execution_count": null,
   "metadata": {},
   "outputs": [],
   "source": [
    "plt.rcParams[\"figure.figsize\"] = [14, 20]\n",
    "\n",
    "my_cmap = plt.get_cmap(\"coolwarm\")\n",
    "rescale = lambda y: (y - np.min(y)) / (np.max(y) - np.min(y))\n",
    "\n",
    "labels = hshtgs.value_counts().head(30).index[::-1]\n",
    "values = hshtgs.value_counts().head(30).values[::-1]\n",
    "\n",
    "height = 0.9\n",
    "plt.barh(y=labels, width=values, height=height, \n",
    "         color=my_cmap(rescale(values)), \n",
    "         align='center')\n",
    "\n",
    "for i, (label, value) in enumerate(zip(labels, values)):\n",
    "#     im = Image.open(requests.get(label, stream=True).raw)\n",
    "#     plt.imshow(im, extent=[value - 200, value - 20, i - height / 2.5, i + height / 2.5], aspect='auto', zorder=2)\n",
    "    plt.text(value + 1, i, '{:1.0f}'.format(value), ha = 'left', va = 'center')\n",
    "\n",
    "    \n",
    "plt.xlim(0, max(values) * 1.05)\n",
    "plt.ylim(-0.5, len(labels) - 0.5)\n",
    "plt.xlabel('Количество хэштегов', fontsize=16)\n",
    "plt.ylabel('Хэштеги', fontsize=16)\n",
    "plt.title('Топ-30 хэштегов по количеству использования', fontsize=22, pad=20)\n",
    "plt.grid(True, alpha=0.5)\n",
    "plt.tight_layout()\n",
    "\n",
    "# plt.savefig(PATH + \"Full_analysis/hashtags.png\", dpi=300, bbox_inches='tight')\n",
    "\n",
    "plt.show()"
   ]
  },
  {
   "cell_type": "markdown",
   "metadata": {},
   "source": [
    "### Дни недели"
   ]
  },
  {
   "cell_type": "code",
   "execution_count": null,
   "metadata": {},
   "outputs": [],
   "source": [
    "df.set_index('date', inplace=True)\n",
    "df.index = pd.to_datetime(df.index)"
   ]
  },
  {
   "cell_type": "code",
   "execution_count": null,
   "metadata": {},
   "outputs": [],
   "source": [
    "df[\"hour\"] = df.index.hour\n",
    "df[\"month\"] = df.index.month\n",
    "df[\"weekday\"] = df.index.day_name() #.weekday\n",
    "df['is_weekend'] = df.weekday.isin(['Saturday',  'Sunday'])*1"
   ]
  },
  {
   "cell_type": "code",
   "execution_count": null,
   "metadata": {
    "scrolled": false
   },
   "outputs": [],
   "source": [
    "df.head()"
   ]
  },
  {
   "cell_type": "code",
   "execution_count": null,
   "metadata": {},
   "outputs": [],
   "source": [
    "df.sort_index(inplace=True)"
   ]
  },
  {
   "cell_type": "code",
   "execution_count": null,
   "metadata": {},
   "outputs": [],
   "source": [
    "df.head(15)"
   ]
  },
  {
   "cell_type": "code",
   "execution_count": null,
   "metadata": {},
   "outputs": [],
   "source": [
    "subset_posts = df.resample('D').apply({'id':'count'})"
   ]
  },
  {
   "cell_type": "code",
   "execution_count": null,
   "metadata": {},
   "outputs": [],
   "source": [
    "subset_posts = subset_posts[subset_posts.index > '2020-07-14']"
   ]
  },
  {
   "cell_type": "code",
   "execution_count": null,
   "metadata": {},
   "outputs": [],
   "source": [
    "subset_posts.head()"
   ]
  },
  {
   "cell_type": "code",
   "execution_count": null,
   "metadata": {},
   "outputs": [],
   "source": [
    "sns.set_theme()"
   ]
  },
  {
   "cell_type": "code",
   "execution_count": null,
   "metadata": {},
   "outputs": [],
   "source": [
    "plt.figure(figsize=(15, 7))\n",
    "sns.lineplot(data=subset_posts, x=subset_posts.index, y=subset_posts.id)\n",
    "plt.title('Количество постов (ежедневно)')\n",
    "plt.ylabel('Количество публикаций')\n",
    "plt.xlabel('Дата')\n",
    "plt.grid(True)\n",
    "# plt.savefig(PATH + \"Full_analysis/posts_by_day_din.png\", dpi=300, bbox_inches='tight')"
   ]
  },
  {
   "cell_type": "code",
   "execution_count": null,
   "metadata": {},
   "outputs": [],
   "source": [
    "subset_com = df.resample('D').apply({'comments_count':'sum'})\n",
    "subset_com = subset_com[subset_com.index > '2020-07-14']"
   ]
  },
  {
   "cell_type": "code",
   "execution_count": null,
   "metadata": {},
   "outputs": [],
   "source": [
    "plt.figure(figsize=(15, 7))\n",
    "sns.lineplot(data=subset_com, x=subset_com.index, y=subset_com.comments_count)\n",
    "plt.title('Количество комментариев (ежедневно)')\n",
    "plt.ylabel('Количество комментариев')\n",
    "plt.xlabel('Дата')\n",
    "plt.grid(True)\n",
    "# plt.savefig(PATH + \"Full_analysis/comments_by_day_din.png\", dpi=300, bbox_inches='tight')"
   ]
  },
  {
   "cell_type": "markdown",
   "metadata": {},
   "source": [
    "https://stackoverflow.com/questions/42473304/how-do-i-group-rows-by-month-in-a-pandas-dataframe"
   ]
  },
  {
   "cell_type": "code",
   "execution_count": null,
   "metadata": {},
   "outputs": [],
   "source": [
    "df['period'] = df.index.to_period('M')"
   ]
  },
  {
   "cell_type": "code",
   "execution_count": null,
   "metadata": {},
   "outputs": [],
   "source": [
    "sns.boxplot(data=df[df.is_repost == False], x = 'period', y='hits_count')"
   ]
  },
  {
   "cell_type": "markdown",
   "metadata": {},
   "source": [
    "### Немного поиграем с временными рядами"
   ]
  },
  {
   "cell_type": "code",
   "execution_count": null,
   "metadata": {},
   "outputs": [],
   "source": [
    "plt.figure(figsize=(12, 6))\n",
    "plt.plot(df.hits_count)\n",
    "plt.grid(True)\n",
    "plt.show()"
   ]
  },
  {
   "cell_type": "code",
   "execution_count": null,
   "metadata": {},
   "outputs": [],
   "source": [
    "df.groupby(['weekday'])['id'].count().values"
   ]
  },
  {
   "cell_type": "code",
   "execution_count": null,
   "metadata": {},
   "outputs": [],
   "source": [
    "df.weekday.value_counts().values"
   ]
  },
  {
   "cell_type": "code",
   "execution_count": null,
   "metadata": {},
   "outputs": [],
   "source": [
    "df.weekday.value_counts().sort_index()"
   ]
  },
  {
   "cell_type": "code",
   "execution_count": null,
   "metadata": {},
   "outputs": [],
   "source": [
    "df.groupby(['weekday']).count()"
   ]
  },
  {
   "cell_type": "code",
   "execution_count": null,
   "metadata": {},
   "outputs": [],
   "source": [
    "# sns.barplot(x=df.weekday.value_counts().index, y=df.groupby(['weekday'])['id'].count().values)"
   ]
  },
  {
   "cell_type": "markdown",
   "metadata": {},
   "source": [
    "https://stackoverflow.com/questions/16180946/drawing-average-line-in-histogram-matplotlib"
   ]
  },
  {
   "cell_type": "code",
   "execution_count": null,
   "metadata": {},
   "outputs": [],
   "source": [
    "df.groupby(\"weekday\")[\"id\"].count().mean()"
   ]
  },
  {
   "cell_type": "code",
   "execution_count": null,
   "metadata": {},
   "outputs": [],
   "source": [
    "from pandas.api.types import CategoricalDtype\n",
    "\n",
    "plt.figure(figsize=(14, 8))\n",
    "\n",
    "cats = ['Monday', 'Tuesday', 'Wednesday', 'Thursday', 'Friday', 'Saturday', 'Sunday']\n",
    "cat_type = CategoricalDtype(categories=cats, ordered=True)\n",
    "df['weekday'] = df['weekday'].astype(cat_type)\n",
    "\n",
    "sns.set_palette('hls')\n",
    "\n",
    "ax = sns.barplot(data=df, x=df.groupby(\"weekday\")[\"id\"].count().sort_index().index, \n",
    "            y=df.groupby(\"weekday\")[\"id\"].count().sort_index().values)\n",
    "\n",
    "\n",
    "\n",
    "for p in ax.patches:\n",
    "    ax.annotate(\"%.1d\" % p.get_height(), (p.get_x() + p.get_width() / 2., p.get_height()),\n",
    "                 ha='center', va='center', fontsize=12, color='gray', xytext=(0, 10),\n",
    "                 textcoords='offset points')  \n",
    "\n",
    "plt.axhline(df.groupby(\"weekday\")[\"id\"].count().mean(), color='#ff6666', linestyle='-', linewidth=2)    \n",
    "plt.text(5.0, df.groupby(\"weekday\")[\"id\"].count().mean()*1.03, \n",
    "         'Среднее: {:.0f}'.format(df.groupby(\"weekday\")[\"id\"].count().mean()), color='#ff6666', fontsize=20)\n",
    "plt.axhline(df.groupby(\"weekday\")[\"id\"].count().mean() + df.groupby(\"weekday\")[\"id\"].count().std(), \n",
    "            color='#ff6666', linestyle='--', linewidth=2)\n",
    "plt.axhline(df.groupby(\"weekday\")[\"id\"].count().mean() - df.groupby(\"weekday\")[\"id\"].count().std(), \n",
    "            color='#ff6666', linestyle='--', linewidth=2)\n",
    "        \n",
    "ax.set_title('Количество постов, сгруппированное по дням недели', fontsize=18, pad=20)\n",
    "ax.set_xlabel('День недели', fontsize='16')\n",
    "ax.set_ylabel('Количество статей', fontsize='16');\n",
    "\n",
    "# plt.savefig(PATH + \"Full_analysis/posts_by_day_sum.png\", dpi=300, bbox_inches='tight')"
   ]
  },
  {
   "cell_type": "markdown",
   "metadata": {},
   "source": [
    "### Возвращаемся к EDA"
   ]
  },
  {
   "cell_type": "code",
   "execution_count": null,
   "metadata": {},
   "outputs": [],
   "source": [
    "df.reset_index(inplace=True)\n",
    "df.head()"
   ]
  },
  {
   "cell_type": "code",
   "execution_count": null,
   "metadata": {},
   "outputs": [],
   "source": [
    "df.shape"
   ]
  },
  {
   "cell_type": "code",
   "execution_count": null,
   "metadata": {},
   "outputs": [],
   "source": [
    "df.groupby(['is_repost']).agg({'id': \"count\"})"
   ]
  },
  {
   "cell_type": "code",
   "execution_count": null,
   "metadata": {},
   "outputs": [],
   "source": [
    "df.groupby(['is_repost']).agg({'id': \"count\"})['id']"
   ]
  },
  {
   "cell_type": "code",
   "execution_count": null,
   "metadata": {},
   "outputs": [],
   "source": [
    "tmp = df.groupby(['is_repost', 'author_type'], as_index=False).agg({'id': \"count\"})\n",
    "tmp"
   ]
  },
  {
   "cell_type": "code",
   "execution_count": null,
   "metadata": {},
   "outputs": [],
   "source": [
    "from matplotlib import gridspec\n",
    "\n",
    "def func(pct, allvals):\n",
    "    absolute = round(pct/100.*np.sum(allvals))\n",
    "    return \"{:.1f}%\\n{:d} posts\".format(pct, absolute)\n",
    "\n",
    "fig=plt.figure(figsize=(14,10))\n",
    "gs1 = gridspec.GridSpec(1,1,\n",
    "    left=0.1,right=0.7,\n",
    "    bottom=0.1,top=0.7,\n",
    ")\n",
    "# gs2 = gridspec.GridSpec(1,1,\n",
    "#     left=0.05,right=0.95,\n",
    "#     bottom=0.9,top=1.0,\n",
    "# )\n",
    "\n",
    "pie_ax=fig.add_subplot(gs1[0])\n",
    "# title_ax=fig.add_subplot(gs2[0])\n",
    "\n",
    "# Create a list of colors (from iWantHue)\n",
    "colors = ['#ff9999','#66b3ff','#99ff99','#ffcc99']\n",
    "labels = ['Пост подсайта \\nАвтор - пользователь', 'Пост подсайта \\nАвтор - подсайт', \n",
    "          'Репост \\nАвтор - пользователь', 'Репост \\nАвтор - подсайт']# tmp.author_type.values  \n",
    "\n",
    "# Create a pie chart\n",
    "wedges = pie_ax.pie(\n",
    "    tmp['id'],\n",
    "    shadow=False,\n",
    "    colors=colors, \n",
    "    startangle=45, #frame=True, \n",
    "    autopct=lambda pct: func(pct, tmp['id']), \n",
    "    explode=(0, 0.05, 0.05, 0.05)\n",
    ")\n",
    "\n",
    "bbox_props = dict(boxstyle=\"square,pad=0.3\", fc=\"w\", ec=\"k\", lw=0.72)\n",
    "kw = dict(xycoords='data', textcoords='data', arrowprops=dict(arrowstyle=\"-\"), zorder=0, va=\"center\")\n",
    "\n",
    "for i, p in enumerate(wedges[0]):\n",
    "    ang = (p.theta2 - p.theta1)/2. + p.theta1\n",
    "    y = np.sin(np.deg2rad(ang))\n",
    "    x = np.cos(np.deg2rad(ang))\n",
    "    horizontalalignment = {-1: \"right\", 1: \"left\"}[int(np.sign(x))]\n",
    "    connectionstyle = \"angle,angleA=0,angleB={}\".format(ang)\n",
    "    kw[\"arrowprops\"].update({\"connectionstyle\": connectionstyle,\n",
    "                             \"color\":colors[i]\n",
    "#                              \"color\":'b'\n",
    "                            })\n",
    "    pie_ax.annotate(labels[i], xy=(x, y), xytext=(1.25*np.sign(x), 1.4*y),\n",
    "                 horizontalalignment=horizontalalignment, **kw)\n",
    "\n",
    "\n",
    "centre_circle = plt.Circle((0,0), 0.8, color='black', fc='white',linewidth=0)\n",
    "fig = plt.gcf()\n",
    "fig.gca().add_artist(centre_circle)\n",
    "\n",
    "plt.title('Общее количество постов', fontsize=22, pad=20)\n",
    "\n",
    "plt.axis('equal')\n",
    "\n",
    "# plt.savefig(PATH + \"Full_analysis/posts.png\", dpi=300, bbox_inches='tight')\n",
    "\n",
    "plt.show()"
   ]
  },
  {
   "cell_type": "code",
   "execution_count": null,
   "metadata": {},
   "outputs": [],
   "source": [
    "# sns.set_theme()\n",
    "# sns.set_palette(\"husl\")\n",
    "\n",
    "# labels = 'Статья подсайта', 'Репост'\n",
    "# sizes = df.groupby(['isRepost']).agg({'id': \"count\"})['id'].values\n",
    "# explode = (0, 0.1)  \n",
    "\n",
    "# fig1, ax1 = plt.subplots()\n",
    "# ax1.pie(sizes, explode=explode, labels=labels, autopct='%1.1f%%',\n",
    "#         shadow=True, startangle=90)\n",
    "\n",
    "# ax1.axis('equal')  \n",
    "# plt.show()"
   ]
  },
  {
   "cell_type": "code",
   "execution_count": null,
   "metadata": {},
   "outputs": [],
   "source": [
    "sns.set_theme()"
   ]
  },
  {
   "cell_type": "code",
   "execution_count": null,
   "metadata": {},
   "outputs": [],
   "source": [
    "tmp = df.groupby(['is_repost', 'author_type'], as_index=False).agg({'comments_count': \"sum\"})\n",
    "tmp"
   ]
  },
  {
   "cell_type": "code",
   "execution_count": null,
   "metadata": {},
   "outputs": [],
   "source": [
    "sns.set_palette(\"tab10\")"
   ]
  },
  {
   "cell_type": "code",
   "execution_count": null,
   "metadata": {
    "scrolled": false
   },
   "outputs": [],
   "source": [
    "from matplotlib import gridspec\n",
    "\n",
    "def func(pct, allvals):\n",
    "    absolute = round(pct/100.*np.sum(allvals))\n",
    "    return \"{:.1f}%\\n{:d} comments\".format(pct, absolute)\n",
    "\n",
    "fig=plt.figure(figsize=(14,10))\n",
    "gs1 = gridspec.GridSpec(1,1,\n",
    "    left=0.1,right=0.7,\n",
    "    bottom=0.1,top=0.7,\n",
    ")\n",
    "# gs2 = gridspec.GridSpec(1,1,\n",
    "#     left=0.05,right=0.95,\n",
    "#     bottom=0.9,top=1.0,\n",
    "# )\n",
    "\n",
    "pie_ax=fig.add_subplot(gs1[0])\n",
    "# title_ax=fig.add_subplot(gs2[0])\n",
    "\n",
    "# Create a list of colors (from iWantHue)\n",
    "# colors = ['#66b3ff', '#ffcc99', '#99ff99', '#ff6666']\n",
    "labels = ['Пост подсайта \\nАвтор - пользователь', 'Пост подсайта \\nАвтор - подсайт', \n",
    "          'Репост \\nАвтор - пользователь', 'Репост \\nАвтор - подсайт']# tmp.author_type.values  \n",
    "\n",
    "# Create a pie chart\n",
    "wedges = pie_ax.pie(\n",
    "    tmp['comments_count'],\n",
    "    shadow=False,\n",
    "#     colors=colors, \n",
    "    startangle=45, #frame=True, \n",
    "    autopct=lambda pct: func(pct, tmp['comments_count']), \n",
    "    explode=(0, 0.05, 0.05, 0.05)\n",
    ")\n",
    "\n",
    "bbox_props = dict(boxstyle=\"square,pad=0.3\", fc=\"w\", ec=\"k\", lw=0.72)\n",
    "kw = dict(xycoords='data', textcoords='data', arrowprops=dict(arrowstyle=\"-\"), zorder=0, va=\"center\")\n",
    "\n",
    "for i, p in enumerate(wedges[0]):\n",
    "    ang = (p.theta2 - p.theta1)/2. + p.theta1\n",
    "    y = np.sin(np.deg2rad(ang))\n",
    "    x = np.cos(np.deg2rad(ang))\n",
    "    horizontalalignment = {-1: \"right\", 1: \"left\"}[int(np.sign(x))]\n",
    "    connectionstyle = \"angle,angleA=0,angleB={}\".format(ang)\n",
    "    kw[\"arrowprops\"].update({\"connectionstyle\": connectionstyle,\n",
    "#                              \"color\":colors[i]\n",
    "                            \"color\":'k'\n",
    "                            })\n",
    "    pie_ax.annotate(labels[i], xy=(x, y), xytext=(1.25*np.sign(x), 1.4*y),\n",
    "                 horizontalalignment=horizontalalignment, **kw)\n",
    "\n",
    "\n",
    "centre_circle = plt.Circle((0,0), 0.3, color='black', fc='white',linewidth=0)\n",
    "fig = plt.gcf()\n",
    "fig.gca().add_artist(centre_circle)\n",
    "\n",
    "plt.title('Общее количество комментариев у публикаций', fontsize=22, pad=20)\n",
    "\n",
    "plt.axis('equal')\n",
    "\n",
    "# plt.savefig(PATH + \"Full_analysis/posts.png\", dpi=300, bbox_inches='tight')\n",
    "\n",
    "plt.show()"
   ]
  },
  {
   "cell_type": "code",
   "execution_count": null,
   "metadata": {},
   "outputs": [],
   "source": [
    "tmp = df.groupby(['is_repost'], as_index=False).agg({'hits_count': \"sum\"})\n",
    "tmp"
   ]
  },
  {
   "cell_type": "code",
   "execution_count": null,
   "metadata": {},
   "outputs": [],
   "source": [
    "sns.set_palette(\"husl\", 2)\n",
    "\n",
    "def func(pct, allvals):\n",
    "    absolute = round(pct/100.*np.sum(allvals))\n",
    "    return \"{:.1f}%\\n{:d} просмотров\".format(pct, absolute)\n",
    "\n",
    "fig=plt.figure(figsize=(14,10))\n",
    "gs1 = gridspec.GridSpec(1,1,\n",
    "    left=0.1,right=0.7,\n",
    "    bottom=0.1,top=0.7,\n",
    ")\n",
    "# gs2 = gridspec.GridSpec(1,1,\n",
    "#     left=0.05,right=0.95,\n",
    "#     bottom=0.9,top=1.0,\n",
    "# )\n",
    "\n",
    "pie_ax=fig.add_subplot(gs1[0])\n",
    "# title_ax=fig.add_subplot(gs2[0])\n",
    "\n",
    "# Create a list of colors (from iWantHue)\n",
    "# colors = ['#66b3ff', '#ffcc99', '#99ff99', '#ff6666']\n",
    "labels = ['Пост подсайта \\nПросмотры',  \n",
    "          'Репост \\nПросмотры', ]\n",
    "\n",
    "# Create a pie chart\n",
    "wedges = pie_ax.pie(\n",
    "    tmp['hits_count'],\n",
    "    shadow=False,\n",
    "#     colors=colors, \n",
    "    startangle=45, #frame=True, \n",
    "    autopct=lambda pct: func(pct, tmp['hits_count']), \n",
    "    explode=(0, 0.05)\n",
    ")\n",
    "\n",
    "bbox_props = dict(boxstyle=\"square,pad=0.3\", fc=\"w\", ec=\"k\", lw=0.72)\n",
    "kw = dict(xycoords='data', textcoords='data', arrowprops=dict(arrowstyle=\"-\"), zorder=0, va=\"center\")\n",
    "\n",
    "for i, p in enumerate(wedges[0]):\n",
    "    ang = (p.theta2 - p.theta1)/2. + p.theta1\n",
    "    y = np.sin(np.deg2rad(ang))\n",
    "    x = np.cos(np.deg2rad(ang))\n",
    "    horizontalalignment = {-1: \"right\", 1: \"left\"}[int(np.sign(x))]\n",
    "    connectionstyle = \"angle,angleA=0,angleB={}\".format(ang)\n",
    "    kw[\"arrowprops\"].update({\"connectionstyle\": connectionstyle,\n",
    "#                              \"color\":colors[i]\n",
    "                            \"color\":'k'\n",
    "                            })\n",
    "    pie_ax.annotate(labels[i], xy=(x, y), xytext=(1.25*np.sign(x), 1.4*y),\n",
    "                 horizontalalignment=horizontalalignment, **kw)\n",
    "\n",
    "\n",
    "centre_circle = plt.Circle((0,0), 0.25, color='black', fc='white',linewidth=0)\n",
    "fig = plt.gcf()\n",
    "fig.gca().add_artist(centre_circle)\n",
    "\n",
    "plt.title('Общее количество просмотров у публикаций', fontsize=22, pad=20)\n",
    "\n",
    "plt.axis('equal')\n",
    "\n",
    "# plt.savefig(PATH + \"Full_analysis/hits.png\", dpi=300, bbox_inches='tight')\n",
    "\n",
    "plt.show()"
   ]
  },
  {
   "cell_type": "code",
   "execution_count": null,
   "metadata": {},
   "outputs": [],
   "source": [
    "tmp = df.groupby(['is_repost'], as_index=False).agg({'favorites_count': \"sum\"})\n",
    "tmp"
   ]
  },
  {
   "cell_type": "code",
   "execution_count": null,
   "metadata": {},
   "outputs": [],
   "source": [
    "sns.set_palette(\"hls\", 4)\n",
    "\n",
    "def func(pct, allvals):\n",
    "    absolute = round(pct/100.*np.sum(allvals))\n",
    "    return \"{:.1f}%\\n{:d} ДвЗ\".format(pct, absolute)\n",
    "\n",
    "fig=plt.figure(figsize=(14,10))\n",
    "gs1 = gridspec.GridSpec(1,1,\n",
    "    left=0.1,right=0.7,\n",
    "    bottom=0.1,top=0.7,\n",
    ")\n",
    "# gs2 = gridspec.GridSpec(1,1,\n",
    "#     left=0.05,right=0.95,\n",
    "#     bottom=0.9,top=1.0,\n",
    "# )\n",
    "\n",
    "pie_ax=fig.add_subplot(gs1[0])\n",
    "# title_ax=fig.add_subplot(gs2[0])\n",
    "\n",
    "# Create a list of colors (from iWantHue)\n",
    "# colors = ['#66b3ff', '#ffcc99', '#99ff99', '#ff6666']\n",
    "labels = ['Пост подсайта \\nДобавлений в закладки',  \n",
    "          'Репост \\nДобавлений в закладки', ]\n",
    "\n",
    "# Create a pie chart\n",
    "wedges = pie_ax.pie(\n",
    "    tmp['favorites_count'],\n",
    "    shadow=False,\n",
    "#     colors=colors, \n",
    "    startangle=45, #frame=True, \n",
    "    autopct=lambda pct: func(pct, tmp['favorites_count']), \n",
    "    explode=(0, 0.05)\n",
    ")\n",
    "\n",
    "bbox_props = dict(boxstyle=\"square,pad=0.3\", fc=\"w\", ec=\"k\", lw=0.72)\n",
    "kw = dict(xycoords='data', textcoords='data', arrowprops=dict(arrowstyle=\"-\"), zorder=0, va=\"center\")\n",
    "\n",
    "for i, p in enumerate(wedges[0]):\n",
    "    ang = (p.theta2 - p.theta1)/2. + p.theta1\n",
    "    y = np.sin(np.deg2rad(ang))\n",
    "    x = np.cos(np.deg2rad(ang))\n",
    "    horizontalalignment = {-1: \"right\", 1: \"left\"}[int(np.sign(x))]\n",
    "    connectionstyle = \"angle,angleA=0,angleB={}\".format(ang)\n",
    "    kw[\"arrowprops\"].update({\"connectionstyle\": connectionstyle,\n",
    "#                              \"color\":colors[i]\n",
    "                            \"color\":'k'\n",
    "                            })\n",
    "    pie_ax.annotate(labels[i], xy=(x, y), xytext=(1.25*np.sign(x), 1.4*y),\n",
    "                 horizontalalignment=horizontalalignment, **kw)\n",
    "\n",
    "\n",
    "centre_circle = plt.Circle((0,0), 0.85, color='black', fc='white',linewidth=0)\n",
    "fig = plt.gcf()\n",
    "fig.gca().add_artist(centre_circle)\n",
    "\n",
    "plt.title('Общее количество добавлений в закладки у публикаций', fontsize=22, pad=20)\n",
    "\n",
    "plt.axis('equal')\n",
    "\n",
    "# plt.savefig(PATH + \"Full_analysis/favs.png\", dpi=300, bbox_inches='tight')\n",
    "\n",
    "plt.show()"
   ]
  },
  {
   "cell_type": "code",
   "execution_count": null,
   "metadata": {},
   "outputs": [],
   "source": [
    "tmp = df.groupby(['is_repost', 'author_type'], as_index=False).agg({'likes': \"sum\"})\n",
    "tmp"
   ]
  },
  {
   "cell_type": "code",
   "execution_count": null,
   "metadata": {},
   "outputs": [],
   "source": [
    "sns.set_palette(\"icefire_r\")\n",
    "\n",
    "def func(pct, allvals):\n",
    "    absolute = round(pct/100.*np.sum(allvals))\n",
    "    return \"{:.1f}%\\n{:d} likes\".format(pct, absolute)\n",
    "\n",
    "fig=plt.figure(figsize=(14,10))\n",
    "gs1 = gridspec.GridSpec(1,1,\n",
    "    left=0.1,right=0.7,\n",
    "    bottom=0.1,top=0.7,\n",
    ")\n",
    "# gs2 = gridspec.GridSpec(1,1,\n",
    "#     left=0.05,right=0.95,\n",
    "#     bottom=0.9,top=1.0,\n",
    "# )\n",
    "\n",
    "pie_ax=fig.add_subplot(gs1[0])\n",
    "# title_ax=fig.add_subplot(gs2[0])\n",
    "\n",
    "# Create a list of colors (from iWantHue)\n",
    "# colors = ['#66b3ff', '#ffcc99', '#99ff99', '#ff6666']\n",
    "labels = ['Пост подсайта \\nАвтор - пользователь', 'Пост подсайта \\nАвтор - подсайт', \n",
    "          'Репост \\nАвтор - пользователь', 'Репост \\nАвтор - подсайт']# tmp.author_type.values  \n",
    "\n",
    "# Create a pie chart\n",
    "wedges = pie_ax.pie(\n",
    "    tmp['likes'],\n",
    "    shadow=False,\n",
    "#     colors=colors, \n",
    "    startangle=45, #frame=True, \n",
    "    autopct=lambda pct: func(pct, tmp['likes']), \n",
    "    explode=(0, 0.05, 0.05, 0.05)\n",
    ")\n",
    "\n",
    "bbox_props = dict(boxstyle=\"square,pad=0.3\", fc=\"w\", ec=\"k\", lw=0.72)\n",
    "kw = dict(xycoords='data', textcoords='data', arrowprops=dict(arrowstyle=\"-\"), zorder=0, va=\"center\")\n",
    "\n",
    "for i, p in enumerate(wedges[0]):\n",
    "    ang = (p.theta2 - p.theta1)/2. + p.theta1\n",
    "    y = np.sin(np.deg2rad(ang))\n",
    "    x = np.cos(np.deg2rad(ang))\n",
    "    horizontalalignment = {-1: \"right\", 1: \"left\"}[int(np.sign(x))]\n",
    "    connectionstyle = \"angle,angleA=0,angleB={}\".format(ang)\n",
    "    kw[\"arrowprops\"].update({\"connectionstyle\": connectionstyle,\n",
    "#                              \"color\":colors[i]\n",
    "                            \"color\":'k'\n",
    "                            })\n",
    "    pie_ax.annotate(labels[i], xy=(x, y), xytext=(1.25*np.sign(x), 1.4*y),\n",
    "                 horizontalalignment=horizontalalignment, **kw)\n",
    "\n",
    "\n",
    "centre_circle = plt.Circle((0,0), 0.85, color='black', fc='white',linewidth=0)\n",
    "fig = plt.gcf()\n",
    "fig.gca().add_artist(centre_circle)\n",
    "\n",
    "plt.title('Общее количество лайков у публикаций', fontsize=22, pad=20)\n",
    "\n",
    "plt.axis('equal')\n",
    "\n",
    "# plt.savefig(PATH + \"Full_analysis/likes.png\", dpi=300, bbox_inches='tight')\n",
    "\n",
    "plt.show()"
   ]
  },
  {
   "cell_type": "code",
   "execution_count": null,
   "metadata": {},
   "outputs": [],
   "source": [
    "tmp_symbols = df.groupby(['is_repost', 'author_type'], as_index=False).agg({'symbols': \"sum\"})\n",
    "tmp_symbols"
   ]
  },
  {
   "cell_type": "code",
   "execution_count": null,
   "metadata": {},
   "outputs": [],
   "source": [
    "sns.set_palette(\"husl\")\n",
    "\n",
    "def func(pct, allvals):\n",
    "    absolute = round(pct/100.*np.sum(allvals))\n",
    "    return \"{:.1f}%\\n{:d} символов\".format(pct, absolute)\n",
    "\n",
    "fig=plt.figure(figsize=(14,10))\n",
    "gs1 = gridspec.GridSpec(1,1,\n",
    "    left=0.1,right=0.7,\n",
    "    bottom=0.1,top=0.7,\n",
    ")\n",
    "# gs2 = gridspec.GridSpec(1,1,\n",
    "#     left=0.05,right=0.95,\n",
    "#     bottom=0.9,top=1.0,\n",
    "# )\n",
    "\n",
    "pie_ax=fig.add_subplot(gs1[0])\n",
    "# title_ax=fig.add_subplot(gs2[0])\n",
    "\n",
    "# Create a list of colors (from iWantHue)\n",
    "# colors = ['#66b3ff', '#ffcc99', '#99ff99', '#ff6666']\n",
    "labels = ['Пост подсайта \\nАвтор - пользователь', 'Пост подсайта \\nАвтор - подсайт', \n",
    "          'Репост \\nАвтор - пользователь', 'Репост \\nАвтор - подсайт']# tmp.author_type.values  \n",
    "\n",
    "# Create a pie chart\n",
    "wedges = pie_ax.pie(\n",
    "    tmp_symbols['symbols'],\n",
    "    shadow=False,\n",
    "#     colors=colors, \n",
    "    startangle=135, #frame=True, \n",
    "    autopct=lambda pct: func(pct, tmp_symbols['symbols']), \n",
    "    explode=(0, 0.05, 0, 0.05)\n",
    ")\n",
    "\n",
    "bbox_props = dict(boxstyle=\"square,pad=0.3\", fc=\"w\", ec=\"k\", lw=0.72)\n",
    "kw = dict(xycoords='data', textcoords='data', arrowprops=dict(arrowstyle=\"-\"), zorder=0, va=\"center\")\n",
    "\n",
    "for i, p in enumerate(wedges[0]):\n",
    "    ang = (p.theta2 - p.theta1)/2. + p.theta1\n",
    "    y = np.sin(np.deg2rad(ang))\n",
    "    x = np.cos(np.deg2rad(ang))\n",
    "    horizontalalignment = {-1: \"right\", 1: \"left\"}[int(np.sign(x))]\n",
    "    connectionstyle = \"angle,angleA=0,angleB={}\".format(ang)\n",
    "    kw[\"arrowprops\"].update({\"connectionstyle\": connectionstyle,\n",
    "#                              \"color\":colors[i]\n",
    "                            \"color\":'k'\n",
    "                            })\n",
    "    pie_ax.annotate(labels[i], xy=(x, y), xytext=(1.25*np.sign(x), 1.4*y),\n",
    "                 horizontalalignment=horizontalalignment, **kw)\n",
    "\n",
    "\n",
    "centre_circle = plt.Circle((0,0), 0.85, color='black', fc='white',linewidth=0)\n",
    "fig = plt.gcf()\n",
    "fig.gca().add_artist(centre_circle)\n",
    "\n",
    "plt.title('Общее количество символов в публикациях', fontsize=22, pad=26)\n",
    "\n",
    "plt.axis('equal')\n",
    "\n",
    "# plt.savefig(PATH + \"Full_analysis/symbols.png\", dpi=300, bbox_inches='tight')\n",
    "\n",
    "plt.show()"
   ]
  },
  {
   "cell_type": "code",
   "execution_count": null,
   "metadata": {},
   "outputs": [],
   "source": [
    "tmp_media = df.groupby(['is_repost', 'author_type'], as_index=False).agg({'total_mediacontent': \"sum\"})\n",
    "tmp_media"
   ]
  },
  {
   "cell_type": "code",
   "execution_count": null,
   "metadata": {},
   "outputs": [],
   "source": [
    "sns.set_palette(\"viridis_r\")\n",
    "\n",
    "def func(pct, allvals):\n",
    "    absolute = round(pct/100.*np.sum(allvals))\n",
    "    return \"{:.1f}%\\n{:d} medias\".format(pct, absolute)\n",
    "\n",
    "fig=plt.figure(figsize=(14,10))\n",
    "gs1 = gridspec.GridSpec(1,1,\n",
    "    left=0.1,right=0.7,\n",
    "    bottom=0.1,top=0.7,\n",
    ")\n",
    "# gs2 = gridspec.GridSpec(1,1,\n",
    "#     left=0.05,right=0.95,\n",
    "#     bottom=0.9,top=1.0,\n",
    "# )\n",
    "\n",
    "pie_ax=fig.add_subplot(gs1[0])\n",
    "# title_ax=fig.add_subplot(gs2[0])\n",
    "\n",
    "# Create a list of colors (from iWantHue)\n",
    "# colors = ['#66b3ff', '#ffcc99', '#99ff99', '#ff6666']\n",
    "labels = ['Пост подсайта \\nАвтор - пользователь', 'Пост подсайта \\nАвтор - подсайт', \n",
    "          'Репост \\nАвтор - пользователь', 'Репост \\nАвтор - подсайт']# tmp.author_type.values  \n",
    "\n",
    "# Create a pie chart\n",
    "wedges = pie_ax.pie(\n",
    "    tmp_media['total_mediacontent'],\n",
    "    shadow=False,\n",
    "#     colors=colors, \n",
    "    startangle=45, #frame=True, \n",
    "    autopct=lambda pct: func(pct, tmp_media['total_mediacontent']), \n",
    "    explode=(0, 0.05, 0.05, 0.05)\n",
    ")\n",
    "\n",
    "bbox_props = dict(boxstyle=\"square,pad=0.3\", fc=\"w\", ec=\"k\", lw=0.72)\n",
    "kw = dict(xycoords='data', textcoords='data', arrowprops=dict(arrowstyle=\"-\"), zorder=0, va=\"center\")\n",
    "\n",
    "for i, p in enumerate(wedges[0]):\n",
    "    ang = (p.theta2 - p.theta1)/2. + p.theta1\n",
    "    y = np.sin(np.deg2rad(ang))\n",
    "    x = np.cos(np.deg2rad(ang))\n",
    "    horizontalalignment = {-1: \"right\", 1: \"left\"}[int(np.sign(x))]\n",
    "    connectionstyle = \"angle,angleA=0,angleB={}\".format(ang)\n",
    "    kw[\"arrowprops\"].update({\"connectionstyle\": connectionstyle,\n",
    "#                              \"color\":colors[i]\n",
    "                            \"color\":'k'\n",
    "                            })\n",
    "    pie_ax.annotate(labels[i], xy=(x, y), xytext=(1.25*np.sign(x), 1.4*y),\n",
    "                 horizontalalignment=horizontalalignment, **kw)\n",
    "\n",
    "\n",
    "centre_circle = plt.Circle((0,0), 0.85, color='black', fc='white',linewidth=0)\n",
    "fig = plt.gcf()\n",
    "fig.gca().add_artist(centre_circle)\n",
    "\n",
    "plt.title('Общее количество единиц медиконтента в публикациях', fontsize=22, pad=26)\n",
    "\n",
    "plt.axis('equal')\n",
    "\n",
    "# plt.savefig(PATH + \"Full_analysis/medias.png\", dpi=300, bbox_inches='tight')\n",
    "\n",
    "plt.show()"
   ]
  },
  {
   "cell_type": "code",
   "execution_count": null,
   "metadata": {},
   "outputs": [],
   "source": []
  },
  {
   "cell_type": "code",
   "execution_count": null,
   "metadata": {},
   "outputs": [],
   "source": [
    "print(len(df.author_name.unique()))\n",
    "print(len(df[df.is_repost == False].author_name.unique()))\n",
    "print(len(df[df.is_repost == True].author_name.unique()))"
   ]
  },
  {
   "cell_type": "code",
   "execution_count": null,
   "metadata": {},
   "outputs": [],
   "source": [
    "author_set_post = set(df[df.is_repost == False].author_name.unique())\n",
    "author_set_repost = set(df[df.is_repost == True].author_name.unique())"
   ]
  },
  {
   "cell_type": "markdown",
   "metadata": {},
   "source": [
    "#### Venn diagram\n",
    "\n",
    "https://pypi.org/project/matplotlib-venn/\n",
    "    \n",
    "https://stackoverflow.com/questions/55622820/python-venn-diagram-actual-label\n",
    "\n",
    "https://stackoverflow.com/questions/55717203/plot-actual-set-items-in-python-not-the-number-of-items/55718006#55718006\n",
    "\n",
    "https://stackoverflow.com/questions/42855256/python-venn-diagram-how-to-show-the-diagram-contents\n",
    "\n",
    "https://stackoverflow.com/questions/46224235/matplotlib-venn-diagram-with-legend\n",
    "\n",
    "https://stackoverflow.com/questions/51052573/matplotlib-venn-changing-what-is-displayed-inside-the-venn-diagram\n",
    "\n",
    "https://stackoverflow.com/questions/19841535/python-matplotlib-venn-diagram"
   ]
  },
  {
   "cell_type": "code",
   "execution_count": null,
   "metadata": {
    "scrolled": false
   },
   "outputs": [],
   "source": [
    "# Plotting Venn diagramm\n",
    "from matplotlib_venn import venn2\n",
    "plt.figure(figsize=(14,8))\n",
    "\n",
    "venn = venn2([author_set_post, author_set_repost], ('Авторы подсайта', 'Авторы репостов'))\n",
    "\n",
    "# venn.get_label_by_id('100').set_text('\\n'.join(map(str, author_set_post-author_set_repost)))\n",
    "# venn.get_label_by_id('110').set_text('\\n'.join(map(str, author_set_post&author_set_repost)))\n",
    "# venn.get_label_by_id('010').set_text('\\n'.join(map(str, author_set_repost-author_set_post)))\n",
    "\n",
    "plt.title('Количество уникальных авторов', fontsize=22)\n",
    "\n",
    "# plt.savefig(PATH + \"Full_analysis/authors_venn.png\", dpi=300, bbox_inches='tight')\n",
    "\n",
    "plt.show()"
   ]
  },
  {
   "cell_type": "code",
   "execution_count": null,
   "metadata": {},
   "outputs": [],
   "source": [
    "# feature_cols = ['comments_count', 'favorites_count', 'hits_count', 'likes', 'symbols', 'words', \n",
    "#                 'images', 'videos', 'links', 'audio', 'total_mediacontent']"
   ]
  },
  {
   "cell_type": "code",
   "execution_count": null,
   "metadata": {},
   "outputs": [],
   "source": [
    "# fig, axs = plt.subplots(ncols = 3,nrows = 1, figsize = (36,8.5))\n",
    "# for i,j in enumerate(feature_cols[0:3]):\n",
    "#     df_sum = df.groupby([j],as_index = False).sum()\n",
    "#     sns.barplot(x = j, y = \"likes\", ax = axs[i],\n",
    "#                 data = df_sum,orient = \"v\", \n",
    "#                 order=df_sum.sort_values('likes', ascending = False)[j],\n",
    "#                 palette = \"mako\")\n",
    "# fig.suptitle(\"likes\", fontsize=30)\n",
    "\n",
    "# fig, axs = plt.subplots(ncols = 8,nrows = 1, figsize = (36,5))\n",
    "# for i,j in enumerate(feature_cols[3:11]):\n",
    "#     df_sum = df.groupby([j],as_index = False).sum()\n",
    "#     sns.barplot(x = j, y = \"likes\", ax = axs[i],\n",
    "#                 data = df_sum,orient = \"v\", \n",
    "#                 order=df_sum.sort_values('likes',ascending = False)[j],\n",
    "#                 palette = \"mako\")"
   ]
  },
  {
   "cell_type": "code",
   "execution_count": null,
   "metadata": {},
   "outputs": [],
   "source": [
    "plt.rcParams[\"figure.figsize\"] = [14, 10]\n",
    "sns.set_theme()\n",
    "sns.color_palette()"
   ]
  },
  {
   "cell_type": "code",
   "execution_count": null,
   "metadata": {},
   "outputs": [],
   "source": [
    "# sns.scatterplot(x=df.symbols, size=df.likes, hue='is_repost', \n",
    "#                 y=sum([df.images, df.videos, df.links]), data=df)"
   ]
  },
  {
   "cell_type": "markdown",
   "metadata": {},
   "source": [
    "# Разбираемся с построением столбчатых диаграмм"
   ]
  },
  {
   "cell_type": "markdown",
   "metadata": {},
   "source": [
    "https://stackoverflow.com/questions/61971090/how-can-i-add-images-to-bars-in-axes-matplotlib\n",
    "\n",
    "https://stackoverflow.com/questions/40066089/apply-images-to-pyplot-python-bar-graphs\n",
    "\n",
    "# СУПЕР_ВАЖНО!\n",
    "\n",
    "```python\n",
    "import numpy as np\n",
    "import matplotlib.pyplot as plt\n",
    "import requests\n",
    "from io import BytesIO\n",
    "\n",
    "labels = ['CW', 'CV', 'GW', 'SX', 'DO']\n",
    "colors = ['crimson', 'dodgerblue', 'teal', 'limegreen', 'gold']\n",
    "values = 30 + np.random.randint(5, 20, len(labels)).cumsum()\n",
    "\n",
    "height = 0.9\n",
    "plt.barh(y=labels, width=values, height=height, color=colors, align='center')\n",
    "\n",
    "for i, (label, value) in enumerate(zip(labels, values)):\n",
    "    # load the image corresponding to label into img\n",
    "    # with cbook.get_sample_data('ada.png') as image_file:\n",
    "    #    img = plt.imread(image_file)\n",
    "    response = requests.get(f'https://www.countryflags.io/{label}/flat/64.png')\n",
    "    img = plt.imread(BytesIO(response.content))\n",
    "    plt.imshow(img, extent=[value - 8, value - 2, i - height / 2, i + height / 2], aspect='auto', zorder=2)\n",
    "plt.xlim(0, max(values) * 1.05)\n",
    "plt.ylim(-0.5, len(labels) - 0.5)\n",
    "plt.tight_layout()\n",
    "plt.show()\n",
    "```"
   ]
  },
  {
   "cell_type": "markdown",
   "metadata": {},
   "source": [
    "# МЕГА-ВАЖНО!\n",
    "\n",
    "https://stackoverflow.com/questions/61971090/how-can-i-add-images-to-bars-in-axes-matplotlib\n",
    "\n",
    "https://stackoverflow.com/questions/7391945/how-do-i-read-image-data-from-a-url-in-python"
   ]
  },
  {
   "cell_type": "code",
   "execution_count": null,
   "metadata": {},
   "outputs": [],
   "source": [
    "# Первый, неудачный вариант\n",
    "\n",
    "# import requests\n",
    "# from PIL import Image\n",
    "# from io import BytesIO\n",
    "\n",
    "# labels = tmp.index[:5]\n",
    "# colors = ['tan', 'peru', 'grey', 'orchid', 'darkred']\n",
    "# values = tmp.values.flatten()[:5]\n",
    "\n",
    "# height = 0.9\n",
    "# plt.barh(y=tmp.index[:5], width=tmp.values.flatten()[:5], height=height, color=colors, align='center')\n",
    "\n",
    "# for i, (label, value) in enumerate(zip(labels, values)):\n",
    "#     im = Image.open(requests.get(label, stream=True).raw)\n",
    "#     plt.imshow(im, extent=[value - 150, value - 20, i - height / 2.5, i + height / 2.5], aspect='auto', zorder=2)\n",
    "       \n",
    "    \n",
    "# plt.xlim(0, max(values) * 1.05)\n",
    "# plt.ylim(-0.5, len(labels) - 0.5)\n",
    "# plt.tight_layout()\n",
    "# plt.show()"
   ]
  },
  {
   "cell_type": "markdown",
   "metadata": {},
   "source": [
    "https://stackoverflow.com/questions/32059397/pandas-groupby-without-turning-grouped-by-column-into-index"
   ]
  },
  {
   "cell_type": "markdown",
   "metadata": {},
   "source": [
    "### Tests"
   ]
  },
  {
   "cell_type": "code",
   "execution_count": null,
   "metadata": {},
   "outputs": [],
   "source": [
    "# tmp_2 = df.groupby(['author_name','author_avatar_url'], as_index=False).count() \\\n",
    "# .sort_values(by=\"id\", ascending=False).head(20).iloc[:, [0,1,3]]\n",
    "# tmp_2"
   ]
  },
  {
   "cell_type": "code",
   "execution_count": null,
   "metadata": {},
   "outputs": [],
   "source": [
    "# import requests\n",
    "# from PIL import Image\n",
    "# from io import BytesIO\n",
    "\n",
    "# labels = tmp_2.author_avatar_url[:5][::-1]\n",
    "# colors = ['peru', 'tan', 'grey', 'orchid', 'darkred'][::-1]\n",
    "# values = tmp_2.id[:5][::-1] #.flatten()[:5]\n",
    "\n",
    "# height = 0.9\n",
    "# plt.barh(y=tmp_2.author_name[:5][::-1], width=tmp_2.id[:5][::-1], height=height, color=colors, align='center')\n",
    "\n",
    "# for i, (label, value) in enumerate(zip(labels, values)):\n",
    "#     im = Image.open(requests.get(label, stream=True).raw)\n",
    "#     plt.imshow(im, extent=[value - 150, value - 20, i - height / 2.5, i + height / 2.5], aspect='auto', zorder=2)\n",
    "\n",
    "# plt.style.use('seaborn')    \n",
    "# plt.xlim(0, max(values) * 1.05)\n",
    "# plt.ylim(-0.5, len(labels) - 0.5)\n",
    "# plt.tight_layout()\n",
    "# plt.show()"
   ]
  },
  {
   "cell_type": "code",
   "execution_count": null,
   "metadata": {},
   "outputs": [],
   "source": [
    "# labels = tmp_2.author_avatar_url[:5][::-1]\n",
    "# colors = ['peru', 'tan', 'grey', 'orchid', 'darkred'][::-1]\n",
    "# values = tmp_2.id[:5][::-1] #.flatten()[:5]\n",
    "\n",
    "# height = 0.9\n",
    "# f = sns.barplot(y=tmp_2.author_name[:5][::-1], x=tmp_2.id[:5][::-1])\n",
    "# ax = f\n",
    "\n",
    "# for p in ax.patches:\n",
    "#     width = p.get_width()    # get bar length\n",
    "#     ax.text(width + 1,       # set the text at 1 unit right of the bar\n",
    "#             p.get_y() + p.get_height() / 2, # get Y coordinate + X coordinate / 2\n",
    "#             '{:1.0f}'.format(width), # set variable to display, 2 decimals\n",
    "#             ha = 'left',   # horizontal alignment\n",
    "#             va = 'center')  # vertical alignment\n",
    "\n",
    "# # for i, (label, value) in enumerate(zip(labels, values)):\n",
    "# #     im = Image.open(requests.get(label, stream=True).raw)\n",
    "# #     plt.imshow(im, extent=[value - 150, value - 20, i - height / 2.5, i + height / 2.5], aspect='auto', zorder=2)\n",
    "       \n",
    "    \n",
    "# # plt.xlim(0, max(values) * 1.05)\n",
    "# # plt.ylim(-0.5, len(labels) - 0.5)\n",
    "# # plt.tight_layout()\n",
    "# # plt.show()"
   ]
  },
  {
   "cell_type": "code",
   "execution_count": null,
   "metadata": {},
   "outputs": [],
   "source": [
    "# import requests\n",
    "# from PIL import Image\n",
    "# from io import BytesIO\n",
    "\n",
    "# labels = tmp_2.author_avatar_url[:5][::-1]\n",
    "# colors = ['peru', 'tan', 'grey', 'orchid', 'darkred'][::-1]\n",
    "# values = tmp_2.id[:5][::-1] \n",
    "\n",
    "# height = 0.9\n",
    "# plt.barh(y=tmp_2.author_name[:5][::-1], width=tmp_2.id[:5][::-1], height=height, color=colors, align='center')\n",
    "\n",
    "# for i, (label, value) in enumerate(zip(labels, values)):\n",
    "#     im = Image.open(requests.get(label, stream=True).raw)\n",
    "#     plt.imshow(im, extent=[value - 150, value - 20, i - height / 2.5, i + height / 2.5], aspect='auto', zorder=2)\n",
    "#     plt.text(value + 3, i, '{:1.0f}'.format(value), ha = 'left', va = 'center')\n",
    "\n",
    "    \n",
    "# plt.xlim(0, max(values) * 1.05)\n",
    "# plt.ylim(-0.5, len(labels) - 0.5)\n",
    "# plt.tight_layout()\n",
    "# plt.show()"
   ]
  },
  {
   "cell_type": "markdown",
   "metadata": {},
   "source": [
    "https://stackoverflow.com/questions/49820549/labeling-horizontal-barplot-with-values-in-seaborn\n",
    "\n",
    "https://stackoverflow.com/questions/45946970/displaying-of-values-on-barchart"
   ]
  },
  {
   "cell_type": "markdown",
   "metadata": {},
   "source": [
    "### Tests end\n",
    "# Конец тестовой зоны"
   ]
  },
  {
   "cell_type": "markdown",
   "metadata": {},
   "source": [
    "# Смотрим на топы по различным признакам"
   ]
  },
  {
   "cell_type": "code",
   "execution_count": null,
   "metadata": {},
   "outputs": [],
   "source": [
    "tmp = df.groupby(['author_name'])['author_name'].count().sort_values(ascending=False).head(20)\n",
    "tmp"
   ]
  },
  {
   "cell_type": "code",
   "execution_count": null,
   "metadata": {},
   "outputs": [],
   "source": [
    "tmp_posts = df[df.is_repost == False].groupby(['author_name','author_avatar_url'], as_index=False) \\\n",
    ".agg({'id': 'count'}).sort_values(by='id', ascending=False).head(40)\n",
    "tmp_posts_1 = tmp_posts.iloc[0:20]\n",
    "tmp_posts_2 = tmp_posts.iloc[20:40]"
   ]
  },
  {
   "cell_type": "code",
   "execution_count": null,
   "metadata": {},
   "outputs": [],
   "source": [
    "my_cmap = plt.get_cmap(\"coolwarm\")\n",
    "rescale = lambda y: (y - np.min(y)) / (np.max(y) - np.min(y))\n",
    "\n",
    "labels = tmp_posts_1.author_avatar_url[::-1]\n",
    "# colors = ['lightcoral', 'orchid', 'peachpuff', 'coral', 'tan', 'indigo', 'goldenrod', 'pink', 'darkturquoise', 'teal'][::-1]\n",
    "values = tmp_posts_1.id[::-1] \n",
    "\n",
    "height = 0.9\n",
    "plt.barh(y=tmp_posts_1.author_name[::-1], width=tmp_posts_1.id[::-1], height=height, \n",
    "         color=my_cmap(rescale(values)), \n",
    "         align='center')\n",
    "\n",
    "for i, (label, value) in enumerate(zip(labels, values)):\n",
    "    im = Image.open(requests.get(label, stream=True).raw)\n",
    "    plt.imshow(im, extent=[value - 35, value - 2, i - height / 2.5, i + height / 2.5], aspect='auto', zorder=2)\n",
    "    plt.text(value + 1, i, '{:1.0f}'.format(value), ha = 'left', va = 'center')\n",
    "\n",
    "    \n",
    "plt.xlim(0, max(values) * 1.05)\n",
    "plt.ylim(-0.5, len(labels) - 0.5)\n",
    "plt.xlabel('Количество публикаций', fontsize=16)\n",
    "plt.ylabel('Авторы', fontsize=16)\n",
    "plt.title('Топ-20 авторов по количеству публикаций', fontsize=22, pad=20)\n",
    "plt.tight_layout()\n",
    "\n",
    "# plt.savefig(PATH + \"Full_analysis/authors_posts_count_1.png\", dpi=300, bbox_inches='tight')\n",
    "\n",
    "plt.show()"
   ]
  },
  {
   "cell_type": "code",
   "execution_count": null,
   "metadata": {},
   "outputs": [],
   "source": [
    "my_cmap = plt.get_cmap(\"coolwarm_r\")\n",
    "rescale = lambda y: (y - np.min(y)) / (np.max(y) - np.min(y))\n",
    "\n",
    "labels = tmp_posts_2.author_avatar_url[::-1]\n",
    "# colors = ['lightcoral', 'orchid', 'peachpuff', 'coral', 'tan', 'indigo', 'goldenrod', 'pink', 'darkturquoise', 'teal'][::-1]\n",
    "values = tmp_posts_2.id[::-1] \n",
    "\n",
    "height = 0.9\n",
    "plt.barh(y=tmp_posts_2.author_name[::-1], width=tmp_posts_2.id[::-1], height=height, \n",
    "         color=my_cmap(rescale(values)), \n",
    "         align='center')\n",
    "\n",
    "for i, (label, value) in enumerate(zip(labels, values)):\n",
    "    im = Image.open(requests.get(label, stream=True).raw)\n",
    "    plt.imshow(im, extent=[value - 3, value - 1, i - height / 2.5, i + height / 2.5], aspect='auto', zorder=2)\n",
    "    plt.text(value + 1, i, '{:1.0f}'.format(value), ha = 'left', va = 'center')\n",
    "\n",
    "    \n",
    "plt.xlim(0, max(values) * 1.05)\n",
    "plt.ylim(-0.5, len(labels) - 0.5)\n",
    "plt.xlabel('Количество публикаций', fontsize=16)\n",
    "plt.ylabel('Авторы', fontsize=16)\n",
    "plt.title('Топ-40 (21-40 места) авторов по количеству публикаций', fontsize=22, pad=20)\n",
    "plt.tight_layout()\n",
    "\n",
    "# plt.savefig(PATH + \"Full_analysis/authors_posts_count_2.png\", dpi=300, bbox_inches='tight')\n",
    "\n",
    "plt.show()"
   ]
  },
  {
   "cell_type": "markdown",
   "metadata": {},
   "source": [
    "# ---"
   ]
  },
  {
   "cell_type": "code",
   "execution_count": null,
   "metadata": {},
   "outputs": [],
   "source": [
    "tmp_likes = df[df.is_repost == False].groupby(['author_name','author_avatar_url'], as_index=False) \\\n",
    ".agg({\"likes\": \"sum\"}).sort_values(by=\"likes\", ascending=False).head(40)\n",
    "tmp_likes_1 = tmp_likes.iloc[0:20]\n",
    "tmp_likes_2 = tmp_likes.iloc[20:40]\n",
    "tmp_likes.head(5)"
   ]
  },
  {
   "cell_type": "code",
   "execution_count": null,
   "metadata": {},
   "outputs": [],
   "source": [
    "plt.rcParams[\"figure.figsize\"] = [14, 10]\n",
    "my_cmap = plt.get_cmap(\"magma\")\n",
    "rescale = lambda y: (y - np.min(y)) / (np.max(y) - np.min(y))\n",
    "\n",
    "labels = tmp_likes_1.author_avatar_url[::-1]\n",
    "# colors = ['lightcoral', 'orchid', 'peachpuff', 'coral', 'tan', 'indigo', 'goldenrod', 'pink', 'darkturquoise', 'teal'][::-1]\n",
    "values = tmp_likes_1.likes[::-1] \n",
    "\n",
    "height = 0.9\n",
    "plt.barh(y=tmp_likes_1.author_name[::-1], width=tmp_likes_1.likes[::-1], height=height, \n",
    "         color=my_cmap(rescale(values)), \n",
    "         align='center')\n",
    "\n",
    "for i, (label, value) in enumerate(zip(labels, values)):\n",
    "    im = Image.open(requests.get(label, stream=True).raw)\n",
    "    plt.imshow(im, extent=[value - 700, value - 100, i - height / 2.5, i + height / 2.5], aspect='auto', zorder=2)\n",
    "    plt.text(value + 1, i, '{:1.0f}'.format(value), ha = 'left', va = 'center')\n",
    "\n",
    "    \n",
    "plt.xlim(0, max(values) * 1.05)\n",
    "plt.ylim(-0.5, len(labels) - 0.5)\n",
    "plt.xlabel('Количество рейтинга', fontsize=16)\n",
    "plt.ylabel('Авторы', fontsize=16)\n",
    "plt.title('Топ-20 авторов по количеству рейтинга', fontsize=22, pad=20)\n",
    "plt.tight_layout()\n",
    "\n",
    "# plt.savefig(PATH + \"Full_analysis/authors_rating_1.png\", dpi=300, bbox_inches='tight')\n",
    "\n",
    "plt.show()"
   ]
  },
  {
   "cell_type": "code",
   "execution_count": null,
   "metadata": {},
   "outputs": [],
   "source": [
    "my_cmap = plt.get_cmap(\"magma_r\")\n",
    "rescale = lambda y: (y - np.min(y)) / (np.max(y) - np.min(y))\n",
    "\n",
    "labels = tmp_likes_2.author_avatar_url[::-1]\n",
    "# colors = ['lightcoral', 'orchid', 'peachpuff', 'coral', 'tan', 'indigo', 'goldenrod', 'pink', 'darkturquoise', 'teal'][::-1]\n",
    "values = tmp_likes_2.likes[::-1] \n",
    "\n",
    "height = 0.9\n",
    "plt.barh(y=tmp_likes_2.author_name[::-1], width=tmp_likes_2.likes[::-1], height=height, \n",
    "         color=my_cmap(rescale(values)), \n",
    "         align='center')\n",
    "\n",
    "for i, (label, value) in enumerate(zip(labels, values)):\n",
    "    im = Image.open(requests.get(label, stream=True).raw)\n",
    "    plt.imshow(im, extent=[value - 35, value - 5, i - height / 2.5, i + height / 2.5], aspect='auto', zorder=2)\n",
    "    plt.text(value + 1, i, '{:1.0f}'.format(value), ha = 'left', va = 'center')\n",
    "\n",
    "    \n",
    "plt.xlim(0, max(values) * 1.05)\n",
    "plt.ylim(-0.5, len(labels) - 0.5)\n",
    "plt.xlabel('Количество рейтинга', fontsize=16)\n",
    "plt.ylabel('Авторы', fontsize=16)\n",
    "plt.title('Топ-40 (21-40 места) авторов по количеству рейтинга', fontsize=22, pad=20)\n",
    "plt.tight_layout()\n",
    "\n",
    "# plt.savefig(PATH + \"Full_analysis/authors_rating_2.png\", dpi=300, bbox_inches='tight')\n",
    "\n",
    "plt.show()"
   ]
  },
  {
   "cell_type": "markdown",
   "metadata": {},
   "source": [
    "# ---"
   ]
  },
  {
   "cell_type": "code",
   "execution_count": null,
   "metadata": {},
   "outputs": [],
   "source": []
  },
  {
   "cell_type": "code",
   "execution_count": null,
   "metadata": {},
   "outputs": [],
   "source": []
  },
  {
   "cell_type": "code",
   "execution_count": null,
   "metadata": {},
   "outputs": [],
   "source": []
  },
  {
   "cell_type": "code",
   "execution_count": null,
   "metadata": {},
   "outputs": [],
   "source": []
  },
  {
   "cell_type": "markdown",
   "metadata": {},
   "source": [
    "#### Корреляция"
   ]
  },
  {
   "cell_type": "code",
   "execution_count": null,
   "metadata": {},
   "outputs": [],
   "source": [
    "df.columns"
   ]
  },
  {
   "cell_type": "code",
   "execution_count": null,
   "metadata": {},
   "outputs": [],
   "source": [
    "sns.heatmap(df.loc[:, ['comments_count', 'favorites_count', 'hits_count', 'likes', 'symbols',\n",
    "                       'images', 'videos', 'links', 'audio', 'total_mediacontent']].corr(method='pearson'), \n",
    "            annot=True)\n",
    "\n",
    "plt.title('Корреляционная матрица признаков', fontsize=22, pad=20);\n",
    "# plt.savefig(PATH + \"Full_analysis/corr_matrix.png\", dpi=300, bbox_inches='tight')"
   ]
  },
  {
   "cell_type": "code",
   "execution_count": null,
   "metadata": {},
   "outputs": [],
   "source": [
    "# from scipy import stats\n",
    "\n",
    "# cols = ['comments_count', 'favorites_count', 'hits_count', 'symbols',\n",
    "#         'images', 'videos', 'links', 'audio', 'total_mediacontent']\n",
    "\n",
    "# for col in cols: \n",
    "#     pearson_coef, p_value = stats.pearsonr(df[col], df['likes'])\n",
    "#     print(\"PearsonR между {} и likes {} с P-значением P = {}\".format(\n",
    "#           col, pearson_coef, p_value ))\n",
    "    \n",
    "#     if p_value < 0.001:\n",
    "#         print('Корреляция между {} и likes статистически значимая'.format(col))\n",
    "#     elif p_value < 0.05:\n",
    "#         print('Корреляция между {} и likes средняя'.format(col))\n",
    "#     elif p_value < 0.1:\n",
    "#         print('Корреляция между {} и likes слабая'.format(col))\n",
    "#     else:\n",
    "#         print('Корреляция между {} и likes статистически незначимая'.format(col))\n",
    "        \n",
    "#     if pearson_coef > 0 :\n",
    "#         if pearson_coef > 0.85:\n",
    "#             print('Коэффициент ~{} показывает положительную очень сильную связь\\n'.format(pearson_coef))\n",
    "#         elif pearson_coef > 0.75 :\n",
    "#             print('Коэффициент ~{} показывает положительную достаточно сильную связь\\n'.format(pearson_coef))\n",
    "#         elif pearson_coef > 0.60:\n",
    "#             print('Коэффициент ~{} показывает положительную относительно сильную связь\\n'.format(pearson_coef))\n",
    "#         elif pearson_coef > 0.50 :\n",
    "#             print('Коэффициент ~{} показывает положительную среднюю связь\\n'.format(pearson_coef))\n",
    "#         else:\n",
    "#             print('Коэффициент ~{} показывает положительную слабую связь\\n'.format(pearson_coef))\n",
    "#     else:\n",
    "#         if abs(pearson_coef) > 0.85:\n",
    "#             print('Коэффициент ~{} показывает негативную очень сильную связь\\n'.format(pearson_coef))\n",
    "#         elif abs(pearson_coef) > 0.75 :\n",
    "#             print('Коэффициент ~{} показывает негативную достаточно сильную связь\\n'.format(pearson_coef))\n",
    "#         elif abs(pearson_coef) > 0.60:\n",
    "#             print('Коэффициент ~{} показывает негативную относительно сильную связь\\n'.format(pearson_coef))\n",
    "#         elif abs(pearson_coef) > 0.50 :\n",
    "#             print('Коэффициент ~{} показывает негативную среднюю связь\\n'.format(pearson_coef))\n",
    "#         else:\n",
    "#             print('Коэффициент ~{} показывает негативную слабую связь\\n'.format(pearson_coef))"
   ]
  },
  {
   "cell_type": "code",
   "execution_count": null,
   "metadata": {},
   "outputs": [],
   "source": [
    "# pearson_coef, p_value = stats.pearsonr(np.log(df.total_mediacontent+1), np.log(df.likes+10))\n",
    "# print(pearson_coef, p_value)\n",
    "# sns.scatterplot(data=df, x=np.log(df.total_mediacontent+1), y=np.log(df.likes+10))"
   ]
  },
  {
   "cell_type": "code",
   "execution_count": null,
   "metadata": {},
   "outputs": [],
   "source": [
    "# pearson_coef, p_value = stats.pearsonr(np.log(df.symbols+10), np.log(df.likes+10))\n",
    "# print(pearson_coef, p_value)\n",
    "# sns.scatterplot(data=df, x=np.log(df.symbols+10), y=np.log(df.likes+10))"
   ]
  },
  {
   "cell_type": "code",
   "execution_count": null,
   "metadata": {},
   "outputs": [],
   "source": [
    "sns.scatterplot(data=df, x='symbols', y='likes')\n",
    "plt.xlabel('Количество символов в публикации', fontsize=16)\n",
    "plt.ylabel('Лайки', fontsize=16)\n",
    "plt.title('Диаграмма рассеяния между количеством символов и лайками', fontsize=22, pad=20);\n",
    "# plt.savefig(PATH + \"Full_analysis/scatter_likes_symbols.png\", dpi=300, bbox_inches='tight')"
   ]
  },
  {
   "cell_type": "code",
   "execution_count": null,
   "metadata": {},
   "outputs": [],
   "source": [
    "sns.scatterplot(data=df, x='total_mediacontent', y='likes')\n",
    "plt.xlabel('Количество медиаконтента в публикации', fontsize=16)\n",
    "plt.ylabel('Лайки', fontsize=16)\n",
    "plt.title('Диаграмма рассеяния между количеством медиаконтента и лайками', fontsize=22, pad=20);\n",
    "# plt.savefig(PATH + \"Full_analysis/scatter_likes_media.png\", dpi=300, bbox_inches='tight')"
   ]
  },
  {
   "cell_type": "code",
   "execution_count": null,
   "metadata": {},
   "outputs": [],
   "source": []
  },
  {
   "cell_type": "code",
   "execution_count": null,
   "metadata": {},
   "outputs": [],
   "source": []
  },
  {
   "cell_type": "code",
   "execution_count": null,
   "metadata": {},
   "outputs": [],
   "source": [
    "df.groupby(['author_name']).agg({'id': 'count', 'likes': ['max', 'sum']}) \\\n",
    "    .sort_values(by=(\"id\",'count'), ascending=False)"
   ]
  },
  {
   "cell_type": "code",
   "execution_count": null,
   "metadata": {},
   "outputs": [],
   "source": [
    "df.groupby(['author_name', 'is_repost']).agg({'id': 'count', 'likes': ['max', 'sum']}).sort_values(by=(\"id\",'count'), ascending=False)"
   ]
  },
  {
   "cell_type": "markdown",
   "metadata": {},
   "source": [
    "https://stackoverflow.com/questions/62884183/trying-to-add-a-colorbar-to-a-seaborn-scatterplot"
   ]
  },
  {
   "cell_type": "code",
   "execution_count": null,
   "metadata": {},
   "outputs": [],
   "source": [
    "plt.rcParams[\"figure.figsize\"] = [20, 16]\n",
    "\n",
    "import seaborn as sns\n",
    "import matplotlib.pyplot as plt\n",
    "\n",
    "sns.set()\n",
    "ax = sns.scatterplot(x='symbols', y='total_mediacontent', hue='likes', palette='turbo', data=df)\n",
    "\n",
    "norm = plt.Normalize(df.likes.min(), df.likes.max())\n",
    "sm = plt.cm.ScalarMappable(cmap=\"turbo\", norm=norm)\n",
    "sm.set_array([])\n",
    "\n",
    "# Remove the legend and add a colorbar\n",
    "ax.get_legend().remove()\n",
    "ax.figure.colorbar(sm)\n",
    "\n",
    "plt.show()"
   ]
  },
  {
   "cell_type": "markdown",
   "metadata": {},
   "source": [
    "https://stackoverflow.com/questions/47311632/jupyter-how-to-rotate-3d-graph\n",
    "\n",
    "https://stackoverflow.com/questions/33436221/displaying-rotatable-3d-plots-in-ipython-or-jupyter-notebook\n",
    "\n",
    "https://matplotlib.org/2.2.5/gallery/mplot3d/rotate_axes3d.html\n",
    "\n",
    "https://stackoverflow.com/questions/49981313/rotate-interactively-a-3d-plot-in-python-matplotlib-jupyter-notebook\n",
    "\n",
    "https://stackoverflow.com/questions/14261903/how-can-i-open-the-interactive-matplotlib-window-in-ipython-notebook\n",
    "\n",
    "https://stackoverflow.com/questions/38326983/how-to-rotate-a-3d-surface-in-matplotlib"
   ]
  },
  {
   "cell_type": "markdown",
   "metadata": {},
   "source": [
    "https://matplotlib.org/stable/gallery/mplot3d/surface3d.html\n",
    "\n",
    "https://stackoverflow.com/questions/9170838/surface-plots-in-matplotlib\n",
    "\n",
    "https://jakevdp.github.io/PythonDataScienceHandbook/04.12-three-dimensional-plotting.html\n",
    "\n",
    "https://stackoverflow.com/questions/36296101/donut-chart-python\n",
    "\n",
    "https://matplotlib.org/stable/gallery/pie_and_polar_charts/pie_and_donut_labels.html\n",
    "\n",
    "https://medium.com/@krishnakummar/donut-chart-with-python-matplotlib-d411033c960b"
   ]
  },
  {
   "cell_type": "code",
   "execution_count": null,
   "metadata": {},
   "outputs": [],
   "source": [
    "# %matplotlib notebook"
   ]
  },
  {
   "cell_type": "code",
   "execution_count": null,
   "metadata": {
    "scrolled": false
   },
   "outputs": [],
   "source": [
    "from mpl_toolkits.mplot3d import Axes3D\n",
    "\n",
    "plt.rcParams[\"figure.figsize\"] = [12, 16]\n",
    "\n",
    "x,y,z = df.symbols.values, df.total_mediacontent.values, df.likes.values\n",
    "# x = x.reshape(-1,1)\n",
    "# y = y.reshape(-1,1)\n",
    "# z = z.reshape(-1,1)\n",
    "# x_scaled = StandardScaler().fit_transform(x)\n",
    "# y_scaled = StandardScaler().fit_transform(y)\n",
    "# z_scaled = StandardScaler().fit_transform(z)\n",
    "\n",
    "fig = plt.figure()\n",
    "ax = Axes3D(fig)\n",
    "# # surf = ax.plot_trisurf(x, y, z, cmap=cm.jet, linewidth=0.01)\n",
    "# # fig.colorbar(surf, shrink=0.05, aspect=50)\n",
    "# # plt.show()\n",
    "\n",
    "# c = np.arange(len(z_scaled)) / len(z_scaled)\n",
    "c = np.arange(len(z)) / len(z)\n",
    "# p = ax.scatter3D(x_scaled, y_scaled, z_scaled, c=c)\n",
    "ax.scatter3D(x, y, z, c=c)\n",
    "\n",
    "plt.title('3D диаграмма рассеяния')\n",
    "plt.xlabel('Количество символов в публикациях')\n",
    "plt.ylabel('Количество медиаконтента в публикациях')"
   ]
  },
  {
   "cell_type": "code",
   "execution_count": null,
   "metadata": {},
   "outputs": [],
   "source": [
    "plt.rcParams[\"figure.figsize\"] = [14, 10]\n",
    "\n",
    "def histogram_plotting(srs: pd.Series, ci_wide=90, desc_stat='mean'):\n",
    "    \"\"\"Function for plitting histogram (seaborn) with custom confidence interval\n",
    "    and descriptive statistics.\n",
    "    \n",
    "    Parameters\n",
    "    ----------\n",
    "    srs : pd.Series\n",
    "        Data for which the histogram is plotted. \n",
    "        \n",
    "    ci_wide : int, default=90\n",
    "        Wide of confidence interval in percents.\n",
    "        \n",
    "    desc_stat : str, default=\"mean\"\n",
    "        Calculated descriptive statistics.\n",
    "\n",
    "    Returns\n",
    "    -------\n",
    "        None. Printing histogram.\n",
    "    \n",
    "    \"\"\"\n",
    "       \n",
    "    ci = (100 - ci_wide) / 200\n",
    "    confidence_interval = list(srs.quantile([ci, 1-ci]))\n",
    "    \n",
    "    ax = sns.histplot(srs, kde=True, bins='auto')\n",
    "    max_bar_height = max([h.get_height() for h in ax.patches])\n",
    "    \n",
    "    ax.plot(confidence_interval, [max_bar_height*1.05, max_bar_height*1.05], color='black')\n",
    "    \n",
    "    for x in confidence_interval:\n",
    "        ax.plot([x, x], [0, max_bar_height*1.1], color='black')\n",
    "        ax.text(x, max_bar_height*1.13, f'{x:.0f}', horizontalalignment='center', verticalalignment='center')\n",
    "    \n",
    "    ax.text(sum(confidence_interval) / 2, max_bar_height*1.07, str(ci_wide) + '% interval',\n",
    "                horizontalalignment='center', verticalalignment='center')\n",
    "\n",
    "    descriptive_statistics = getattr(srs, desc_stat)()\n",
    "\n",
    "    ax.plot([descriptive_statistics, descriptive_statistics], \n",
    "            [0, max_bar_height*1.05], color='black', linestyle='--')\n",
    "    \n",
    "    ax.text(descriptive_statistics, max_bar_height*0.15, \n",
    "            desc_stat.capitalize() + f': {descriptive_statistics:.0f}',\n",
    "            bbox=dict(facecolor='white', edgecolor='white', alpha=0.5),\n",
    "            horizontalalignment='center', verticalalignment='center')\n",
    "    \n",
    "    ax.set_ylim(0, max_bar_height*1.2)\n",
    "\n",
    "    plt.tight_layout()\n",
    "    plt.show()\n",
    "    \n",
    "    # END OF FUNC"
   ]
  },
  {
   "cell_type": "code",
   "execution_count": null,
   "metadata": {},
   "outputs": [],
   "source": [
    "df.columns"
   ]
  },
  {
   "cell_type": "code",
   "execution_count": null,
   "metadata": {},
   "outputs": [],
   "source": [
    "histogram_plotting(df.total_mediacontent, desc_stat='median')"
   ]
  },
  {
   "cell_type": "code",
   "execution_count": null,
   "metadata": {},
   "outputs": [],
   "source": []
  },
  {
   "cell_type": "code",
   "execution_count": null,
   "metadata": {},
   "outputs": [],
   "source": []
  },
  {
   "cell_type": "code",
   "execution_count": null,
   "metadata": {},
   "outputs": [],
   "source": []
  },
  {
   "cell_type": "code",
   "execution_count": null,
   "metadata": {},
   "outputs": [],
   "source": [
    "sns.scatterplot(x=df.symbols, y=sum([df.images, df.videos, df.links]), hue='isRepost', data=df)"
   ]
  },
  {
   "cell_type": "code",
   "execution_count": null,
   "metadata": {},
   "outputs": [],
   "source": [
    "sns.histplot(x = df.commentsCount, kde=True)"
   ]
  },
  {
   "cell_type": "code",
   "execution_count": null,
   "metadata": {},
   "outputs": [],
   "source": []
  },
  {
   "cell_type": "code",
   "execution_count": null,
   "metadata": {},
   "outputs": [],
   "source": [
    "sns.histplot(df.hitsCount, kde=True)"
   ]
  },
  {
   "cell_type": "code",
   "execution_count": null,
   "metadata": {},
   "outputs": [],
   "source": []
  },
  {
   "cell_type": "code",
   "execution_count": null,
   "metadata": {},
   "outputs": [],
   "source": []
  },
  {
   "cell_type": "code",
   "execution_count": null,
   "metadata": {},
   "outputs": [],
   "source": [
    "sns.histplot(df.likes, kde=True)"
   ]
  },
  {
   "cell_type": "code",
   "execution_count": null,
   "metadata": {},
   "outputs": [],
   "source": [
    "sns.boxplot(data=df, x=\"isRepost\", y=\"likes\")"
   ]
  },
  {
   "cell_type": "code",
   "execution_count": null,
   "metadata": {},
   "outputs": [],
   "source": [
    "a = df.groupby(['author_name']).agg({'id': 'count'})\n",
    "a[a['id'] > 1].sort_values(by='id', ascending=False)"
   ]
  },
  {
   "cell_type": "code",
   "execution_count": null,
   "metadata": {},
   "outputs": [],
   "source": [
    "a[a['id'] > 100].index"
   ]
  },
  {
   "cell_type": "code",
   "execution_count": null,
   "metadata": {},
   "outputs": [],
   "source": [
    "tmp = df.groupby(['author_name']).agg({'id': 'count'})"
   ]
  },
  {
   "cell_type": "code",
   "execution_count": null,
   "metadata": {},
   "outputs": [],
   "source": [
    "# sns.boxplot(data=df, y=\"author_name\", x=\"likes\")"
   ]
  },
  {
   "cell_type": "code",
   "execution_count": null,
   "metadata": {},
   "outputs": [],
   "source": [
    "sns.violinplot(y=df.likes)"
   ]
  },
  {
   "cell_type": "code",
   "execution_count": null,
   "metadata": {},
   "outputs": [],
   "source": []
  },
  {
   "cell_type": "code",
   "execution_count": null,
   "metadata": {},
   "outputs": [],
   "source": []
  },
  {
   "cell_type": "code",
   "execution_count": null,
   "metadata": {},
   "outputs": [],
   "source": []
  },
  {
   "cell_type": "code",
   "execution_count": null,
   "metadata": {},
   "outputs": [],
   "source": [
    "from plotnine import *\n",
    "from plotnine.data import *"
   ]
  },
  {
   "cell_type": "markdown",
   "metadata": {},
   "source": [
    "https://plotnine.readthedocs.io/en/stable/generated/plotnine.geoms.geom_violin.html?highlight=violin#violins-boxes-points-and-lines"
   ]
  },
  {
   "cell_type": "code",
   "execution_count": null,
   "metadata": {},
   "outputs": [],
   "source": [
    "(ggplot(df, aes(x=df.isRepost, y=df.likes, fill=df.isRepost)) + geom_violin(show_legend=False) + geom_boxplot(width = .2)\n",
    "+ scale_fill_manual(values=['dodgerblue', 'darkorange'])\n",
    "+ theme_classic()\n",
    "+ theme(figure_size=(8, 6))\n",
    ")"
   ]
  },
  {
   "cell_type": "code",
   "execution_count": null,
   "metadata": {},
   "outputs": [],
   "source": [
    "df[df.title == 'Статья удалена'].shape[0]"
   ]
  },
  {
   "cell_type": "code",
   "execution_count": null,
   "metadata": {},
   "outputs": [],
   "source": [
    "df[df.title == 'Статья удалена'].author_name.unique()"
   ]
  },
  {
   "cell_type": "code",
   "execution_count": null,
   "metadata": {},
   "outputs": [],
   "source": [
    "df[sum([df.images, df.videos, df.links]) == 0].symbols.unique()"
   ]
  },
  {
   "cell_type": "code",
   "execution_count": null,
   "metadata": {},
   "outputs": [],
   "source": [
    "sum([df.images, df.videos, df.links]).value_counts(normalize=True, sort=True)"
   ]
  },
  {
   "cell_type": "code",
   "execution_count": null,
   "metadata": {},
   "outputs": [],
   "source": [
    "df.shape[0]"
   ]
  },
  {
   "cell_type": "code",
   "execution_count": null,
   "metadata": {},
   "outputs": [],
   "source": []
  },
  {
   "cell_type": "code",
   "execution_count": null,
   "metadata": {},
   "outputs": [],
   "source": []
  },
  {
   "cell_type": "code",
   "execution_count": null,
   "metadata": {},
   "outputs": [],
   "source": [
    "sns.displot(x=df.symbols, y=sum([df.images, df.videos, df.links]), col='isRepost', data=df)"
   ]
  },
  {
   "cell_type": "code",
   "execution_count": null,
   "metadata": {},
   "outputs": [],
   "source": [
    "sns.scatterplot(x=df.symbols, y=sum([df.images, df.videos, df.links]), hue='isRepost', data=df)"
   ]
  },
  {
   "cell_type": "code",
   "execution_count": null,
   "metadata": {},
   "outputs": [],
   "source": [
    "sns.histplot(data=df, x=sum([df.images, df.videos, df.links]), kde=True)"
   ]
  },
  {
   "cell_type": "code",
   "execution_count": null,
   "metadata": {
    "scrolled": false
   },
   "outputs": [],
   "source": [
    "sns.histplot(data=df, x=df.likes, kde=True)#, bins=70)"
   ]
  },
  {
   "cell_type": "code",
   "execution_count": null,
   "metadata": {},
   "outputs": [],
   "source": [
    "X = np.array([df.symbols, sum([df.images, df.videos, df.links])]).T\n",
    "X"
   ]
  },
  {
   "cell_type": "code",
   "execution_count": null,
   "metadata": {},
   "outputs": [],
   "source": [
    "from sklearn.cluster import KMeans\n",
    "from sklearn import metrics\n",
    "\n",
    "inertia = []\n",
    "k = range(1, 10)\n",
    "for k_i in k:\n",
    "    km = KMeans(n_clusters=k_i).fit(X)\n",
    "    km.fit(X)\n",
    "    inertia.append(km.inertia_)\n",
    "    \n",
    "plt.plot(k, inertia)\n",
    "plt.xlabel('k')\n",
    "plt.ylabel('inertia')\n",
    "plt.title('The Elbow Method showing the optimal k')"
   ]
  },
  {
   "cell_type": "code",
   "execution_count": null,
   "metadata": {},
   "outputs": [],
   "source": [
    "from sklearn.metrics import silhouette_score\n",
    "inertia = []\n",
    "k = range(2, 10)\n",
    "for k_i in k:\n",
    "    km = KMeans(n_clusters=k_i).fit(X)\n",
    "    km.fit(X)\n",
    "    inertia.append(silhouette_score(X, km.labels_))\n",
    "\n",
    "print(inertia)\n",
    "    \n",
    "plt.plot(k, inertia)\n",
    "plt.xlabel('k')\n",
    "plt.ylabel('silhouette_score')\n",
    "plt.title('The Elbow Method showing the optimal k')"
   ]
  },
  {
   "cell_type": "code",
   "execution_count": null,
   "metadata": {},
   "outputs": [],
   "source": [
    "kmeans = KMeans(n_clusters=4, random_state=10)\n",
    "y_pred = kmeans.fit_predict(X)\n",
    "\n",
    "# Plot the prediction\n",
    "# plt.scatter(X[:,0], X[:,1], c=y_pred)\n",
    "sns.scatterplot(x=X[:,0], y=X[:,1], hue=y_pred)"
   ]
  },
  {
   "cell_type": "code",
   "execution_count": null,
   "metadata": {},
   "outputs": [],
   "source": [
    "from sklearn.cluster import DBSCAN\n",
    "\n",
    "X = np.array([df.symbols, sum([df.images, df.videos, df.links])]).T\n",
    "X"
   ]
  },
  {
   "cell_type": "code",
   "execution_count": null,
   "metadata": {},
   "outputs": [],
   "source": [
    "clustering = DBSCAN(eps=15, min_samples=10)\n",
    "y_pred = clustering.fit_predict(X)\n",
    "\n",
    "plt.rcParams[\"figure.figsize\"] = [20, 16]\n",
    "print(np.unique(y_pred))\n",
    "\n",
    "sns.scatterplot(x=X[:,0], y=X[:,1], hue=y_pred, palette='turbo')"
   ]
  },
  {
   "cell_type": "markdown",
   "metadata": {},
   "source": [
    "### DBScan не работает при различных плотностях кластеров. Собственно это и можно наблюдать."
   ]
  },
  {
   "cell_type": "code",
   "execution_count": null,
   "metadata": {},
   "outputs": [],
   "source": [
    "np.unique(y_pred)"
   ]
  },
  {
   "cell_type": "code",
   "execution_count": null,
   "metadata": {},
   "outputs": [],
   "source": [
    "from sklearn.cluster import SpectralClustering\n",
    "\n",
    "X = np.array([df.symbols, sum([df.images, df.videos, df.links])]).T\n",
    "X"
   ]
  },
  {
   "cell_type": "markdown",
   "metadata": {},
   "source": [
    "Очень долго работало и не доработало до конца. Нужно попробовать в колабе."
   ]
  },
  {
   "cell_type": "code",
   "execution_count": null,
   "metadata": {},
   "outputs": [],
   "source": [
    "# clustering = SpectralClustering(n_clusters=5, assign_labels=\"discretize\", affinity='rbf')\n",
    "# y_pred = clustering.fit_predict(X)\n",
    "\n",
    "# plt.rcParams[\"figure.figsize\"] = [20, 16]\n",
    "# print(np.unique(y_pred))\n",
    "\n",
    "# sns.scatterplot(x=X[:,0], y=X[:,1], hue=y_pred, palette='turbo')"
   ]
  },
  {
   "cell_type": "code",
   "execution_count": null,
   "metadata": {},
   "outputs": [],
   "source": [
    "from sklearn import cluster\n",
    "from sklearn.cluster import MeanShift\n",
    "\n",
    "bandwidth = cluster.estimate_bandwidth(X, quantile=0.2, n_samples=50)\n",
    "ms = MeanShift(bandwidth=bandwidth, bin_seeding=True)\n",
    "y_pred = ms.fit_predict(X)\n",
    "\n",
    "plt.rcParams[\"figure.figsize\"] = [20, 16]\n",
    "print(np.unique(y_pred))\n",
    "\n",
    "labels = ms.labels_\n",
    "cluster_centers = ms.cluster_centers_\n",
    "\n",
    "labels_unique = np.unique(labels)\n",
    "n_clusters_ = len(labels_unique)\n",
    "\n",
    "print(\"number of estimated clusters : %d\" % n_clusters_)\n",
    "\n",
    "sns.scatterplot(x=X[:,0], y=X[:,1], hue=y_pred, palette='turbo')\n",
    "\n",
    "# from itertools import cycle\n",
    "# colors = cycle('bgrcmykbgrcmykbgrcmykbgrcmyk')\n",
    "# for k, col in zip(range(n_clusters_), colors):\n",
    "#     my_members = labels == k\n",
    "#     cluster_center = cluster_centers[k]\n",
    "#     plt.plot(X[my_members, 0], X[my_members, 1], col + '.')\n",
    "#     plt.plot(cluster_center[0], cluster_center[1], 'o', markerfacecolor=col,\n",
    "#              markeredgecolor='k', markersize=14)\n",
    "# plt.title('Estimated number of clusters: %d' % n_clusters_)\n",
    "# plt.show()"
   ]
  },
  {
   "cell_type": "markdown",
   "metadata": {},
   "source": [
    "Почему нормально не сошлись алгоритмы кластеризации? \n",
    "#### Потому что я сделал чушь. Основные метрики использованных алгоритмов - плотность и расстояние. Учитывая, что я не нормализировал и не стандартизировал входные данные - алгоритмы просто не могли нормально сойтись. \n",
    "\n",
    "Слишком высокая дисперсия по абсциссе, по отношению к дисперсию по ординате. \n",
    "#### НОРМАЛИЗАЦИЯ НУЖНА ОБЯЗАТЕЛЬНО!"
   ]
  },
  {
   "cell_type": "markdown",
   "metadata": {},
   "source": [
    "Для DBSCAN важны параметры эпсилон и н_сэмплс - т. е. эпсилон-окрестность точки и количество точек, входящих в эту окрестность, которые необходимы для определения их принадлежности к одному кластеру. "
   ]
  },
  {
   "cell_type": "markdown",
   "metadata": {},
   "source": [
    "Следует также попробовать иерархическую кластеризацию на данных. "
   ]
  },
  {
   "cell_type": "code",
   "execution_count": null,
   "metadata": {},
   "outputs": [],
   "source": [
    "from sklearn import preprocessing"
   ]
  },
  {
   "cell_type": "code",
   "execution_count": null,
   "metadata": {},
   "outputs": [],
   "source": [
    "from sklearn.preprocessing import StandardScaler"
   ]
  },
  {
   "cell_type": "code",
   "execution_count": null,
   "metadata": {},
   "outputs": [],
   "source": [
    "X_scaled = StandardScaler().fit_transform(X)\n",
    "X_scaled"
   ]
  },
  {
   "cell_type": "code",
   "execution_count": null,
   "metadata": {},
   "outputs": [],
   "source": [
    "clustering = DBSCAN(eps=0.15, min_samples=7)\n",
    "y_pred = clustering.fit_predict(X_scaled)\n",
    "\n",
    "plt.rcParams[\"figure.figsize\"] = [20, 16]\n",
    "print(np.unique(y_pred))\n",
    "\n",
    "sns.scatterplot(x=X_scaled[:,0], y=X_scaled[:,1], hue=y_pred, palette='turbo')"
   ]
  },
  {
   "cell_type": "code",
   "execution_count": null,
   "metadata": {},
   "outputs": [],
   "source": [
    "def fancy_dendrogram(*args, **kwargs):\n",
    "    max_d = kwargs.pop('max_d', None)\n",
    "    if max_d and 'color_threshold' not in kwargs:\n",
    "        kwargs['color_threshold'] = max_d\n",
    "    annotate_above = kwargs.pop('annotate_above', 0)\n",
    "\n",
    "    ddata = dendrogram(*args, **kwargs)\n",
    "\n",
    "    if not kwargs.get('no_plot', False):\n",
    "        plt.title('Hierarchical Clustering Dendrogram (truncated)')\n",
    "        plt.xlabel('sample index or (cluster size)')\n",
    "        plt.ylabel('distance')\n",
    "        for i, d, c in zip(ddata['icoord'], ddata['dcoord'], ddata['color_list']):\n",
    "            x = 0.5 * sum(i[1:3])\n",
    "            y = d[1]\n",
    "            if y > annotate_above:\n",
    "                plt.plot(x, y, 'o', c=c)\n",
    "                plt.annotate(\"%.3g\" % y, (x, y), xytext=(0, -5),\n",
    "                             textcoords='offset points',\n",
    "                             va='top', ha='center')\n",
    "        if max_d:\n",
    "            plt.axhline(y=max_d, c='k')\n",
    "    return ddata"
   ]
  },
  {
   "cell_type": "code",
   "execution_count": null,
   "metadata": {
    "scrolled": true
   },
   "outputs": [],
   "source": [
    "from scipy.cluster import hierarchy\n",
    "from scipy.spatial.distance import pdist\n",
    "\n",
    "# # https://docs.scipy.org/doc/scipy/reference/generated/scipy.cluster.hierarchy.linkage.html\n",
    "distance_mat = pdist(X_scaled) # pdist посчитает нам верхний треугольник матрицы попарных расстояний\n",
    "\n",
    "Z = hierarchy.linkage(distance_mat, 'ward') # linkage — реализация агломеративного алгоритма\n",
    "# plt.figure(figsize=(20, 10))\n",
    "# dn = hierarchy.dendrogram(Z, leaf_font_size=8., leaf_rotation=90.)"
   ]
  },
  {
   "cell_type": "code",
   "execution_count": null,
   "metadata": {},
   "outputs": [],
   "source": [
    "from scipy.cluster.hierarchy import dendrogram"
   ]
  },
  {
   "cell_type": "code",
   "execution_count": null,
   "metadata": {},
   "outputs": [],
   "source": [
    "plt.figure(figsize=(20, 10))\n",
    "# выводим размеры кластеров\n",
    "\n",
    "plt.title('Hierarchical Clustering Dendrogram (truncated)')\n",
    "plt.xlabel('sample index or (cluster size)')\n",
    "plt.ylabel('distance')\n",
    "dendrogram(\n",
    "    Z,\n",
    "    truncate_mode='lastp',  # show only the last p merged clusters\n",
    "    p=12,                   # show only the last p merged clusters\n",
    "    leaf_rotation=90.,\n",
    "    leaf_font_size=12.,\n",
    "    show_contracted=True,   # to get a distribution impression in truncated branches\n",
    ")\n",
    "plt.show()"
   ]
  },
  {
   "cell_type": "code",
   "execution_count": null,
   "metadata": {},
   "outputs": [],
   "source": [
    "plt.figure(figsize=(20, 10))\n",
    "fancy_dendrogram(\n",
    "    Z,\n",
    "    truncate_mode='lastp',\n",
    "    p=12,\n",
    "    leaf_rotation=90.,\n",
    "    leaf_font_size=12.,\n",
    "    show_contracted=True,\n",
    "    annotate_above=10,  # useful in small plots so annotations don't overlap\n",
    ")\n",
    "plt.show()"
   ]
  },
  {
   "cell_type": "markdown",
   "metadata": {},
   "source": [
    "## Наконец-то адекватный результат!"
   ]
  },
  {
   "cell_type": "code",
   "execution_count": null,
   "metadata": {},
   "outputs": [],
   "source": [
    "# Зная расстояние\n",
    "from scipy.cluster.hierarchy import fcluster\n",
    "# max_d = 25 # Шикарный результат!\n",
    "max_d = 25\n",
    "clusters = fcluster(Z, max_d, criterion='distance')\n",
    "print(np.unique(clusters))\n",
    "sns.scatterplot(x=X[:,0], y=X[:,1], hue=clusters, palette='turbo')"
   ]
  },
  {
   "cell_type": "markdown",
   "metadata": {},
   "source": [
    "- Мем\n",
    "- заметка\n",
    "- мини_подборка\n",
    "- статья\n",
    "- подборка\n",
    "- супер_подборка\n",
    "- лонгрид\n",
    "- супер_лонгрид"
   ]
  },
  {
   "cell_type": "markdown",
   "metadata": {},
   "source": [
    "https://scikit-learn.org/stable/modules/mixture.html\n",
    "\n",
    "https://scikit-learn.org/stable/modules/generated/sklearn.mixture.GaussianMixture.html#sklearn.mixture.GaussianMixture\n",
    "\n",
    "https://docs.scipy.org/doc/scipy/reference/generated/scipy.cluster.hierarchy.inconsistent.html\n",
    "\n",
    "https://docs.scipy.org/doc/scipy/reference/generated/scipy.cluster.hierarchy.dendrogram.html\n",
    "\n",
    "https://medium.com/@rrfd/standardize-or-normalize-examples-in-python-e3f174b65dfc\n",
    "\n",
    "https://scikit-learn.org/stable/modules/preprocessing.html\n",
    "\n"
   ]
  },
  {
   "cell_type": "markdown",
   "metadata": {},
   "source": [
    "https://medium.com/@krishnakummar/donut-chart-with-python-matplotlib-d411033c960b\n",
    "\n",
    "https://matplotlib.org/stable/gallery/pie_and_polar_charts/pie_and_donut_labels.html\n",
    "\n",
    "https://stackoverflow.com/questions/36296101/donut-chart-python"
   ]
  },
  {
   "cell_type": "markdown",
   "metadata": {},
   "source": [
    "https://seaborn.pydata.org/tutorial/relational.html"
   ]
  },
  {
   "cell_type": "code",
   "execution_count": null,
   "metadata": {},
   "outputs": [],
   "source": [
    "# Alternative\n",
    "\n",
    "max_d = 25\n",
    "clusters = fcluster(Z, max_d, criterion='distance')\n",
    "print(np.unique(clusters))\n",
    "sns.scatterplot(x=X[:,0], y=X[:,1], hue=clusters, style=df.isRepost, palette='turbo', s=50, legend='full')\n"
   ]
  },
  {
   "cell_type": "code",
   "execution_count": null,
   "metadata": {},
   "outputs": [],
   "source": [
    "df[df[\"isRepost\"] == True].likes"
   ]
  },
  {
   "cell_type": "code",
   "execution_count": null,
   "metadata": {},
   "outputs": [],
   "source": [
    "from scipy.stats import ks_2samp\n",
    "\n",
    "ks_2samp(df[df[\"isRepost\"] == True].likes, df[df[\"isRepost\"] == False].likes)"
   ]
  },
  {
   "cell_type": "markdown",
   "metadata": {},
   "source": [
    "https://stackoverflow.com/questions/58665252/python-compare-distribution-scipy-ks-2samp-p-value-always-0-0\n",
    "\n",
    "https://stats.stackexchange.com/questions/18408/two-samples-of-the-same-distribution\n",
    "\n",
    "https://stackoverflow.com/questions/36846620/comparing-distributions-with-chi-square-in-python\n",
    "\n",
    "https://stats.stackexchange.com/questions/354035/how-to-compare-the-data-distribution-of-2-datasets\n",
    "\n",
    "https://docs.scipy.org/doc/scipy/reference/generated/scipy.stats.ks_2samp.html"
   ]
  },
  {
   "cell_type": "code",
   "execution_count": null,
   "metadata": {},
   "outputs": [],
   "source": [
    "plt.figure(figsize=(20, 10))\n",
    "fancy_dendrogram(\n",
    "    Z,\n",
    "    truncate_mode='lastp',\n",
    "    p=40,\n",
    "    leaf_rotation=90.,\n",
    "    leaf_font_size=12.,\n",
    "    show_contracted=True,\n",
    "    annotate_above=10,  # useful in small plots so annotations don't overlap\n",
    ")\n",
    "plt.show()"
   ]
  },
  {
   "cell_type": "markdown",
   "metadata": {},
   "source": [
    "https://stackoverflow.com/questions/28988627/pandas-correlation-groupby"
   ]
  },
  {
   "cell_type": "code",
   "execution_count": null,
   "metadata": {},
   "outputs": [],
   "source": [
    "df[df.symbols > 40000]"
   ]
  },
  {
   "cell_type": "code",
   "execution_count": null,
   "metadata": {},
   "outputs": [],
   "source": [
    "df[sum([df.images, df.videos, df.links]) > 150]"
   ]
  },
  {
   "cell_type": "code",
   "execution_count": null,
   "metadata": {},
   "outputs": [],
   "source": [
    "len(x_scaled)"
   ]
  },
  {
   "cell_type": "code",
   "execution_count": null,
   "metadata": {},
   "outputs": [],
   "source": [
    "x_scaled.reshape(6177)"
   ]
  },
  {
   "cell_type": "code",
   "execution_count": null,
   "metadata": {},
   "outputs": [],
   "source": [
    "# import pandas as pd\n",
    "# from mpl_toolkits.mplot3d import Axes3D\n",
    "from matplotlib import cm\n",
    "from matplotlib.ticker import LinearLocator, FormatStrFormatter\n",
    "from scipy.interpolate import griddata\n",
    "\n",
    "# x,y,z = df.symbols, sum([df.images, df.videos, df.links]), df.likes\n",
    "xyz = {'x': x_scaled.reshape(6177), 'y': y_scaled.reshape(6177), 'z': z_scaled.reshape(6177)}\n",
    "\n",
    "df_plotting = pd.DataFrame(xyz, index=range(len(xyz['x']))) \n",
    "\n",
    "# fig = plt.figure(figsize=(12, 8))\n",
    "# ax = Axes3D(fig, azim=-115, elev=15)\n",
    "# ax.plot_trisurf(df_plotting.x, df_plotting.y, df_plotting.z, cmap=cm.jet, linewidth=0.2)\n",
    "# plt.show()\n",
    "\n",
    "x1 = np.linspace(df_plotting['x'].min(), df_plotting['x'].max(), len(df_plotting['x'].unique()))\n",
    "y1 = np.linspace(df_plotting['y'].min(), df_plotting['y'].max(), len(df_plotting['y'].unique()))\n",
    "\n",
    "x2, y2 = np.meshgrid(x1, y1)\n",
    "\n",
    "# Interpolate unstructured D-dimensional data.\n",
    "z2 = griddata((df_plotting['x'], df_plotting['y']), df_plotting['z'], (x2, y2), method='cubic')\n",
    "\n",
    "# Ready to plot\n",
    "# z2\n",
    "fig = plt.figure()\n",
    "ax = fig.gca(projection='3d')\n",
    "surf = ax.plot_surface(x2, y2, z2, rstride=1, cstride=1, cmap=cm.jet,\n",
    "                       linewidth=0, antialiased=False, vmin=np.nanmin(z2), vmax=np.nanmax(z2))\n",
    "# ax.set_zlim(-1.01, 1.01)\n",
    "\n",
    "ax.zaxis.set_major_locator(LinearLocator(10))\n",
    "ax.zaxis.set_major_formatter(FormatStrFormatter('%.02f'))\n",
    "\n",
    "fig.colorbar(surf, shrink=0.5, aspect=5)\n",
    "plt.title('Meshgrid Created from 3 1D Arrays')\n",
    "\n",
    "plt.show()"
   ]
  },
  {
   "cell_type": "markdown",
   "metadata": {},
   "source": [
    "Эксперимент с построением 3Д-графика можно считать провалившимся. Слишком разная плотность точек, поэтому поверхность получается очень неровной. Хотя, 3Д диаграмма рассеяния, в принципе, неплоха. Только нужно добавить цвета и будет более-менее неплохо. "
   ]
  },
  {
   "cell_type": "markdown",
   "metadata": {},
   "source": [
    "https://stackoverflow.com/questions/52444555/seaborn-scatterplot-legend-not-showing\n",
    "\n",
    "https://stackoverflow.com/questions/44968012/unable-to-show-legend-in-seaborn-distplot\n",
    "\n"
   ]
  },
  {
   "cell_type": "code",
   "execution_count": null,
   "metadata": {},
   "outputs": [],
   "source": []
  },
  {
   "cell_type": "code",
   "execution_count": null,
   "metadata": {},
   "outputs": [],
   "source": []
  },
  {
   "cell_type": "code",
   "execution_count": null,
   "metadata": {},
   "outputs": [],
   "source": [
    "plt.rcParams[\"figure.figsize\"] = [14, 10]\n",
    "\n",
    "def histogram_plotting(srs: pd.Series, ci_wide=90, desc_stat='mean'):\n",
    "    \"\"\"Function for plitting histogram (seaborn) with custom confidence interval\n",
    "    and descriptive statistics.\n",
    "    \n",
    "    Parameters\n",
    "    ----------\n",
    "    srs : pd.Series\n",
    "        Data for which the histogram is plotted. \n",
    "        \n",
    "    ci_wide : int, default=90\n",
    "        Wide of confidence interval in percents.\n",
    "        \n",
    "    desc_stat : str, default=\"mean\"\n",
    "        Calculated descriptive statistics.\n",
    "\n",
    "    Returns\n",
    "    -------\n",
    "        None. Printing histogram.\n",
    "    \n",
    "    \"\"\"\n",
    "       \n",
    "    ci = (100 - ci_wide) / 200\n",
    "    confidence_interval = list(srs.quantile([ci, 1-ci]))\n",
    "    \n",
    "    ax = sns.histplot(srs, kde=True)\n",
    "    max_bar_height = max([h.get_height() for h in ax.patches])\n",
    "    \n",
    "    ax.plot(confidence_interval, [max_bar_height*1.05, max_bar_height*1.05], color='black')\n",
    "    \n",
    "    for x in confidence_interval:\n",
    "        ax.plot([x, x], [0, max_bar_height*1.1], color='black')\n",
    "        ax.text(x, max_bar_height*1.13, f'{x:.0f}', horizontalalignment='center', verticalalignment='center')\n",
    "    \n",
    "    ax.text(sum(confidence_interval) / 2, max_bar_height*1.07, str(ci_wide) + '% interval',\n",
    "                horizontalalignment='center', verticalalignment='center')\n",
    "\n",
    "    descriptive_statistics = getattr(srs, desc_stat)()\n",
    "\n",
    "    ax.plot([descriptive_statistics, descriptive_statistics], \n",
    "            [0, max_bar_height*1.05], color='black', linestyle='--')\n",
    "    \n",
    "    ax.text(descriptive_statistics, max_bar_height*0.15, \n",
    "            desc_stat.capitalize() + f': {descriptive_statistics:.0f}',\n",
    "            bbox=dict(facecolor='white', edgecolor='white', alpha=0.5),\n",
    "            horizontalalignment='center', verticalalignment='center')\n",
    "    \n",
    "    ax.set_ylim(0, max_bar_height*1.2)\n",
    "\n",
    "    plt.tight_layout()\n",
    "    plt.show()\n",
    "    \n",
    "    # END OF FUNC"
   ]
  },
  {
   "cell_type": "markdown",
   "metadata": {},
   "source": [
    "https://plotly.com/python/pie-charts/\n",
    "\n",
    "https://medium.com/@kvnamipara/a-better-visualisation-of-pie-charts-by-matplotlib-935b7667d77f\n",
    "\n",
    "https://plotly.com/python/sunburst-charts/\n",
    "\n",
    "https://stackoverflow.com/questions/62469436/python-plotly-sunburst-graph-opens-empty-page\n",
    "\n",
    "https://matplotlib.org/stable/gallery/pie_and_polar_charts/pie_and_donut_labels.html"
   ]
  },
  {
   "cell_type": "markdown",
   "metadata": {},
   "source": [
    "https://stackoverflow.com/questions/55806320/how-to-add-box-and-label-to-pie-graph-exactly-as-shown-in-figure-below\n",
    "\n",
    "https://stackoverflow.com/questions/59153347/matplotlib-pie-donut-chart-annotation-text-size"
   ]
  },
  {
   "cell_type": "markdown",
   "metadata": {},
   "source": [
    "```python\n",
    "from matplotlib import gridspec\n",
    "\n",
    "custpref=pd.DataFrame({'tov_type':['Inpatient','Office Visit','Appointment Schedule','Allergy Sheet'],'count':[7,6,1,1]})\n",
    "\n",
    "fig=plt.figure(figsize=(6,4))\n",
    "gs1 = gridspec.GridSpec(1,1,\n",
    "    left=0.1,right=0.7,\n",
    "    bottom=0.1,top=0.7,\n",
    ")\n",
    "gs2 = gridspec.GridSpec(1,1,\n",
    "    left=0.05,right=0.95,\n",
    "    bottom=0.9,top=1.0,\n",
    ")\n",
    "\n",
    "pie_ax=fig.add_subplot(gs1[0])\n",
    "title_ax=fig.add_subplot(gs2[0])\n",
    "\n",
    "# Create a list of colors (from iWantHue)\n",
    "colors = [\"#6287da\",\"#72ac5c\",\"#8653aa\",\"#bb7438\",\"#b94b75\"]\n",
    "\n",
    "# Create a pie chart\n",
    "wedges, texts = pie_ax.pie(\n",
    "    # using data total)arrests\n",
    "    custpref['count'],\n",
    "    # with no shadows\n",
    "    shadow=False,\n",
    "    # with colors\n",
    "    colors=colors,\n",
    "    # with the start angle at 90%\n",
    "    startangle=90,\n",
    ")\n",
    "\n",
    "bbox_props = dict(boxstyle=\"square,pad=0.3\", fc=\"w\", ec=\"k\", lw=0.72)\n",
    "kw = dict(xycoords='data', textcoords='data', arrowprops=dict(arrowstyle=\"-\"), zorder=0, va=\"center\")\n",
    "\n",
    "for i, p in enumerate(wedges):\n",
    "    ang = (p.theta2 - p.theta1)/2. + p.theta1\n",
    "    y = np.sin(np.deg2rad(ang))\n",
    "    x = np.cos(np.deg2rad(ang))\n",
    "    horizontalalignment = {-1: \"right\", 1: \"left\"}[int(np.sign(x))]\n",
    "    connectionstyle = \"angle,angleA=0,angleB={}\".format(ang)\n",
    "    kw[\"arrowprops\"].update({\"connectionstyle\": connectionstyle,\"color\":colors[i]})\n",
    "    pie_ax.annotate(custpref['tov_type'][i], xy=(x, y), xytext=(1.35*np.sign(x), 1.4*y),\n",
    "                 horizontalalignment=horizontalalignment, **kw)\n",
    "\n",
    "# View the plot drop above\n",
    "pie_ax.axis('equal')\n",
    "\n",
    "\n",
    "title_ax.set_facecolor('k')\n",
    "\n",
    "title_ax.text(0.5,0.5,\"Top 5 Visit Types                  Total = 15 Visits\",\n",
    "    ha=\"center\",va=\"center\",transform=title_ax.transAxes,color=\"w\")\n",
    "\n",
    "for side in ['top', 'bottom', 'left', 'right']:\n",
    "    title_ax.spines[side].set_visible(False)\n",
    "title_ax.axes.get_xaxis().set_visible(False)    \n",
    "title_ax.axes.get_yaxis().set_visible(False)    \n",
    "\n",
    "plt.show()\n",
    "```"
   ]
  },
  {
   "cell_type": "code",
   "execution_count": null,
   "metadata": {},
   "outputs": [],
   "source": [
    "df.head()"
   ]
  },
  {
   "cell_type": "code",
   "execution_count": null,
   "metadata": {},
   "outputs": [],
   "source": [
    "df.groupby(['isRepost', 'author_type']).agg({'id': \"count\"})"
   ]
  },
  {
   "cell_type": "code",
   "execution_count": null,
   "metadata": {},
   "outputs": [],
   "source": [
    "df.groupby(['isRepost', 'author_type'], as_index=False).agg({'id': \"count\"})"
   ]
  },
  {
   "cell_type": "markdown",
   "metadata": {},
   "source": [
    "### Эксперименты с plotly"
   ]
  },
  {
   "cell_type": "code",
   "execution_count": null,
   "metadata": {},
   "outputs": [],
   "source": [
    "# Import the necessaries libraries\n",
    "import plotly.offline as pyo\n",
    "import plotly.graph_objs as go\n",
    "import plotly.express as px\n",
    "# Set notebook mode to work in offline\n",
    "pyo.init_notebook_mode()\n",
    "# Create traces\n",
    "fig = px.sunburst(tmp, path=['isRepost', 'author_type'], values='id')\n",
    "# Plot it and save as basic-line.html\n",
    "# pyo.iplot(fig, filename = 'sunburst')"
   ]
  },
  {
   "cell_type": "code",
   "execution_count": null,
   "metadata": {},
   "outputs": [],
   "source": [
    "print(tmp.author_type.values)\n",
    "print(tmp.isRepost.values)\n",
    "print(tmp.id.values)"
   ]
  },
  {
   "cell_type": "code",
   "execution_count": null,
   "metadata": {},
   "outputs": [],
   "source": [
    "import plotly.graph_objects as go\n",
    "\n",
    "pprree = ['', '']\n",
    "pprree.extend(tmp.author_type.values)\n",
    "\n",
    "pre = ['', '']\n",
    "pre.extend(tmp.isRepost.values)\n",
    "\n",
    "fig =go.Figure(go.Sunburst(\n",
    "    labels=pprree,\n",
    "    parents=pre,\n",
    "    values=tmp.id.values\n",
    "    \n",
    "))\n",
    "# fig.update_layout(margin = dict(t=0, l=0, r=0, b=0))\n",
    "\n",
    "fig.show()"
   ]
  },
  {
   "cell_type": "markdown",
   "metadata": {},
   "source": [
    "На 13.03.2021 Эксперимент не удался. "
   ]
  },
  {
   "cell_type": "code",
   "execution_count": null,
   "metadata": {},
   "outputs": [],
   "source": [
    "tmp"
   ]
  },
  {
   "cell_type": "code",
   "execution_count": null,
   "metadata": {},
   "outputs": [],
   "source": [
    "# 'Статья подсайта', 'Репост'\n",
    "# 'Автор - подсайт', 'Автор - пользователь'"
   ]
  },
  {
   "cell_type": "code",
   "execution_count": null,
   "metadata": {},
   "outputs": [],
   "source": [
    "sns.set_theme()\n",
    "\n",
    "def func(pct, allvals):\n",
    "    absolute = round(pct/100.*np.sum(allvals))\n",
    "    return \"{:.1f}%\\n{:d} posts\".format(pct, absolute)\n",
    "\n",
    "\n",
    "# Data to plot\n",
    "labels = ['Пост подсайта \\nАвтор - пользователь', 'Пост подсайта \\nАвтор - подсайт', \n",
    "          'Репост \\nАвтор - пользователь', 'Репост \\nАвтор - подсайт']# tmp.author_type.values  \n",
    "sizes = tmp.id.values\n",
    "# labels_gender = ['Статья подсайта','Статья подсайта', 'Репост', 'Репост'] # tmp.isRepost.values\n",
    "# sizes_gender = tmp.id.values\n",
    "colors = ['#ff6666', '#ffcc99', '#99ff99', '#66b3ff']\n",
    "# colors_gender = ['#ff6666', '#ffcc99', '#99ff99', '#66b3ff'] #['#c2c2f0','#ffb3e6', '#c2c2f0','#ffb3e6']\n",
    "\n",
    " \n",
    "# Plot\n",
    "plt.pie(sizes, labels=labels, colors=colors, startangle=45, #frame=True, \n",
    "        autopct=lambda pct: func(pct, sizes), explode=(0.03, 0.03, 0.03, 0.03))\n",
    "# plt.pie(sizes_gender, labels=labels_gender, colors=colors_gender, radius=0.75, startangle=90)\n",
    "centre_circle = plt.Circle((0,0), 0.5, color='black', fc='white',linewidth=0)\n",
    "fig = plt.gcf()\n",
    "fig.gca().add_artist(centre_circle)\n",
    "\n",
    "plt.axis('equal')\n",
    "plt.tight_layout()\n",
    "plt.show()"
   ]
  },
  {
   "cell_type": "code",
   "execution_count": null,
   "metadata": {},
   "outputs": [],
   "source": []
  },
  {
   "cell_type": "code",
   "execution_count": null,
   "metadata": {},
   "outputs": [],
   "source": []
  },
  {
   "cell_type": "code",
   "execution_count": null,
   "metadata": {},
   "outputs": [],
   "source": [
    "df[(df.words < 50) & (sum([df.images, df.videos, df.links]).eq(1))]"
   ]
  },
  {
   "cell_type": "code",
   "execution_count": null,
   "metadata": {},
   "outputs": [],
   "source": [
    "sum([df.images, df.videos, df.links]).eq(1)"
   ]
  },
  {
   "cell_type": "code",
   "execution_count": null,
   "metadata": {},
   "outputs": [],
   "source": [
    "df['class'] = np.where((df.words < 50) & (sum([df.images, df.videos, df.links]).eq(1)), 0, 1)"
   ]
  },
  {
   "cell_type": "code",
   "execution_count": null,
   "metadata": {},
   "outputs": [],
   "source": [
    "df['class']"
   ]
  },
  {
   "cell_type": "code",
   "execution_count": null,
   "metadata": {},
   "outputs": [],
   "source": [
    "df.head()"
   ]
  },
  {
   "cell_type": "code",
   "execution_count": null,
   "metadata": {},
   "outputs": [],
   "source": [
    "sns.scatterplot(x=df.symbols, y=sum([df.images, df.videos, df.links]), hue='class', data=df)"
   ]
  },
  {
   "cell_type": "code",
   "execution_count": null,
   "metadata": {},
   "outputs": [],
   "source": [
    "df.words.sort_values()"
   ]
  },
  {
   "cell_type": "code",
   "execution_count": null,
   "metadata": {},
   "outputs": [],
   "source": [
    "# [x for x in range(0,20000,50)]"
   ]
  },
  {
   "cell_type": "code",
   "execution_count": null,
   "metadata": {},
   "outputs": [],
   "source": [
    "sns.histplot(df.words.sort_values(), bins=[50,250,500,1000,2000,5000,10000,20000]) #bins=[x for x in range(0,20000,50)]"
   ]
  },
  {
   "cell_type": "code",
   "execution_count": null,
   "metadata": {},
   "outputs": [],
   "source": [
    "df.groupby(['class', 'isRepost']).agg({'likes': [\"sum\", \"median\", \"mean\", \"max\", \"min\"]})"
   ]
  },
  {
   "cell_type": "code",
   "execution_count": null,
   "metadata": {},
   "outputs": [],
   "source": [
    "df.likes.sum()"
   ]
  },
  {
   "cell_type": "code",
   "execution_count": null,
   "metadata": {},
   "outputs": [],
   "source": [
    "df[(df['class'] == 0) & (df['likes'] > 500)]"
   ]
  },
  {
   "cell_type": "code",
   "execution_count": null,
   "metadata": {},
   "outputs": [],
   "source": [
    "df[df['likes'] < 0]"
   ]
  },
  {
   "cell_type": "code",
   "execution_count": null,
   "metadata": {},
   "outputs": [],
   "source": []
  },
  {
   "cell_type": "code",
   "execution_count": null,
   "metadata": {},
   "outputs": [],
   "source": [
    "tmp"
   ]
  },
  {
   "cell_type": "code",
   "execution_count": null,
   "metadata": {},
   "outputs": [],
   "source": [
    "custpref=pd.DataFrame({'tov_type':['Inpatient','Office Visit','Appointment Schedule','Allergy Sheet'],'count':[7,6,1,1]})\n",
    "\n",
    "fig=plt.figure(figsize=(6,4))\n",
    "gs1 = gridspec.GridSpec(1,1,\n",
    "    left=0.1,right=0.7,\n",
    "    bottom=0.1,top=0.7,\n",
    ")\n",
    "gs2 = gridspec.GridSpec(1,1,\n",
    "    left=0.05,right=0.95,\n",
    "    bottom=0.9,top=1.0,\n",
    ")\n",
    "\n",
    "pie_ax=fig.add_subplot(gs1[0])\n",
    "title_ax=fig.add_subplot(gs2[0])\n",
    "\n",
    "# Create a list of colors (from iWantHue)\n",
    "colors = [\"#6287da\",\"#72ac5c\",\"#8653aa\",\"#bb7438\",\"#b94b75\"]\n",
    "\n",
    "# Create a pie chart\n",
    "wedges, texts = pie_ax.pie(\n",
    "    # using data total)arrests\n",
    "    tmp['id'],\n",
    "    # with no shadows\n",
    "    shadow=False,\n",
    "    # with colors\n",
    "    colors=colors,\n",
    "    # with the start angle at 90%\n",
    "    startangle=90,\n",
    ")\n",
    "\n",
    "bbox_props = dict(boxstyle=\"square,pad=0.3\", fc=\"w\", ec=\"k\", lw=0.72)\n",
    "kw = dict(xycoords='data', textcoords='data', arrowprops=dict(arrowstyle=\"-\"), zorder=0, va=\"center\")\n",
    "\n",
    "for i, p in enumerate(wedges):\n",
    "    ang = (p.theta2 - p.theta1)/2. + p.theta1\n",
    "    y = np.sin(np.deg2rad(ang))\n",
    "    x = np.cos(np.deg2rad(ang))\n",
    "    horizontalalignment = {-1: \"right\", 1: \"left\"}[int(np.sign(x))]\n",
    "    connectionstyle = \"angle,angleA=0,angleB={}\".format(ang)\n",
    "    kw[\"arrowprops\"].update({\"connectionstyle\": connectionstyle,\"color\":colors[i]})\n",
    "    pie_ax.annotate(tmp['author_type'][i], xy=(x, y), xytext=(1.35*np.sign(x), 1.4*y),\n",
    "                 horizontalalignment=horizontalalignment, **kw)\n",
    "\n",
    "# View the plot drop above\n",
    "pie_ax.axis('equal');"
   ]
  },
  {
   "cell_type": "code",
   "execution_count": null,
   "metadata": {},
   "outputs": [],
   "source": []
  },
  {
   "cell_type": "markdown",
   "metadata": {},
   "source": [
    "Для того, чтобы рассказать эту историю я пожертвовал математической  строгостью изложения, поскольку в противном случае сделанные выводы можно было бы сформулировать только в виде «нулевая/альтернативная гипотеза отвергается/принимается», что не очень информативно для рядового читателя."
   ]
  },
  {
   "cell_type": "code",
   "execution_count": null,
   "metadata": {},
   "outputs": [],
   "source": []
  },
  {
   "cell_type": "code",
   "execution_count": null,
   "metadata": {},
   "outputs": [],
   "source": []
  },
  {
   "cell_type": "code",
   "execution_count": null,
   "metadata": {},
   "outputs": [],
   "source": []
  },
  {
   "cell_type": "markdown",
   "metadata": {},
   "source": [
    "# Аналитика за февраль"
   ]
  },
  {
   "cell_type": "code",
   "execution_count": null,
   "metadata": {},
   "outputs": [],
   "source": [
    "df.set_index('date', inplace=True)\n",
    "df.index = pd.to_datetime(df.index)"
   ]
  },
  {
   "cell_type": "code",
   "execution_count": null,
   "metadata": {},
   "outputs": [],
   "source": [
    "fev_subs = df[\"2021-02\"]\n",
    "fev_subs.reset_index(inplace=True)\n",
    "fev_subs.head()"
   ]
  },
  {
   "cell_type": "code",
   "execution_count": null,
   "metadata": {},
   "outputs": [],
   "source": [
    "fev_subs.tail()"
   ]
  },
  {
   "cell_type": "code",
   "execution_count": null,
   "metadata": {},
   "outputs": [],
   "source": [
    "fev_subs.shape"
   ]
  },
  {
   "cell_type": "code",
   "execution_count": null,
   "metadata": {},
   "outputs": [],
   "source": [
    "import matplotlib as mpl\n",
    "sns.set_palette('husl', 10)\n",
    "\n",
    "def func(pct, allvals):\n",
    "    absolute = int(pct/100.*np.sum(allvals))\n",
    "    return \"{:.1f}%\\n{:d} posts\".format(pct, absolute)\n",
    "\n",
    "plt.rcParams[\"figure.figsize\"] = [14, 10]\n",
    "mpl.rcParams['font.size'] = 14.0\n",
    "\n",
    "labels = 'Статья подсайта', 'Репост'\n",
    "sizes = fev_subs.groupby(['isRepost']).agg({'id': \"count\"})['id'].values\n",
    "explode = (0, 0.1)  \n",
    "\n",
    "fig1, ax1 = plt.subplots()\n",
    "patches, texts, autotexts = ax1.pie(sizes, explode=explode, labels=labels, autopct=lambda pct: func(pct, sizes), #shadow=True, \n",
    "        startangle=90)\n",
    "\n",
    "texts[0].set_fontsize(14)\n",
    "texts[1].set_fontsize(14)\n",
    "\n",
    "ax1.axis('equal')\n",
    "plt.title('Доля репостов от общего количества публикаций за февраль', fontsize=22, pad=20)\n",
    "\n",
    "# plt.savefig(PATH + \"March_2021/part_of_reposts.png\", dpi=300, bbox_inches='tight')\n",
    "plt.show()"
   ]
  },
  {
   "cell_type": "code",
   "execution_count": null,
   "metadata": {},
   "outputs": [],
   "source": [
    "fev_subs.commentsCount.sum()"
   ]
  },
  {
   "cell_type": "code",
   "execution_count": null,
   "metadata": {},
   "outputs": [],
   "source": [
    "fev_subs.groupby([\"isRepost\"]).commentsCount.sum()"
   ]
  },
  {
   "cell_type": "code",
   "execution_count": null,
   "metadata": {},
   "outputs": [],
   "source": [
    "import matplotlib as mpl\n",
    "\n",
    "def func(pct, allvals):\n",
    "    absolute = int(pct/100.*np.sum(allvals))\n",
    "    return \"{:.1f}%\\n{:d} comments\".format(pct, absolute)\n",
    "\n",
    "sns.set_theme()\n",
    "sns.set_palette(\"pastel\")\n",
    "\n",
    "plt.rcParams[\"figure.figsize\"] = [14, 10]\n",
    "mpl.rcParams['font.size'] = 14.0\n",
    "\n",
    "labels = 'Статья подсайта', 'Репост'\n",
    "sizes = fev_subs.groupby([\"isRepost\"]).commentsCount.sum().values\n",
    "explode = (0, 0.1)  \n",
    "\n",
    "fig1, ax1 = plt.subplots()\n",
    "patches, texts, autotexts = ax1.pie(sizes, explode=explode, labels=labels, \n",
    "                                    autopct=lambda pct: func(pct, sizes), #shadow=True, \n",
    "        startangle=90)\n",
    "\n",
    "texts[0].set_fontsize(14)\n",
    "texts[1].set_fontsize(14)\n",
    "ax1.axis('equal')\n",
    "plt.title('Количество комментариев в публикациях за февраль', fontsize=22, pad=20)\n",
    "\n",
    "# plt.savefig(PATH + \"March_2021/comments_parted.png\", dpi=300, bbox_inches='tight')\n",
    "plt.show()\n",
    "\n",
    "sns.set_theme()"
   ]
  },
  {
   "cell_type": "code",
   "execution_count": null,
   "metadata": {},
   "outputs": [],
   "source": [
    "sns.set_theme()"
   ]
  },
  {
   "cell_type": "code",
   "execution_count": null,
   "metadata": {},
   "outputs": [],
   "source": [
    "from pandas.plotting import table "
   ]
  },
  {
   "cell_type": "code",
   "execution_count": null,
   "metadata": {},
   "outputs": [],
   "source": [
    "fev_subs.groupby(['isRepost']).agg({'commentsCount': [\"sum\", \"median\", \"mean\", \"max\", \"min\"]})"
   ]
  },
  {
   "cell_type": "code",
   "execution_count": null,
   "metadata": {},
   "outputs": [],
   "source": [
    "# ax = plt.subplot(111, frame_on=False) # no visible frame\n",
    "# ax.xaxis.set_visible(False)  # hide the x axis\n",
    "# ax.yaxis.set_visible(False)  # hide the y axis\n",
    "\n",
    "# table(ax, fev_subs.groupby(['isRepost']).agg({'commentsCount': [\"sum\", \"median\", \"mean\", \"max\", \"min\"]}))  # where df is your data frame\n",
    "# plt.tight_layout()\n",
    "# plt.savefig(PATH + \"March_2021/test_table.png\", dpi=300, bbox_inches='tight')\n",
    "# plt.show()"
   ]
  },
  {
   "cell_type": "code",
   "execution_count": null,
   "metadata": {},
   "outputs": [],
   "source": [
    "# sns.histplot(x = fev_subs.commentsCount, data=fev_subs, hue=\"isRepost\", kde=True)\n",
    "sns.displot(x = fev_subs.commentsCount, data=fev_subs, col=\"isRepost\", kde=True)"
   ]
  },
  {
   "cell_type": "markdown",
   "metadata": {},
   "source": [
    "Надо попробовать посчитать количество уникальных авторов, которые зарепосчены извне."
   ]
  },
  {
   "cell_type": "code",
   "execution_count": null,
   "metadata": {},
   "outputs": [],
   "source": [
    "len(fev_subs[fev_subs.isRepost == False].author_name.unique())"
   ]
  },
  {
   "cell_type": "code",
   "execution_count": null,
   "metadata": {},
   "outputs": [],
   "source": [
    "len(fev_subs[fev_subs.isRepost == True].author_name.unique())"
   ]
  },
  {
   "cell_type": "code",
   "execution_count": null,
   "metadata": {},
   "outputs": [],
   "source": [
    "fev_subs[(fev_subs.isRepost == False) & (fev_subs.title != \"Статья удалена\")].likes.sum()"
   ]
  },
  {
   "cell_type": "code",
   "execution_count": null,
   "metadata": {},
   "outputs": [],
   "source": [
    "fev_subs.groupby(['isRepost']).author_name.unique()"
   ]
  },
  {
   "cell_type": "code",
   "execution_count": null,
   "metadata": {},
   "outputs": [],
   "source": [
    "fev_subs.author_name.unique()"
   ]
  },
  {
   "cell_type": "code",
   "execution_count": null,
   "metadata": {},
   "outputs": [],
   "source": [
    "fev_subs.columns"
   ]
  },
  {
   "cell_type": "code",
   "execution_count": null,
   "metadata": {},
   "outputs": [],
   "source": [
    "fev_subs.hitsCount.sum()"
   ]
  },
  {
   "cell_type": "code",
   "execution_count": null,
   "metadata": {},
   "outputs": [],
   "source": [
    "fev_subs.groupby(['isRepost']).agg({'hitsCount': [\"sum\", \"median\", \"mean\", \"max\", \"min\"]})"
   ]
  },
  {
   "cell_type": "code",
   "execution_count": null,
   "metadata": {},
   "outputs": [],
   "source": [
    "def func(pct, allvals):\n",
    "    absolute = int(pct/100.*np.sum(allvals))\n",
    "    return \"{:.1f}%\\n{:d} просмотров\".format(pct, absolute)\n",
    "\n",
    "sns.set_palette(\"rainbow\")\n",
    "\n",
    "plt.rcParams[\"figure.figsize\"] = [14, 10]\n",
    "mpl.rcParams['font.size'] = 14.0\n",
    "\n",
    "labels = 'Статья подсайта', 'Репост'\n",
    "sizes = fev_subs.groupby([\"isRepost\"]).hitsCount.sum().values\n",
    "explode = (0, 0.1)  \n",
    "\n",
    "fig1, ax1 = plt.subplots()\n",
    "patches, texts, autotexts = ax1.pie(sizes, explode=explode, labels=labels, autopct=lambda pct: func(pct, sizes), #shadow=True, \n",
    "        startangle=90)\n",
    "\n",
    "texts[0].set_fontsize(14)\n",
    "texts[1].set_fontsize(14)\n",
    "\n",
    "ax1.axis('equal')\n",
    "plt.title('Просмотры публикаций за февраль', fontsize=22, pad=20)\n",
    "\n",
    "# plt.savefig(PATH + \"March_2021/part_of_reposts_hits.png\", dpi=300, bbox_inches='tight')\n",
    "plt.show()"
   ]
  },
  {
   "cell_type": "code",
   "execution_count": null,
   "metadata": {},
   "outputs": [],
   "source": [
    "fev_subs.favoritesCount.sum()"
   ]
  },
  {
   "cell_type": "code",
   "execution_count": null,
   "metadata": {},
   "outputs": [],
   "source": [
    "fev_subs.groupby(['isRepost']).agg({'favoritesCount': [\"sum\", \"median\", \"mean\", \"max\", \"min\"]})"
   ]
  },
  {
   "cell_type": "code",
   "execution_count": null,
   "metadata": {},
   "outputs": [],
   "source": [
    "def func(pct, allvals):\n",
    "    absolute = int(pct/100.*np.sum(allvals))\n",
    "    return \"{:.1f}%\\n{:d} добавлений в закладки\".format(pct, absolute)\n",
    "\n",
    "sns.set_palette(\"summer\")\n",
    "\n",
    "plt.rcParams[\"figure.figsize\"] = [14, 10]\n",
    "mpl.rcParams['font.size'] = 12.0\n",
    "\n",
    "labels = 'Статья подсайта', 'Репост'\n",
    "sizes = fev_subs.groupby([\"isRepost\"]).favoritesCount.sum().values\n",
    "explode = (0, 0.1)  \n",
    "\n",
    "fig1, ax1 = plt.subplots()\n",
    "patches, texts, autotexts = ax1.pie(sizes, explode=explode, labels=labels, autopct=lambda pct: func(pct, sizes), #shadow=True, \n",
    "        startangle=90)\n",
    "\n",
    "texts[0].set_fontsize(14)\n",
    "texts[1].set_fontsize(14)\n",
    "\n",
    "ax1.axis('equal')\n",
    "plt.title('Добавления статей в закладки за февраль', fontsize=22, pad=20)\n",
    "\n",
    "# plt.savefig(PATH + \"March_2021/part_of_reposts_fav.png\", dpi=300, bbox_inches='tight')\n",
    "plt.show()"
   ]
  },
  {
   "cell_type": "code",
   "execution_count": null,
   "metadata": {},
   "outputs": [],
   "source": [
    "fev_subs.likes.sum()"
   ]
  },
  {
   "cell_type": "code",
   "execution_count": null,
   "metadata": {},
   "outputs": [],
   "source": [
    "fev_subs[fev_subs.title != 'Статья удалена'].likes.sum()"
   ]
  },
  {
   "cell_type": "code",
   "execution_count": null,
   "metadata": {},
   "outputs": [],
   "source": [
    "fev_subs[fev_subs.title != 'Статья удалена'].groupby(['isRepost']).agg({'likes': [\"sum\", \"median\", \"mean\", \"max\", \"min\"]})"
   ]
  },
  {
   "cell_type": "code",
   "execution_count": null,
   "metadata": {},
   "outputs": [],
   "source": [
    "18492 + 4570"
   ]
  },
  {
   "cell_type": "code",
   "execution_count": null,
   "metadata": {},
   "outputs": [],
   "source": [
    "def func(pct, allvals):\n",
    "    absolute = int(pct/100.*np.sum(allvals))\n",
    "    return \"{:.1f}%\\n{:d} лайков\".format(pct, absolute)\n",
    "\n",
    "sns.set_palette(\"Spectral\")\n",
    "\n",
    "plt.rcParams[\"figure.figsize\"] = [14, 10]\n",
    "mpl.rcParams['font.size'] = 14.0\n",
    "\n",
    "labels = 'Статья подсайта', 'Репост'\n",
    "sizes = fev_subs[fev_subs.title != 'Статья удалена'].groupby([\"isRepost\"]).likes.sum().values\n",
    "explode = (0, 0.1)  \n",
    "\n",
    "fig1, ax1 = plt.subplots()\n",
    "patches, texts, autotexts = ax1.pie(sizes, explode=explode, labels=labels, autopct=lambda pct: func(pct, sizes), #shadow=True, \n",
    "        startangle=90)\n",
    "\n",
    "texts[0].set_fontsize(14)\n",
    "texts[1].set_fontsize(14)\n",
    "\n",
    "ax1.axis('equal')\n",
    "plt.title('Количество лайков за февраль', fontsize=22, pad=20)\n",
    "\n",
    "# plt.savefig(PATH + \"March_2021/part_of_reposts_likes.png\", dpi=300, bbox_inches='tight')\n",
    "plt.show()"
   ]
  },
  {
   "cell_type": "code",
   "execution_count": null,
   "metadata": {},
   "outputs": [],
   "source": [
    "# fev_subs.likes[fev_subs.isRepost == True]\n",
    "# fev_subs.likes[fev_subs.isRepost == False]"
   ]
  },
  {
   "cell_type": "code",
   "execution_count": null,
   "metadata": {},
   "outputs": [],
   "source": [
    "# fev_subs.groupby(['isRepost']).agg({})"
   ]
  },
  {
   "cell_type": "code",
   "execution_count": null,
   "metadata": {},
   "outputs": [],
   "source": [
    "f, axes = plt.subplots(1, 2, sharey=True, sharex=True)\n",
    "f.suptitle(\"Распределение количества лайков у постов\")\n",
    "\n",
    "sns.histplot(x = fev_subs.likes[fev_subs.isRepost == False], \n",
    "             data=fev_subs, kde=True, ax=axes[0], bins=20).set_title(\"Посты подсайта\")\n",
    "\n",
    "sns.histplot(x = fev_subs.likes[fev_subs.isRepost == True], \n",
    "             data=fev_subs, kde=True, ax=axes[1], bins=20).set_title(\"Репосты\")\n",
    "\n",
    "\n",
    "# plt.savefig(PATH + \"March_2021/part_of_reposts_dist_likes.png\", dpi=300, bbox_inches='tight')\n",
    "\n",
    "plt.show()"
   ]
  },
  {
   "cell_type": "code",
   "execution_count": null,
   "metadata": {},
   "outputs": [],
   "source": [
    "fev_subs.symbols.sum()"
   ]
  },
  {
   "cell_type": "code",
   "execution_count": null,
   "metadata": {},
   "outputs": [],
   "source": [
    "fev_subs.images.sum() + fev_subs.videos.sum() + fev_subs.links.sum()"
   ]
  },
  {
   "cell_type": "code",
   "execution_count": null,
   "metadata": {},
   "outputs": [],
   "source": []
  },
  {
   "cell_type": "code",
   "execution_count": null,
   "metadata": {},
   "outputs": [],
   "source": [
    "tmp_2 = fev_subs[fev_subs.isRepost == False].groupby(['author_name','author_avatar_url'], as_index=False).agg({\"likes\": \"sum\"}) \\\n",
    ".sort_values(by=\"likes\", ascending=False).head(20)\n",
    "tmp_2.head(10)"
   ]
  },
  {
   "cell_type": "code",
   "execution_count": null,
   "metadata": {},
   "outputs": [],
   "source": [
    "sum(tmp_2.likes[:5])"
   ]
  },
  {
   "cell_type": "code",
   "execution_count": null,
   "metadata": {},
   "outputs": [],
   "source": [
    "sum(tmp_2.likes[:5]) / (fev_subs[(fev_subs.isRepost == False) & (fev_subs.title != \"Статья удалена\")].likes.sum()) * 100"
   ]
  },
  {
   "cell_type": "code",
   "execution_count": null,
   "metadata": {},
   "outputs": [],
   "source": [
    "plt.rcParams[\"figure.figsize\"] = [14, 20]\n",
    "\n",
    "my_cmap = plt.get_cmap(\"coolwarm\")\n",
    "rescale = lambda y: (y - np.min(y)) / (np.max(y) - np.min(y))\n",
    "\n",
    "labels = tmp_2.author_avatar_url[::-1]\n",
    "# colors = ['lightcoral', 'orchid', 'peachpuff', 'coral', 'tan', 'indigo', 'goldenrod', 'pink', 'darkturquoise', 'teal'][::-1]\n",
    "values = tmp_2.likes[::-1] \n",
    "\n",
    "height = 0.9\n",
    "plt.barh(y=tmp_2.author_name[::-1], width=tmp_2.likes[::-1], height=height, \n",
    "         color=my_cmap(rescale(values)), \n",
    "         align='center')\n",
    "\n",
    "for i, (label, value) in enumerate(zip(labels, values)):\n",
    "    im = Image.open(requests.get(label, stream=True).raw)\n",
    "    plt.imshow(im, extent=[value - 200, value - 20, i - height / 2.5, i + height / 2.5], aspect='auto', zorder=2)\n",
    "    plt.text(value + 1, i, '{:1.0f}'.format(value), ha = 'left', va = 'center')\n",
    "\n",
    "    \n",
    "plt.xlim(0, max(values) * 1.05)\n",
    "plt.ylim(-0.5, len(labels) - 0.5)\n",
    "plt.xlabel('Сумма рейтинга за месяц', fontsize=16)\n",
    "plt.ylabel('Авторы', fontsize=16)\n",
    "plt.title('Топ-20 авторов по сумме рейтинга за февраль', fontsize=22, pad=20)\n",
    "plt.tight_layout()\n",
    "\n",
    "# plt.savefig(PATH + \"March_2021/authors_top20_sum_likes.png\", dpi=300, bbox_inches='tight')\n",
    "\n",
    "plt.show()"
   ]
  },
  {
   "cell_type": "code",
   "execution_count": null,
   "metadata": {},
   "outputs": [],
   "source": [
    "tmp_3 = fev_subs[fev_subs.isRepost == False].groupby(['author_name','author_avatar_url'], as_index=False).count() \\\n",
    ".sort_values(by=\"id\", ascending=False).iloc[:, [0,1,3]].head(10)\n",
    "tmp_3.head(20)"
   ]
  },
  {
   "cell_type": "code",
   "execution_count": null,
   "metadata": {},
   "outputs": [],
   "source": [
    "sum(tmp_3.id[:3])"
   ]
  },
  {
   "cell_type": "code",
   "execution_count": null,
   "metadata": {},
   "outputs": [],
   "source": [
    "sum(tmp_3.id[:3]) / 518 * 100"
   ]
  },
  {
   "cell_type": "code",
   "execution_count": null,
   "metadata": {},
   "outputs": [],
   "source": [
    "plt.rcParams[\"figure.figsize\"] = [14, 10]\n",
    "\n",
    "labels = tmp_3.author_avatar_url[::-1]\n",
    "colors = ['lightcoral', 'orchid', 'tan', 'peachpuff', 'goldenrod', 'darkred', 'darkturquoise', 'indigo', 'coral', 'pink'][::-1]\n",
    "values = tmp_3.id[::-1] \n",
    "\n",
    "height = 0.9\n",
    "plt.barh(y=tmp_3.author_name[::-1], width=tmp_3.id[::-1], height=height, color=colors, align='center')\n",
    "\n",
    "for i, (label, value) in enumerate(zip(labels, values)):\n",
    "    im = Image.open(requests.get(label, stream=True).raw)\n",
    "    plt.imshow(im, extent=[value - 8, value - 2, i - height / 2.5, i + height / 2.5], aspect='auto', zorder=2)\n",
    "    plt.text(value + 1, i, '{:1.0f}'.format(value), ha = 'left', va = 'center')\n",
    "\n",
    "    \n",
    "plt.xlim(0, max(values) * 1.05)\n",
    "plt.ylim(-0.5, len(labels) - 0.5)\n",
    "plt.xlabel('Количество постов за месяц', fontsize=16)\n",
    "plt.ylabel('Авторы', fontsize=16)\n",
    "plt.title('Топ-10 авторов по количеству постов за февраль', fontsize=22, pad=20)\n",
    "plt.tight_layout()\n",
    "\n",
    "# plt.savefig(PATH + \"March_2021/authors_top10_posts.png\", dpi=300, bbox_inches='tight')\n",
    "\n",
    "plt.show()"
   ]
  },
  {
   "cell_type": "code",
   "execution_count": null,
   "metadata": {},
   "outputs": [],
   "source": [
    "tmp_4 = fev_subs[(fev_subs.isRepost == False)].sort_values(by='likes', ascending=False).head(10).loc[:, [\"id\", 'author_name','author_avatar_url', 'title', \"likes\", 'date']]\n",
    "# tmp_4.loc[137, 'title'] = 'Японский бренд совместно с CDPR представил линейку одежды и ...'\n",
    "tmp_4.loc[581, 'title'] = \"Запись пользователя Over9k5000\"\n",
    "tmp_4.loc[99, 'title'] = \"Запись пользователя СынМаэстро\"\n",
    "# tmp_4 = tmp_4[tmp_4.index != 128]\n",
    "tmp_4"
   ]
  },
  {
   "cell_type": "code",
   "execution_count": null,
   "metadata": {},
   "outputs": [],
   "source": [
    "# tmp_4 = fev_subs.sort_values(by='likes', ascending=False).head(10).loc[:, [\"id\", 'author_name','author_avatar_url', 'title', \"likes\", 'date']]\n",
    "# tmp_4.loc[137, 'title'] = 'Японский бренд совместно с CDPR представил линейку одежды и ...'\n",
    "# # tmp_4.loc[383, 'title'] = 'Спорт, офис, чулочки и жаркое лето от infin...'\n",
    "# # tmp_4.loc[581, 'title'] = \"Запись пользователя Over9k5000\"\n",
    "# # tmp_4.loc[99, 'title'] = \"Запись пользователя СынМаэстро\"\n",
    "# # # tmp_4 = tmp_4[tmp_4.index != 128]\n",
    "# tmp_4"
   ]
  },
  {
   "cell_type": "code",
   "execution_count": null,
   "metadata": {
    "scrolled": false
   },
   "outputs": [],
   "source": [
    "from matplotlib import cm\n",
    "\n",
    "labels = tmp_4.title[::-1]#.astype('str')\n",
    "values = tmp_4.likes[::-1]\n",
    "\n",
    "my_cmap = plt.get_cmap(\"Wistia\")\n",
    "rescale = lambda y: (y - np.min(y)) / (np.max(y) - np.min(y))\n",
    "height = 0.9\n",
    "\n",
    "plt.barh(y=tmp_4.id[::-1].astype(\"str\"), \n",
    "         width=values, height=height, \n",
    "         align='center', color=my_cmap(rescale(values)))\n",
    "\n",
    "for i, (label, value) in enumerate(zip(labels, values)):\n",
    "    plt.text(value + 1, i, '{:1.0f}'.format(value), ha = 'left', va = 'center')\n",
    "    plt.text(5, i, '{}'.format(label), ha = 'left', va = 'center')\n",
    "\n",
    "    \n",
    "plt.xlim(0, max(values) * 1.05)\n",
    "plt.ylim(-0.5, len(labels) - 0.5)\n",
    "plt.xlabel('Количество лайков', fontsize=16)\n",
    "plt.ylabel('ID публикации', fontsize=16)\n",
    "plt.title('Топ-10 публикаций по лайкам за февраль', fontsize=22, pad=20)\n",
    "plt.tight_layout()\n",
    "\n",
    "plt.savefig(PATH + \"March_2021/top10_posts_likes.png\", dpi=300, bbox_inches='tight')\n",
    "\n",
    "plt.show()"
   ]
  },
  {
   "cell_type": "code",
   "execution_count": null,
   "metadata": {},
   "outputs": [],
   "source": [
    "tmp_5 = fev_subs[(fev_subs.isRepost == False)].sort_values(by='hitsCount', ascending=False).head(11).loc[:, [\"id\", 'author_name','author_avatar_url', 'title', \"hitsCount\", 'date']]\n",
    "tmp_5.loc[237, 'title'] = 'Арифурэта: Сильнейший ремесленник в мире. Как ...'\n",
    "tmp_5.loc[159, 'title'] = '( ͡° ͜ʖ ͡°) Интересный музей в ...' \n",
    "tmp_5.loc[353, 'title'] = 'Чулочки, каре и немного игривости от ...' \n",
    "tmp_5.loc[339, 'title'] = 'Он вам не Rintarou Okabe (перез...' \n",
    "tmp_5.loc[383, 'title'] = 'Спорт, офис, чулочки и жарк...' \n",
    "tmp_5.loc[475, 'title'] = \"RASP/28 Подборка работ ...\"\n",
    "tmp_5 = tmp_5[tmp_5.index != 128]\n",
    "tmp_5"
   ]
  },
  {
   "cell_type": "code",
   "execution_count": null,
   "metadata": {},
   "outputs": [],
   "source": [
    "# tmp_5 = fev_subs.sort_values(by='hitsCount', ascending=False).head(10).loc[:, [\"id\", 'author_name','author_avatar_url', 'title', \"hitsCount\", 'date']]\n",
    "# # tmp_5.loc[237, 'title'] = 'Арифурэта: Сильнейший ремесленник в мире. Как ...'\n",
    "# # tmp_5.loc[159, 'title'] = '( ͡° ͜ʖ ͡°) Интересный музей в ...' \n",
    "# # tmp_5.loc[353, 'title'] = 'Чулочки, каре и немного игривости от ...' \n",
    "# # tmp_5.loc[339, 'title'] = 'Он вам не Rintarou Okabe (перез...' \n",
    "# # tmp_5.loc[383, 'title'] = 'Спорт, офис, чулочки и жарк...' \n",
    "# # tmp_5.loc[475, 'title'] = \"RASP/28 Подборка работ ...\"\n",
    "# # tmp_5 = tmp_5[tmp_5.index != 128]\n",
    "# # tmp_5['title'] = tmp_5['title'].str.slice(0,30) + str(\"...\")\n",
    "# tmp_5.loc[587, 'title'] = \"Удивительный мир видеоигр по мотивам Neon Gene...\"\n",
    "# tmp_5.loc[380, 'title'] = \"Neon Genesis Evangelion и эмоции, ...\"\n",
    "# tmp_5.loc[123, 'title'] = 'Отзыв на мангу \"О т...'\n",
    "# # tmp_5.loc[432, 'title'] = 'Гость Блогосф...'\n",
    "# tmp_5"
   ]
  },
  {
   "cell_type": "code",
   "execution_count": null,
   "metadata": {},
   "outputs": [],
   "source": [
    "from matplotlib import cm\n",
    "\n",
    "labels = tmp_5.title[::-1]#.astype('str')\n",
    "values = tmp_5.hitsCount[::-1]\n",
    "\n",
    "my_cmap = plt.get_cmap(\"summer\")\n",
    "rescale = lambda y: (y - np.min(y)) / (np.max(y) - np.min(y))\n",
    "height = 0.9\n",
    "\n",
    "plt.barh(y=tmp_5.id[::-1].astype(\"str\"), \n",
    "         width=values, height=height, \n",
    "         align='center', color=my_cmap(rescale(values)))\n",
    "\n",
    "for i, (label, value) in enumerate(zip(labels, values)):\n",
    "    plt.text(value + 1, i, '{:1.0f}'.format(value), ha = 'left', va = 'center')\n",
    "    plt.text(50, i, '{}'.format(label), ha = 'left', va = 'center')\n",
    "\n",
    "    \n",
    "plt.xlim(0, max(values) * 1.05)\n",
    "plt.ylim(-0.5, len(labels) - 0.5)\n",
    "plt.xlabel('Количество просмотров', fontsize=16)\n",
    "plt.ylabel('ID публикации', fontsize=16)\n",
    "plt.title('Топ-10 публикаций по просмотрам за февраль', fontsize=22, pad=20)\n",
    "plt.tight_layout()\n",
    "\n",
    "# plt.savefig(PATH + \"March_2021/top10_posts_hits_alter.png\", dpi=300, bbox_inches='tight')\n",
    "\n",
    "plt.show()"
   ]
  },
  {
   "cell_type": "code",
   "execution_count": null,
   "metadata": {},
   "outputs": [],
   "source": [
    "tmp_6 = fev_subs[(fev_subs.isRepost == False)].sort_values(by='commentsCount', ascending=False).head(11).loc[:, [\"id\", 'author_name','author_avatar_url', 'title', \"commentsCount\", 'date']]\n",
    "# tmp_6.loc[137, 'title'] = 'Японский бренд совместно с CDPR представил линейку одежды и ...'\n",
    "# tmp_6['title'] = tmp_6['title'].str.slice(0,50)\n",
    "tmp_6.loc[237, 'title'] = 'Арифурэта: Сильнейший ремесленник в мире. Как ...'\n",
    "tmp_6 = tmp_6[tmp_6.index != 128]\n",
    "tmp_6"
   ]
  },
  {
   "cell_type": "code",
   "execution_count": null,
   "metadata": {},
   "outputs": [],
   "source": [
    "tmp_6 = fev_subs.sort_values(by='commentsCount', ascending=False).head(10).loc[:, [\"id\", 'author_name','author_avatar_url', 'title', \"commentsCount\", 'date']]\n",
    "tmp_6.loc[137, 'title'] = 'Японский бренд совместно с CDPR представил ...'\n",
    "# tmp_6['title'] = tmp_6['title'].str.slice(0,50)\n",
    "# tmp_6.loc[237, 'title'] = 'Арифурэта: Сильнейший ремесленник в мире. Как ...'\n",
    "# tmp_6 = tmp_6[tmp_6.index != 128]\n",
    "tmp_6.loc[587, 'title'] = \"Удивительный мир ...\"\n",
    "tmp_6.loc[380, 'title'] = \"Neon Genesis Evangelion и ...\"\n",
    "tmp_6.loc[197, 'title'] = 'Беспокойные Сердца - ...'\n",
    "tmp_6.loc[375, 'title'] = 'Re:DTF Жизнь с нуля в...'\n",
    "tmp_6"
   ]
  },
  {
   "cell_type": "code",
   "execution_count": null,
   "metadata": {
    "scrolled": false
   },
   "outputs": [],
   "source": [
    "labels = tmp_6.title[::-1]#.astype('str')\n",
    "values = tmp_6.commentsCount[::-1]\n",
    "\n",
    "my_cmap = plt.get_cmap(\"coolwarm\")\n",
    "rescale = lambda y: (y - np.min(y)) / (np.max(y) - np.min(y))\n",
    "height = 0.9\n",
    "\n",
    "plt.barh(y=tmp_6.id[::-1].astype(\"str\"), \n",
    "         width=values, height=height, \n",
    "         align='center', color=my_cmap(rescale(values)))\n",
    "\n",
    "for i, (label, value) in enumerate(zip(labels, values)):\n",
    "    plt.text(value + 1, i, '{:1.0f}'.format(value), ha = 'left', va = 'center')\n",
    "    plt.text(2, i, '{}'.format(label), ha = 'left', va = 'center')\n",
    "\n",
    "    \n",
    "plt.xlim(0, max(values) * 1.05)\n",
    "plt.ylim(-0.5, len(labels) - 0.5)\n",
    "plt.xlabel('Количество комментариев', fontsize=16)\n",
    "plt.ylabel('ID публикации', fontsize=16)\n",
    "plt.title('Топ-10 публикаций по количеству комментариев за февраль', fontsize=22, pad=20)\n",
    "plt.tight_layout()\n",
    "\n",
    "# plt.savefig(PATH + \"March_2021/alter_top10_posts_comments_alter.png\", dpi=300, bbox_inches='tight')\n",
    "\n",
    "plt.show()"
   ]
  },
  {
   "cell_type": "code",
   "execution_count": null,
   "metadata": {},
   "outputs": [],
   "source": [
    "tmp_7 = fev_subs[(fev_subs.isRepost == False)].sort_values(by='favoritesCount', ascending=False).head(11).loc[:, [\"id\", 'author_name','author_avatar_url', 'title', \"favoritesCount\", 'date']]\n",
    "# tmp_7['title'] = tmp_7['title'].str.slice(0,25) + str(\"...\")\n",
    "tmp_7 = tmp_7[tmp_7.index != 128]\n",
    "tmp_7.loc[339, 'title'] = 'Он вам не Rintarou Okabe (перезалив, автор Mah...' \n",
    "tmp_7"
   ]
  },
  {
   "cell_type": "code",
   "execution_count": null,
   "metadata": {},
   "outputs": [],
   "source": [
    "tmp_7 = fev_subs.sort_values(by='favoritesCount', ascending=False).head(10).loc[:, [\"id\", 'author_name','author_avatar_url', 'title', \"favoritesCount\", 'date']]\n",
    "# tmp_7['title'] = tmp_7['title'].str.slice(0,25) + str(\"...\")\n",
    "# tmp_7 = tmp_7[tmp_7.index != 128]\n",
    "# tmp_7.loc[339, 'title'] = 'Он вам не Rintarou Okabe (перезалив, автор Mah...' \n",
    "# tmp_7.loc[587, 'title'] = \"Удивительный мир ...\"\n",
    "# tmp_7.loc[380, 'title'] = \"Neon Genesis Evangelion и ...\"\n",
    "tmp_7.loc[197, 'title'] = 'Беспокойные Сердца - Замечатель...'\n",
    "tmp_7.loc[353, 'title'] = 'Чулочки, каре и немного игривости ...' \n",
    "tmp_7.loc[136, 'title'] = 'Столько интересных аниме п...'\n",
    "tmp_7.loc[137, 'title'] = 'Японский бренд совм...'\n",
    "tmp_7.loc[123, 'title'] = 'Отзыв на мангу \"О т...'\n",
    "tmp_7"
   ]
  },
  {
   "cell_type": "code",
   "execution_count": null,
   "metadata": {},
   "outputs": [],
   "source": [
    "plt.rcParams[\"figure.figsize\"] = [16, 10]\n",
    "\n",
    "labels = tmp_7.title[::-1]#.astype('str')\n",
    "values = tmp_7.favoritesCount[::-1]\n",
    "\n",
    "my_cmap = plt.get_cmap(\"Spectral\")\n",
    "rescale = lambda y: (y - np.min(y)) / (np.max(y) - np.min(y))\n",
    "height = 0.9\n",
    "\n",
    "plt.barh(y=tmp_7.id[::-1].astype(\"str\"), \n",
    "         width=values, height=height, \n",
    "         align='center', color=my_cmap(rescale(values)))\n",
    "\n",
    "for i, (label, value) in enumerate(zip(labels, values)):\n",
    "    plt.text(value + 1, i, '{:1.0f}'.format(value), ha = 'left', va = 'center')\n",
    "    plt.text(2, i, '{}'.format(label), ha = 'left', va = 'center')\n",
    "\n",
    "    \n",
    "plt.xlim(0, max(values) * 1.05)\n",
    "plt.ylim(-0.5, len(labels) - 0.5)\n",
    "plt.xlabel('Количество добавлений в закладки', fontsize=16)\n",
    "plt.ylabel('ID публикации', fontsize=16)\n",
    "plt.title('Топ-10 публикаций по количеству добавлений в закладки за февраль', fontsize=22, pad=20)\n",
    "plt.tight_layout()\n",
    "\n",
    "# plt.savefig(PATH + \"March_2021/alter_top10_posts_favorites_alter.png\", dpi=300, bbox_inches='tight')\n",
    "\n",
    "plt.show()"
   ]
  },
  {
   "cell_type": "code",
   "execution_count": null,
   "metadata": {},
   "outputs": [],
   "source": []
  },
  {
   "cell_type": "code",
   "execution_count": null,
   "metadata": {},
   "outputs": [],
   "source": []
  },
  {
   "cell_type": "code",
   "execution_count": null,
   "metadata": {},
   "outputs": [],
   "source": []
  },
  {
   "cell_type": "code",
   "execution_count": null,
   "metadata": {},
   "outputs": [],
   "source": [
    "# fev_subs[(fev_subs[\"images\"] + fev_subs[\"videos\"] + fev_subs[\"links\"]) < 100]"
   ]
  },
  {
   "cell_type": "code",
   "execution_count": null,
   "metadata": {},
   "outputs": [],
   "source": [
    "tmp = fev_subs[#(fev_subs.symbols < 10000) \n",
    "               #& ((fev_subs[\"images\"] + fev_subs[\"videos\"] + fev_subs[\"links\"]) < 100) & \n",
    "               (fev_subs.isRepost == False)]"
   ]
  },
  {
   "cell_type": "code",
   "execution_count": null,
   "metadata": {},
   "outputs": [],
   "source": [
    "plt.rcParams[\"figure.figsize\"] = [14, 10]\n",
    "\n",
    "ax = sns.scatterplot(x=tmp.symbols, hue=tmp.likes, \n",
    "                y=sum([tmp.images, tmp.videos, tmp.links]), data=tmp, \n",
    "                palette = \"rocket_r\")\n",
    "                #cmap=\"icefire\")\n",
    "ax.set_title('Диаграмма зависимости количества лайков от количества символов и медиаконтента в статье', fontsize=18, pad=20)\n",
    "ax.get_legend().set_title('Лайки')\n",
    "plt.setp(ax.get_legend().get_texts(), fontsize='14') # for legend text\n",
    "plt.setp(ax.get_legend().get_title(), fontsize='16') # for legend title\n",
    "\n",
    "ax.set_xlabel('Количество символов в статье', fontsize='16')\n",
    "ax.set_ylabel('Количество медиаконтента в статье', fontsize='16');\n",
    "\n",
    "plt.savefig(PATH + \"March_2021/scatterplot.png\", dpi=300, bbox_inches='tight')"
   ]
  },
  {
   "cell_type": "code",
   "execution_count": null,
   "metadata": {},
   "outputs": [],
   "source": []
  },
  {
   "cell_type": "code",
   "execution_count": null,
   "metadata": {},
   "outputs": [],
   "source": [
    "tmp_8 = fev_subs[(fev_subs.isRepost == False) & (fev_subs.symbols > 2000)].sort_values(by='likes', ascending=False).head(10) \\\n",
    ".loc[:, [\"id\", 'author_name','author_avatar_url', 'title', \"likes\", 'date', 'symbols']]\n",
    "# tmp_4.loc[137, 'title'] = 'Японский бренд совместно с CDPR представил линейку одежды и ...'\n",
    "# tmp_8.loc[581, 'title'] = \"Запись пользователя Over9k5000\"\n",
    "tmp_8.loc[237, 'title'] = \"Арифурэта: Сильнейший ремесл...\"\n",
    "tmp_8"
   ]
  },
  {
   "cell_type": "code",
   "execution_count": null,
   "metadata": {},
   "outputs": [],
   "source": [
    "labels = tmp_8.title[::-1]#.astype('str')\n",
    "values = tmp_8.likes[::-1]\n",
    "\n",
    "my_cmap = plt.get_cmap(\"Wistia\")\n",
    "rescale = lambda y: (y - np.min(y)) / (np.max(y) - np.min(y))\n",
    "height = 0.9\n",
    "\n",
    "plt.barh(y=tmp_8.id[::-1].astype(\"str\"), \n",
    "         width=values, height=height, \n",
    "         align='center', color=my_cmap(rescale(values)))\n",
    "\n",
    "for i, (label, value) in enumerate(zip(labels, values)):\n",
    "    plt.text(value + 1, i, '{:1.0f}'.format(value), ha = 'left', va = 'center')\n",
    "    plt.text(2, i, '{}'.format(label), ha = 'left', va = 'center')\n",
    "\n",
    "    \n",
    "plt.xlim(0, max(values) * 1.05)\n",
    "plt.ylim(-0.5, len(labels) - 0.5)\n",
    "plt.xlabel('Количество лайков', fontsize=16)\n",
    "plt.ylabel('ID публикации', fontsize=16)\n",
    "plt.title('Топ-7 лонгридов (по лайкам) за февраль', fontsize=22, pad=20)\n",
    "plt.tight_layout()\n",
    "\n",
    "# plt.savefig(PATH + \"March_2021/top7_longreads.png\", dpi=300, bbox_inches='tight')\n",
    "\n",
    "plt.show()"
   ]
  },
  {
   "cell_type": "code",
   "execution_count": null,
   "metadata": {},
   "outputs": [],
   "source": [
    "tmp_9 = fev_subs[(fev_subs.isRepost == False) & (fev_subs.images > 5)].sort_values(by='likes', ascending=False).head(10) \\\n",
    ".loc[:, [\"id\", 'author_name','author_avatar_url', 'title', \"likes\", 'date']]\n",
    "# tmp_4.loc[137, 'title'] = 'Японский бренд совместно с CDPR представил линейку одежды и ...'\n",
    "# tmp_8.loc[581, 'title'] = \"Запись пользователя Over9k5000\"\n",
    "# tmp_8.loc[99, 'title'] = \"Запись пользователя СынМаэстро\"\n",
    "tmp_9"
   ]
  },
  {
   "cell_type": "code",
   "execution_count": null,
   "metadata": {},
   "outputs": [],
   "source": [
    "labels = tmp_9.title[::-1]#.astype('str')\n",
    "values = tmp_9.likes[::-1]\n",
    "\n",
    "my_cmap = plt.get_cmap(\"Wistia\")\n",
    "rescale = lambda y: (y - np.min(y)) / (np.max(y) - np.min(y))\n",
    "height = 0.9\n",
    "\n",
    "plt.barh(y=tmp_9.id[::-1].astype(\"str\"), \n",
    "         width=values, height=height, \n",
    "         align='center', color=my_cmap(rescale(values)))\n",
    "\n",
    "for i, (label, value) in enumerate(zip(labels, values)):\n",
    "    plt.text(value + 1, i, '{:1.0f}'.format(value), ha = 'left', va = 'center')\n",
    "    plt.text(5, i, '{}'.format(label), ha = 'left', va = 'center')\n",
    "\n",
    "    \n",
    "plt.xlim(0, max(values) * 1.05)\n",
    "plt.ylim(-0.5, len(labels) - 0.5)\n",
    "plt.xlabel('Количество лайков', fontsize=16)\n",
    "plt.ylabel('ID публикации', fontsize=16)\n",
    "plt.title('Топ-10 подборок (по лайкам) за февраль', fontsize=22, pad=20)\n",
    "plt.tight_layout()\n",
    "\n",
    "# plt.savefig(PATH + \"March_2021/top10_sets.png\", dpi=300, bbox_inches='tight')\n",
    "\n",
    "plt.show()"
   ]
  },
  {
   "cell_type": "code",
   "execution_count": null,
   "metadata": {},
   "outputs": [],
   "source": [
    "tmp_10 = fev_subs[(fev_subs.isRepost == False) & (fev_subs.images+fev_subs.videos+fev_subs.links == 1)].sort_values(by='likes', ascending=False).head(10) \\\n",
    ".loc[:, [\"id\", 'author_name','author_avatar_url', 'title', \"likes\", 'date']]\n",
    "# tmp_4.loc[137, 'title'] = 'Японский бренд совместно с CDPR представил линейку одежды и ...'\n",
    "tmp_10.loc[581, 'title'] = \"Запись пользователя Over9k5000\"\n",
    "tmp_10.loc[99, 'title'] = \"Запись пользователя СынМаэстро\"\n",
    "tmp_10.loc[429, 'title'] = \"Запись пользователя Лолег\"\n",
    "tmp_10.loc[430, 'title'] = \"Запись пользователя Лолег\"\n",
    "tmp_10.loc[381, 'title'] = \"Запись пользователя Diego Paw\"\n",
    "tmp_10"
   ]
  },
  {
   "cell_type": "code",
   "execution_count": null,
   "metadata": {},
   "outputs": [],
   "source": [
    "labels = tmp_10.title[::-1]#.astype('str')\n",
    "values = tmp_10.likes[::-1]\n",
    "\n",
    "my_cmap = plt.get_cmap(\"Wistia\")\n",
    "rescale = lambda y: (y - np.min(y)) / (np.max(y) - np.min(y))\n",
    "height = 0.9\n",
    "\n",
    "plt.barh(y=tmp_10.id[::-1].astype(\"str\"), \n",
    "         width=values, height=height, \n",
    "         align='center', color=my_cmap(rescale(values)))\n",
    "\n",
    "for i, (label, value) in enumerate(zip(labels, values)):\n",
    "    plt.text(value + 1, i, '{:1.0f}'.format(value), ha = 'left', va = 'center')\n",
    "    plt.text(5, i, '{}'.format(label), ha = 'left', va = 'center')\n",
    "\n",
    "    \n",
    "plt.xlim(0, max(values) * 1.05)\n",
    "plt.ylim(-0.5, len(labels) - 0.5)\n",
    "plt.xlabel('Количество лайков', fontsize=16)\n",
    "plt.ylabel('ID публикации', fontsize=16)\n",
    "plt.title('Топ-10 мемов (по лайкам) за февраль', fontsize=22, pad=20)\n",
    "plt.tight_layout()\n",
    "\n",
    "# plt.savefig(PATH + \"March_2021/top10_memes.png\", dpi=300, bbox_inches='tight')\n",
    "\n",
    "plt.show()"
   ]
  },
  {
   "cell_type": "code",
   "execution_count": null,
   "metadata": {},
   "outputs": [],
   "source": []
  },
  {
   "cell_type": "code",
   "execution_count": null,
   "metadata": {},
   "outputs": [],
   "source": []
  },
  {
   "cell_type": "code",
   "execution_count": null,
   "metadata": {},
   "outputs": [],
   "source": []
  },
  {
   "cell_type": "code",
   "execution_count": null,
   "metadata": {},
   "outputs": [],
   "source": [
    "plt.rcParams[\"figure.figsize\"] = [14, 10]\n",
    "\n",
    "ax = sns.scatterplot(x=df.symbols, hue=df.likes, \n",
    "                y=sum([df.images, df.videos, df.links]), data=df[df.isRepost == False], \n",
    "                palette = \"crest\")\n",
    "                #cmap=\"icefire\")\n",
    "ax.set_title('Диаграмма зависимости количества лайков от количества символов и медиаконтента в статье', fontsize=18, pad=20)\n",
    "ax.get_legend().set_title('Лайки')\n",
    "plt.setp(ax.get_legend().get_texts(), fontsize='14') # for legend text\n",
    "plt.setp(ax.get_legend().get_title(), fontsize='16') # for legend title\n",
    "\n",
    "ax.set_xlabel('Количество символов в статье', fontsize='16')\n",
    "ax.set_ylabel('Количество медиаконтента в статье', fontsize='16');\n"
   ]
  },
  {
   "cell_type": "code",
   "execution_count": null,
   "metadata": {},
   "outputs": [],
   "source": [
    "df[(df.symbols > 20000)]# & (df.isRepost == False)].author_name"
   ]
  },
  {
   "cell_type": "code",
   "execution_count": null,
   "metadata": {},
   "outputs": [],
   "source": []
  },
  {
   "cell_type": "code",
   "execution_count": null,
   "metadata": {},
   "outputs": [],
   "source": []
  },
  {
   "cell_type": "code",
   "execution_count": null,
   "metadata": {},
   "outputs": [],
   "source": []
  },
  {
   "cell_type": "code",
   "execution_count": null,
   "metadata": {},
   "outputs": [],
   "source": []
  },
  {
   "cell_type": "code",
   "execution_count": null,
   "metadata": {},
   "outputs": [],
   "source": [
    "# fev_subs[fev_subs.likes > 150]"
   ]
  },
  {
   "cell_type": "code",
   "execution_count": null,
   "metadata": {},
   "outputs": [],
   "source": [
    "tmp = fev_subs[fev_subs.title == \"Статья удалена\"]\n",
    "tmp"
   ]
  },
  {
   "cell_type": "code",
   "execution_count": null,
   "metadata": {},
   "outputs": [],
   "source": [
    "tmp.id.unique()"
   ]
  },
  {
   "cell_type": "code",
   "execution_count": null,
   "metadata": {},
   "outputs": [],
   "source": [
    "sns.scatterplot(x=tmp.likes, #hue=tmp.subsite, \n",
    "                y=tmp.hitsCount, data=tmp)"
   ]
  },
  {
   "cell_type": "code",
   "execution_count": null,
   "metadata": {},
   "outputs": [],
   "source": [
    "fev_subs"
   ]
  },
  {
   "cell_type": "code",
   "execution_count": null,
   "metadata": {},
   "outputs": [],
   "source": [
    "fev_subs.set_index('date', inplace=True)\n",
    "fev_subs.index = pd.to_datetime(fev_subs.index)"
   ]
  },
  {
   "cell_type": "code",
   "execution_count": null,
   "metadata": {},
   "outputs": [],
   "source": [
    "# # #fev_subs.reset_index(inplace=True)\n",
    "fev_subs.head()"
   ]
  },
  {
   "cell_type": "code",
   "execution_count": null,
   "metadata": {
    "scrolled": false
   },
   "outputs": [],
   "source": [
    "fev_subs[\"2021-02-08\"]"
   ]
  },
  {
   "cell_type": "code",
   "execution_count": null,
   "metadata": {
    "scrolled": false
   },
   "outputs": [],
   "source": [
    "feb_ts = fev_subs.resample('D').apply({'id':'count'})\n",
    "feb_ts[\"weekday\"] = feb_ts.index.weekday\n",
    "feb_ts"
   ]
  },
  {
   "cell_type": "code",
   "execution_count": null,
   "metadata": {},
   "outputs": [],
   "source": [
    "fe = sns.barplot(data=feb_ts, x=feb_ts.index, y=feb_ts.id)\n",
    "ax = fe\n",
    "\n",
    "for item in fe.get_xticklabels():\n",
    "    item.set_rotation(90)\n",
    "\n",
    "for p in ax.patches:\n",
    "             ax.annotate(\"%.1d\" % p.get_height(), (p.get_x() + p.get_width() / 2., p.get_height()),\n",
    "                 ha='center', va='center', fontsize=12, color='gray', xytext=(0, 10),\n",
    "                 textcoords='offset points')    \n",
    "        \n",
    "ax.set_title('Количество постов, публикуемых ежедневно в течение месяца', fontsize=18, pad=20)\n",
    "ax.set_xlabel('Число месяца', fontsize='16')\n",
    "ax.set_ylabel('Количество статей', fontsize='16');\n",
    "\n",
    "plt.savefig(PATH + \"March_2021/posts_by_day.png\", dpi=300, bbox_inches='tight')"
   ]
  },
  {
   "cell_type": "code",
   "execution_count": null,
   "metadata": {},
   "outputs": [],
   "source": [
    "feb_ts.groupby(\"weekday\").sum()"
   ]
  },
  {
   "cell_type": "code",
   "execution_count": null,
   "metadata": {},
   "outputs": [],
   "source": []
  },
  {
   "cell_type": "code",
   "execution_count": null,
   "metadata": {},
   "outputs": [],
   "source": [
    "days = {'Monday': 'Понедельник', 'Tuesday': 'Вторник', 'Wednesday': 'Среда', 'Thursday': 'Четверг', \n",
    " 'Friday': 'Пятница', 'Saturday': 'Суббота',  'Sunday': 'Воскресенье'}  \n",
    "\n",
    "from pandas.api.types import CategoricalDtype\n",
    "\n",
    "cats = ['Monday', 'Tuesday', 'Wednesday', 'Thursday', 'Friday', 'Saturday', 'Sunday']\n",
    "cat_type = CategoricalDtype(categories=cats, ordered=True)\n",
    "fev_subs['weekday'] = fev_subs['weekday'].astype(cat_type)\n",
    "# fev_subs['weekday'].replace(to_replace=days, inplace=True)"
   ]
  },
  {
   "cell_type": "code",
   "execution_count": null,
   "metadata": {},
   "outputs": [],
   "source": [
    "sns.set_palette('hls')\n",
    "\n",
    "ax = sns.barplot(data=fev_subs, x=fev_subs.groupby(\"weekday\")[\"id\"].count().sort_index().index, \n",
    "            y=fev_subs.groupby(\"weekday\")[\"id\"].count().sort_index().values)\n",
    "\n",
    "for p in ax.patches:\n",
    "             ax.annotate(\"%.1d\" % p.get_height(), (p.get_x() + p.get_width() / 2., p.get_height()),\n",
    "                 ha='center', va='center', fontsize=12, color='gray', xytext=(0, 10),\n",
    "                 textcoords='offset points')  \n",
    "\n",
    "ax.set_title('Количество постов, сгруппированное по дням недели', fontsize=18, pad=20)\n",
    "ax.set_xlabel('День недели', fontsize='16')\n",
    "ax.set_ylabel('Количество статей', fontsize='16');\n",
    "\n",
    "plt.savefig(PATH + \"March_2021/posts_by_day_sum.png\", dpi=300, bbox_inches='tight')"
   ]
  },
  {
   "cell_type": "code",
   "execution_count": null,
   "metadata": {},
   "outputs": [],
   "source": []
  },
  {
   "cell_type": "code",
   "execution_count": null,
   "metadata": {},
   "outputs": [],
   "source": [
    "# fev_subs.groupby(\"weekday\")[\"id\"].count().sort_index().values"
   ]
  },
  {
   "cell_type": "code",
   "execution_count": null,
   "metadata": {},
   "outputs": [],
   "source": []
  },
  {
   "cell_type": "code",
   "execution_count": null,
   "metadata": {},
   "outputs": [],
   "source": []
  },
  {
   "cell_type": "code",
   "execution_count": null,
   "metadata": {},
   "outputs": [],
   "source": []
  }
 ],
 "metadata": {
  "kernelspec": {
   "display_name": "Python 3",
   "language": "python",
   "name": "python3"
  },
  "language_info": {
   "codemirror_mode": {
    "name": "ipython",
    "version": 3
   },
   "file_extension": ".py",
   "mimetype": "text/x-python",
   "name": "python",
   "nbconvert_exporter": "python",
   "pygments_lexer": "ipython3",
   "version": "3.8.5"
  }
 },
 "nbformat": 4,
 "nbformat_minor": 4
}
