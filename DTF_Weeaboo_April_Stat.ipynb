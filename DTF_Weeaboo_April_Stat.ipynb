{
 "cells": [
  {
   "cell_type": "markdown",
   "metadata": {},
   "source": [
    "# Аналитика за март"
   ]
  },
  {
   "cell_type": "code",
   "execution_count": null,
   "metadata": {},
   "outputs": [],
   "source": [
    "import numpy as np\n",
    "import pandas as pd\n",
    "import pandas_profiling\n",
    "\n",
    "import matplotlib.mlab as mlab\n",
    "import matplotlib.pyplot as plt\n",
    "import matplotlib_venn\n",
    "import seaborn as sns\n",
    "\n",
    "import json\n",
    "import yaml\n",
    "import ast\n",
    "\n",
    "import requests\n",
    "from PIL import Image\n",
    "from io import BytesIO\n",
    "import IPython.display as Disp\n",
    "\n",
    "from re import findall, match, sub\n",
    "import itertools\n",
    "\n",
    "from datetime import datetime\n",
    "from datetime import tzinfo\n",
    "\n",
    "%matplotlib inline\n",
    "plt.rcParams[\"figure.figsize\"] = [14, 10]\n",
    "\n",
    "%config Completer.use_jedi = False\n",
    "\n",
    "print(\"Imports Done!\")"
   ]
  },
  {
   "cell_type": "code",
   "execution_count": null,
   "metadata": {},
   "outputs": [],
   "source": [
    "PATH = \"/home/aleksey/PycharmProjects/DTF_database_and_scrapper_config/\""
   ]
  },
  {
   "cell_type": "code",
   "execution_count": null,
   "metadata": {},
   "outputs": [],
   "source": [
    "df = pd.read_csv(PATH + 'Full_analysis/Full_weaboo_data_02_04.csv', index_col=0)\n",
    "df.head()"
   ]
  },
  {
   "cell_type": "code",
   "execution_count": null,
   "metadata": {},
   "outputs": [],
   "source": [
    "df.set_index('date', inplace=True)\n",
    "df.index = pd.to_datetime(df.index)"
   ]
  },
  {
   "cell_type": "code",
   "execution_count": null,
   "metadata": {},
   "outputs": [],
   "source": [
    "march_subs = df[\"2021-03\"]\n",
    "march_subs.reset_index(inplace=True)\n",
    "march_subs.head()"
   ]
  },
  {
   "cell_type": "code",
   "execution_count": null,
   "metadata": {},
   "outputs": [],
   "source": [
    "march_subs.tail()"
   ]
  },
  {
   "cell_type": "code",
   "execution_count": null,
   "metadata": {},
   "outputs": [],
   "source": [
    "# pandas_profiling.ProfileReport(march_subs)"
   ]
  },
  {
   "cell_type": "code",
   "execution_count": null,
   "metadata": {},
   "outputs": [],
   "source": [
    "march_subs.shape"
   ]
  },
  {
   "cell_type": "code",
   "execution_count": null,
   "metadata": {},
   "outputs": [],
   "source": [
    "(915 - 868) / 915"
   ]
  },
  {
   "cell_type": "code",
   "execution_count": null,
   "metadata": {},
   "outputs": [],
   "source": [
    "march_subs[(march_subs.is_repost == False)].comments_count.values.sum()"
   ]
  },
  {
   "cell_type": "code",
   "execution_count": null,
   "metadata": {},
   "outputs": [],
   "source": [
    "tmp = march_subs.groupby(['is_repost']).agg({'id': \"count\"})['id'].values\n",
    "tmp"
   ]
  },
  {
   "cell_type": "code",
   "execution_count": null,
   "metadata": {},
   "outputs": [],
   "source": [
    "tmp = march_subs.groupby(['is_repost', 'author_type'], as_index=False).agg({'id': \"count\"})\n",
    "tmp"
   ]
  },
  {
   "cell_type": "code",
   "execution_count": null,
   "metadata": {},
   "outputs": [],
   "source": [
    "from matplotlib import gridspec\n",
    "\n",
    "def func(pct, allvals):\n",
    "    absolute = round(pct/100.*np.sum(allvals))\n",
    "    return \"{:.1f}%\\n{:d} posts\".format(pct, absolute)\n",
    "\n",
    "fig=plt.figure(figsize=(14,10))\n",
    "gs1 = gridspec.GridSpec(1,1,\n",
    "    left=0.1,right=0.7,\n",
    "    bottom=0.1,top=0.7,\n",
    ")\n",
    "# gs2 = gridspec.GridSpec(1,1,\n",
    "#     left=0.05,right=0.95,\n",
    "#     bottom=0.9,top=1.0,\n",
    "# )\n",
    "\n",
    "pie_ax=fig.add_subplot(gs1[0])\n",
    "# title_ax=fig.add_subplot(gs2[0])\n",
    "\n",
    "# Create a list of colors (from iWantHue)\n",
    "colors = ['#ff9999','#66b3ff','#99ff99','#ffcc99']\n",
    "labels = ['Пост подсайта \\nАвтор - пользователь', 'Пост подсайта \\nАвтор - подсайт', \n",
    "          'Репост \\nАвтор - пользователь', 'Репост \\nАвтор - подсайт']# tmp.author_type.values  \n",
    "\n",
    "# Create a pie chart\n",
    "wedges = pie_ax.pie(\n",
    "    tmp['id'],\n",
    "    shadow=False,\n",
    "    colors=colors, \n",
    "    startangle=45, #frame=True, \n",
    "    autopct=lambda pct: func(pct, tmp['id']), \n",
    "    explode=(0, 0.05, 0.05, 0.05)\n",
    ")\n",
    "\n",
    "bbox_props = dict(boxstyle=\"square,pad=0.3\", fc=\"w\", ec=\"k\", lw=0.72)\n",
    "kw = dict(xycoords='data', textcoords='data', arrowprops=dict(arrowstyle=\"-\"), zorder=0, va=\"center\")\n",
    "\n",
    "for i, p in enumerate(wedges[0]):\n",
    "    ang = (p.theta2 - p.theta1)/2. + p.theta1\n",
    "    y = np.sin(np.deg2rad(ang))\n",
    "    x = np.cos(np.deg2rad(ang))\n",
    "    horizontalalignment = {-1: \"right\", 1: \"left\"}[int(np.sign(x))]\n",
    "    connectionstyle = \"angle,angleA=0,angleB={}\".format(ang)\n",
    "    kw[\"arrowprops\"].update({\"connectionstyle\": connectionstyle,\n",
    "                             \"color\":colors[i]\n",
    "#                              \"color\":'b'\n",
    "                            })\n",
    "    pie_ax.annotate(labels[i], xy=(x, y), xytext=(1.25*np.sign(x), 1.4*y),\n",
    "                 horizontalalignment=horizontalalignment, **kw)\n",
    "\n",
    "\n",
    "centre_circle = plt.Circle((0,0), 0.8, color='black', fc='white',linewidth=0)\n",
    "fig = plt.gcf()\n",
    "fig.gca().add_artist(centre_circle)\n",
    "\n",
    "plt.title('Общее количество постов', fontsize=22, pad=20)\n",
    "\n",
    "plt.axis('equal')\n",
    "\n",
    "# plt.savefig(PATH + \"April_2021/posts.png\", dpi=300, bbox_inches='tight')\n",
    "\n",
    "plt.show()"
   ]
  },
  {
   "cell_type": "code",
   "execution_count": null,
   "metadata": {},
   "outputs": [],
   "source": [
    "tmp = march_subs.groupby(['is_repost', 'author_type'], as_index=False).agg({'comments_count': \"sum\"})\n",
    "tmp"
   ]
  },
  {
   "cell_type": "code",
   "execution_count": null,
   "metadata": {},
   "outputs": [],
   "source": [
    "tmp.comments_count.sum()"
   ]
  },
  {
   "cell_type": "code",
   "execution_count": null,
   "metadata": {},
   "outputs": [],
   "source": [
    "sns.set_palette(\"tab10\")"
   ]
  },
  {
   "cell_type": "code",
   "execution_count": null,
   "metadata": {
    "scrolled": false
   },
   "outputs": [],
   "source": [
    "from matplotlib import gridspec\n",
    "\n",
    "def func(pct, allvals):\n",
    "    absolute = round(pct/100.*np.sum(allvals))\n",
    "    return \"{:.1f}%\\n{:d} comments\".format(pct, absolute)\n",
    "\n",
    "fig=plt.figure(figsize=(14,10))\n",
    "gs1 = gridspec.GridSpec(1,1,\n",
    "    left=0.1,right=0.7,\n",
    "    bottom=0.1,top=0.7,\n",
    ")\n",
    "# gs2 = gridspec.GridSpec(1,1,\n",
    "#     left=0.05,right=0.95,\n",
    "#     bottom=0.9,top=1.0,\n",
    "# )\n",
    "\n",
    "pie_ax=fig.add_subplot(gs1[0])\n",
    "# title_ax=fig.add_subplot(gs2[0])\n",
    "\n",
    "# Create a list of colors (from iWantHue)\n",
    "# colors = ['#66b3ff', '#ffcc99', '#99ff99', '#ff6666']\n",
    "labels = ['Пост подсайта \\nАвтор - пользователь', 'Пост подсайта \\nАвтор - подсайт', \n",
    "          'Репост \\nАвтор - пользователь', 'Репост \\nАвтор - подсайт']# tmp.author_type.values  \n",
    "\n",
    "# Create a pie chart\n",
    "wedges = pie_ax.pie(\n",
    "    tmp['comments_count'],\n",
    "    shadow=False,\n",
    "#     colors=colors, \n",
    "    startangle=45, #frame=True, \n",
    "    autopct=lambda pct: func(pct, tmp['comments_count']), \n",
    "    explode=(0, 0.05, 0.05, 0.05)\n",
    ")\n",
    "\n",
    "bbox_props = dict(boxstyle=\"square,pad=0.3\", fc=\"w\", ec=\"k\", lw=0.72)\n",
    "kw = dict(xycoords='data', textcoords='data', arrowprops=dict(arrowstyle=\"-\"), zorder=0, va=\"center\")\n",
    "\n",
    "for i, p in enumerate(wedges[0]):\n",
    "    ang = (p.theta2 - p.theta1)/2. + p.theta1\n",
    "    y = np.sin(np.deg2rad(ang))\n",
    "    x = np.cos(np.deg2rad(ang))\n",
    "    horizontalalignment = {-1: \"right\", 1: \"left\"}[int(np.sign(x))]\n",
    "    connectionstyle = \"angle,angleA=0,angleB={}\".format(ang)\n",
    "    kw[\"arrowprops\"].update({\"connectionstyle\": connectionstyle,\n",
    "#                              \"color\":colors[i]\n",
    "                            \"color\":'k'\n",
    "                            })\n",
    "    pie_ax.annotate(labels[i], xy=(x, y), xytext=(1.25*np.sign(x), 1.4*y),\n",
    "                 horizontalalignment=horizontalalignment, **kw)\n",
    "\n",
    "\n",
    "centre_circle = plt.Circle((0,0), 0.33, color='black', fc='white',linewidth=0)\n",
    "fig = plt.gcf()\n",
    "fig.gca().add_artist(centre_circle)\n",
    "\n",
    "plt.title('Общее количество комментариев у публикаций', fontsize=22, pad=20)\n",
    "\n",
    "plt.axis('equal')\n",
    "\n",
    "# plt.savefig(PATH + \"April_2021/comments.jpg\", dpi=300, bbox_inches='tight')\n",
    "\n",
    "plt.show()"
   ]
  },
  {
   "cell_type": "code",
   "execution_count": null,
   "metadata": {},
   "outputs": [],
   "source": [
    "tmp = march_subs.groupby(['is_repost'], as_index=False).agg({'hits_count': \"sum\"})\n",
    "tmp"
   ]
  },
  {
   "cell_type": "code",
   "execution_count": null,
   "metadata": {},
   "outputs": [],
   "source": [
    "tmp.hits_count.sum()"
   ]
  },
  {
   "cell_type": "code",
   "execution_count": null,
   "metadata": {},
   "outputs": [],
   "source": [
    "sns.set_palette(\"husl\", 2)\n",
    "\n",
    "def func(pct, allvals):\n",
    "    absolute = round(pct/100.*np.sum(allvals))\n",
    "    return \"{:.1f}%\\n{:d} просмотров\".format(pct, absolute)\n",
    "\n",
    "fig=plt.figure(figsize=(14,10))\n",
    "gs1 = gridspec.GridSpec(1,1,\n",
    "    left=0.1,right=0.7,\n",
    "    bottom=0.1,top=0.7,\n",
    ")\n",
    "# gs2 = gridspec.GridSpec(1,1,\n",
    "#     left=0.05,right=0.95,\n",
    "#     bottom=0.9,top=1.0,\n",
    "# )\n",
    "\n",
    "pie_ax=fig.add_subplot(gs1[0])\n",
    "# title_ax=fig.add_subplot(gs2[0])\n",
    "\n",
    "# Create a list of colors (from iWantHue)\n",
    "# colors = ['#66b3ff', '#ffcc99', '#99ff99', '#ff6666']\n",
    "labels = ['Пост подсайта \\nПросмотры',  \n",
    "          'Репост \\nПросмотры', ]\n",
    "\n",
    "# Create a pie chart\n",
    "wedges = pie_ax.pie(\n",
    "    tmp['hits_count'],\n",
    "    shadow=False,\n",
    "#     colors=colors, \n",
    "    startangle=45, #frame=True, \n",
    "    autopct=lambda pct: func(pct, tmp['hits_count']), \n",
    "    explode=(0, 0.05)\n",
    ")\n",
    "\n",
    "bbox_props = dict(boxstyle=\"square,pad=0.3\", fc=\"w\", ec=\"k\", lw=0.72)\n",
    "kw = dict(xycoords='data', textcoords='data', arrowprops=dict(arrowstyle=\"-\"), zorder=0, va=\"center\")\n",
    "\n",
    "for i, p in enumerate(wedges[0]):\n",
    "    ang = (p.theta2 - p.theta1)/2. + p.theta1\n",
    "    y = np.sin(np.deg2rad(ang))\n",
    "    x = np.cos(np.deg2rad(ang))\n",
    "    horizontalalignment = {-1: \"right\", 1: \"left\"}[int(np.sign(x))]\n",
    "    connectionstyle = \"angle,angleA=0,angleB={}\".format(ang)\n",
    "    kw[\"arrowprops\"].update({\"connectionstyle\": connectionstyle,\n",
    "#                              \"color\":colors[i]\n",
    "                            \"color\":'k'\n",
    "                            })\n",
    "    pie_ax.annotate(labels[i], xy=(x, y), xytext=(1.25*np.sign(x), 1.4*y),\n",
    "                 horizontalalignment=horizontalalignment, **kw)\n",
    "\n",
    "\n",
    "centre_circle = plt.Circle((0,0), 0.25, color='black', fc='white',linewidth=0)\n",
    "fig = plt.gcf()\n",
    "fig.gca().add_artist(centre_circle)\n",
    "\n",
    "plt.title('Общее количество просмотров у публикаций', fontsize=22, pad=20)\n",
    "\n",
    "plt.axis('equal')\n",
    "\n",
    "# plt.savefig(PATH + \"April_2021/hits.jpg\", dpi=300, bbox_inches='tight')\n",
    "\n",
    "plt.show()"
   ]
  },
  {
   "cell_type": "code",
   "execution_count": null,
   "metadata": {},
   "outputs": [],
   "source": [
    "tmp = march_subs.groupby(['is_repost'], as_index=False).agg({'favorites_count': \"sum\"})\n",
    "tmp"
   ]
  },
  {
   "cell_type": "code",
   "execution_count": null,
   "metadata": {},
   "outputs": [],
   "source": [
    "tmp.favorites_count.sum()"
   ]
  },
  {
   "cell_type": "code",
   "execution_count": null,
   "metadata": {},
   "outputs": [],
   "source": [
    "sns.set_palette(\"hls\", 4)\n",
    "\n",
    "def func(pct, allvals):\n",
    "    absolute = round(pct/100.*np.sum(allvals))\n",
    "    return \"{:.1f}%\\n{:d} ДвЗ\".format(pct, absolute)\n",
    "\n",
    "fig=plt.figure(figsize=(14,10))\n",
    "gs1 = gridspec.GridSpec(1,1,\n",
    "    left=0.1,right=0.7,\n",
    "    bottom=0.1,top=0.7,\n",
    ")\n",
    "# gs2 = gridspec.GridSpec(1,1,\n",
    "#     left=0.05,right=0.95,\n",
    "#     bottom=0.9,top=1.0,\n",
    "# )\n",
    "\n",
    "pie_ax=fig.add_subplot(gs1[0])\n",
    "# title_ax=fig.add_subplot(gs2[0])\n",
    "\n",
    "# Create a list of colors (from iWantHue)\n",
    "# colors = ['#66b3ff', '#ffcc99', '#99ff99', '#ff6666']\n",
    "labels = ['Пост подсайта \\nДобавлений в закладки',  \n",
    "          'Репост \\nДобавлений в закладки', ]\n",
    "\n",
    "# Create a pie chart\n",
    "wedges = pie_ax.pie(\n",
    "    tmp['favorites_count'],\n",
    "    shadow=False,\n",
    "#     colors=colors, \n",
    "    startangle=45, #frame=True, \n",
    "    autopct=lambda pct: func(pct, tmp['favorites_count']), \n",
    "    explode=(0, 0.05)\n",
    ")\n",
    "\n",
    "bbox_props = dict(boxstyle=\"square,pad=0.3\", fc=\"w\", ec=\"k\", lw=0.72)\n",
    "kw = dict(xycoords='data', textcoords='data', arrowprops=dict(arrowstyle=\"-\"), zorder=0, va=\"center\")\n",
    "\n",
    "for i, p in enumerate(wedges[0]):\n",
    "    ang = (p.theta2 - p.theta1)/2. + p.theta1\n",
    "    y = np.sin(np.deg2rad(ang))\n",
    "    x = np.cos(np.deg2rad(ang))\n",
    "    horizontalalignment = {-1: \"right\", 1: \"left\"}[int(np.sign(x))]\n",
    "    connectionstyle = \"angle,angleA=0,angleB={}\".format(ang)\n",
    "    kw[\"arrowprops\"].update({\"connectionstyle\": connectionstyle,\n",
    "#                              \"color\":colors[i]\n",
    "                            \"color\":'k'\n",
    "                            })\n",
    "    pie_ax.annotate(labels[i], xy=(x, y), xytext=(1.25*np.sign(x), 1.4*y),\n",
    "                 horizontalalignment=horizontalalignment, **kw)\n",
    "\n",
    "\n",
    "centre_circle = plt.Circle((0,0), 0.85, color='black', fc='white',linewidth=0)\n",
    "fig = plt.gcf()\n",
    "fig.gca().add_artist(centre_circle)\n",
    "\n",
    "plt.title('Общее количество добавлений в закладки у публикаций', fontsize=22, pad=20)\n",
    "\n",
    "plt.axis('equal')\n",
    "\n",
    "# plt.savefig(PATH + \"April_2021/favs.jpg\", dpi=300, bbox_inches='tight')\n",
    "\n",
    "plt.show()"
   ]
  },
  {
   "cell_type": "code",
   "execution_count": null,
   "metadata": {},
   "outputs": [],
   "source": [
    "tmp = march_subs.groupby(['is_repost', 'author_type'], as_index=False).agg({'likes': \"sum\"})\n",
    "tmp"
   ]
  },
  {
   "cell_type": "code",
   "execution_count": null,
   "metadata": {},
   "outputs": [],
   "source": [
    "tmp.likes.sum()"
   ]
  },
  {
   "cell_type": "code",
   "execution_count": null,
   "metadata": {},
   "outputs": [],
   "source": [
    "sns.set_palette(\"icefire\")\n",
    "\n",
    "def func(pct, allvals):\n",
    "    absolute = round(pct/100.*np.sum(allvals))\n",
    "    return \"{:.1f}%\\n{:d} likes\".format(pct, absolute)\n",
    "\n",
    "fig=plt.figure(figsize=(14,10))\n",
    "gs1 = gridspec.GridSpec(1,1,\n",
    "    left=0.1,right=0.7,\n",
    "    bottom=0.1,top=0.7,\n",
    ")\n",
    "# gs2 = gridspec.GridSpec(1,1,\n",
    "#     left=0.05,right=0.95,\n",
    "#     bottom=0.9,top=1.0,\n",
    "# )\n",
    "\n",
    "pie_ax=fig.add_subplot(gs1[0])\n",
    "# title_ax=fig.add_subplot(gs2[0])\n",
    "\n",
    "# Create a list of colors (from iWantHue)\n",
    "# colors = ['#66b3ff', '#ffcc99', '#99ff99', '#ff6666']\n",
    "labels = ['Пост подсайта \\nАвтор - пользователь', 'Пост подсайта \\nАвтор - подсайт', \n",
    "          'Репост \\nАвтор - пользователь', 'Репост \\nАвтор - подсайт']# tmp.author_type.values  \n",
    "\n",
    "# Create a pie chart\n",
    "wedges = pie_ax.pie(\n",
    "    tmp['likes'],\n",
    "    shadow=False,\n",
    "#     colors=colors, \n",
    "    startangle=45, #frame=True, \n",
    "    autopct=lambda pct: func(pct, tmp['likes']), \n",
    "    explode=(0, 0.05, 0.05, 0.05)\n",
    ")\n",
    "\n",
    "bbox_props = dict(boxstyle=\"square,pad=0.3\", fc=\"w\", ec=\"k\", lw=0.72)\n",
    "kw = dict(xycoords='data', textcoords='data', arrowprops=dict(arrowstyle=\"-\"), zorder=0, va=\"center\")\n",
    "\n",
    "for i, p in enumerate(wedges[0]):\n",
    "    ang = (p.theta2 - p.theta1)/2. + p.theta1\n",
    "    y = np.sin(np.deg2rad(ang))\n",
    "    x = np.cos(np.deg2rad(ang))\n",
    "    horizontalalignment = {-1: \"right\", 1: \"left\"}[int(np.sign(x))]\n",
    "    connectionstyle = \"angle,angleA=0,angleB={}\".format(ang)\n",
    "    kw[\"arrowprops\"].update({\"connectionstyle\": connectionstyle,\n",
    "#                              \"color\":colors[i]\n",
    "                            \"color\":'k'\n",
    "                            })\n",
    "    pie_ax.annotate(labels[i], xy=(x, y), xytext=(1.25*np.sign(x), 1.4*y),\n",
    "                 horizontalalignment=horizontalalignment, **kw)\n",
    "\n",
    "\n",
    "centre_circle = plt.Circle((0,0), 0.85, color='black', fc='white',linewidth=0)\n",
    "fig = plt.gcf()\n",
    "fig.gca().add_artist(centre_circle)\n",
    "\n",
    "plt.title('Общее количество лайков у публикаций', fontsize=22, pad=20)\n",
    "\n",
    "plt.axis('equal')\n",
    "\n",
    "# plt.savefig(PATH + \"April_2021/likes.jpg\", dpi=300, bbox_inches='tight')\n",
    "\n",
    "plt.show()"
   ]
  },
  {
   "cell_type": "code",
   "execution_count": null,
   "metadata": {},
   "outputs": [],
   "source": [
    "plt.rcParams[\"figure.figsize\"] = [14, 10]\n",
    "\n",
    "def histogram_plotting(srs: pd.Series, path: str, xlim: int, ci_wide=90, desc_stat='mean', bins='auto'):\n",
    "    \"\"\"Function for plitting histogram (seaborn) with custom confidence interval\n",
    "    and descriptive statistics.\n",
    "    \n",
    "    Parameters\n",
    "    ----------\n",
    "    srs : pd.Series\n",
    "        Data for which the histogram is plotted. \n",
    "        \n",
    "    ci_wide : int, default=90\n",
    "        Wide of confidence interval in percents.\n",
    "        \n",
    "    desc_stat : str, default=\"mean\"\n",
    "        Calculated descriptive statistics.\n",
    "\n",
    "    Returns\n",
    "    -------\n",
    "        None. Printing histogram.\n",
    "    \n",
    "    \"\"\"\n",
    "       \n",
    "    ci = (100 - ci_wide) / 200\n",
    "    confidence_interval = list(srs.quantile([ci, 1-ci]))\n",
    "    \n",
    "    ax = sns.histplot(srs, kde=True, bins=bins)\n",
    "    max_bar_height = max([h.get_height() for h in ax.patches])\n",
    "    \n",
    "    ax.plot(confidence_interval, [max_bar_height*1.05, max_bar_height*1.05], color='black')\n",
    "    \n",
    "    for x in confidence_interval:\n",
    "        ax.plot([x, x], [0, max_bar_height*1.1], color='black')\n",
    "        ax.text(x, max_bar_height*1.13, f'{x:.0f}', horizontalalignment='center', verticalalignment='center')\n",
    "    \n",
    "    ax.text(sum(confidence_interval) / 2, max_bar_height*1.07, str(ci_wide) + '% interval',\n",
    "                horizontalalignment='center', verticalalignment='center')\n",
    "\n",
    "    descriptive_statistics = getattr(srs, desc_stat)()\n",
    "\n",
    "    ax.plot([descriptive_statistics, descriptive_statistics], \n",
    "            [0, max_bar_height*1.05], color='black', linestyle='--')\n",
    "    \n",
    "    ax.text(descriptive_statistics, max_bar_height*0.15, \n",
    "            desc_stat.capitalize() + f': {descriptive_statistics:.0f}',\n",
    "            bbox=dict(facecolor='white', edgecolor='white', alpha=0.5),\n",
    "            horizontalalignment='center', verticalalignment='center')\n",
    "    \n",
    "    ax.set_ylim(0, max_bar_height*1.2)\n",
    "    ax.set_xlim(left=-10, right=xlim)\n",
    "\n",
    "    plt.tight_layout()\n",
    "    \n",
    "    plt.savefig(PATH + \"April_2021/\" + path, dpi=300, bbox_inches='tight')\n",
    "    \n",
    "    plt.show()\n",
    "    \n",
    "    # END OF FUNC"
   ]
  },
  {
   "cell_type": "code",
   "execution_count": null,
   "metadata": {},
   "outputs": [],
   "source": [
    "march_subs.likes.max()"
   ]
  },
  {
   "cell_type": "code",
   "execution_count": null,
   "metadata": {},
   "outputs": [],
   "source": [
    "histogram_plotting(march_subs.likes, \"march_likes_CI_hist.jpg\", 700, desc_stat='median', \n",
    "                   ci_wide=95, bins=500)\n",
    "plt.show()"
   ]
  },
  {
   "cell_type": "code",
   "execution_count": null,
   "metadata": {},
   "outputs": [],
   "source": [
    "tmp = march_subs.type_of_post.value_counts()\n",
    "tmp"
   ]
  },
  {
   "cell_type": "code",
   "execution_count": null,
   "metadata": {},
   "outputs": [],
   "source": [
    "from pywaffle import Waffle\n",
    "\n",
    "labels = tmp.index\n",
    "d = {lab: val for lab, val in zip(labels, tmp.values)}\n",
    "\n",
    "fig = plt.figure(\n",
    "    FigureClass=Waffle, \n",
    "    rows=14, \n",
    "    values=list(tmp.values),\n",
    "#     labels=labels,\n",
    "    title={\n",
    "        'label': 'Количество публикаций различных типов',\n",
    "        'loc': 'center',\n",
    "        'fontdict': {\n",
    "            'fontsize': 20\n",
    "        }\n",
    "    },\n",
    "#     labels=[f\"{k} ({int(v / sum(d.values()) * 100)}%)\" for k, v in d.items()],\n",
    "    legend={\n",
    "        'labels': [f\"{k} ({v} единиц, {round(v/sum(d.values())*100,2)}%)\" for k, v in d.items()],  # labels could also be under legend instead\n",
    "        'loc': 'lower left',\n",
    "        'bbox_to_anchor': (0.07, -0.2),\n",
    "        'ncol': 4 ,\n",
    "        'framealpha': 0,\n",
    "        'fontsize': 12\n",
    "    },\n",
    "    figsize=(18, 10),\n",
    "#     legend={'bbox_to_anchor': (1.3, 0.85)}    \n",
    ")\n",
    "# plt.savefig(PATH + \"April_2021/types_of_posts.jpg\", dpi=300, bbox_inches='tight')"
   ]
  },
  {
   "cell_type": "code",
   "execution_count": null,
   "metadata": {},
   "outputs": [],
   "source": [
    "tmp_symbols = march_subs.groupby(['is_repost', 'author_type'], as_index=False).agg({'symbols': \"sum\"})\n",
    "tmp_symbols"
   ]
  },
  {
   "cell_type": "code",
   "execution_count": null,
   "metadata": {},
   "outputs": [],
   "source": [
    "tmp_symbols.symbols.sum()"
   ]
  },
  {
   "cell_type": "code",
   "execution_count": null,
   "metadata": {},
   "outputs": [],
   "source": [
    "sns.set_palette(\"husl\")\n",
    "\n",
    "def func(pct, allvals):\n",
    "    absolute = round(pct/100.*np.sum(allvals))\n",
    "    return \"{:.1f}%\\n{:d} символов\".format(pct, absolute)\n",
    "\n",
    "fig=plt.figure(figsize=(14,10))\n",
    "gs1 = gridspec.GridSpec(1,1,\n",
    "    left=0.1,right=0.7,\n",
    "    bottom=0.1,top=0.7,\n",
    ")\n",
    "# gs2 = gridspec.GridSpec(1,1,\n",
    "#     left=0.05,right=0.95,\n",
    "#     bottom=0.9,top=1.0,\n",
    "# )\n",
    "\n",
    "pie_ax=fig.add_subplot(gs1[0])\n",
    "# title_ax=fig.add_subplot(gs2[0])\n",
    "\n",
    "# Create a list of colors (from iWantHue)\n",
    "# colors = ['#66b3ff', '#ffcc99', '#99ff99', '#ff6666']\n",
    "labels = ['Пост подсайта \\nАвтор - пользователь', 'Пост подсайта \\nАвтор - подсайт', \n",
    "          'Репост \\nАвтор - пользователь', 'Репост \\nАвтор - подсайт']# tmp.author_type.values  \n",
    "\n",
    "# Create a pie chart\n",
    "wedges = pie_ax.pie(\n",
    "    tmp_symbols['symbols'],\n",
    "    shadow=False,\n",
    "#     colors=colors, \n",
    "    startangle=135, #frame=True, \n",
    "    autopct=lambda pct: func(pct, tmp_symbols['symbols']), \n",
    "    explode=(0, 0.05, 0, 0.05)\n",
    ")\n",
    "\n",
    "bbox_props = dict(boxstyle=\"square,pad=0.3\", fc=\"w\", ec=\"k\", lw=0.72)\n",
    "kw = dict(xycoords='data', textcoords='data', arrowprops=dict(arrowstyle=\"-\"), zorder=0, va=\"center\")\n",
    "\n",
    "for i, p in enumerate(wedges[0]):\n",
    "    ang = (p.theta2 - p.theta1)/2. + p.theta1\n",
    "    y = np.sin(np.deg2rad(ang))\n",
    "    x = np.cos(np.deg2rad(ang))\n",
    "    horizontalalignment = {-1: \"right\", 1: \"left\"}[int(np.sign(x))]\n",
    "    connectionstyle = \"angle,angleA=0,angleB={}\".format(ang)\n",
    "    kw[\"arrowprops\"].update({\"connectionstyle\": connectionstyle,\n",
    "#                              \"color\":colors[i]\n",
    "                            \"color\":'k'\n",
    "                            })\n",
    "    pie_ax.annotate(labels[i], xy=(x, y), xytext=(1.25*np.sign(x), 1.4*y),\n",
    "                 horizontalalignment=horizontalalignment, **kw)\n",
    "\n",
    "\n",
    "centre_circle = plt.Circle((0,0), 0.89, color='black', fc='white',linewidth=0)\n",
    "fig = plt.gcf()\n",
    "fig.gca().add_artist(centre_circle)\n",
    "\n",
    "plt.title('Общее количество символов в публикациях', fontsize=22, pad=26)\n",
    "\n",
    "plt.axis('equal')\n",
    "\n",
    "# plt.savefig(PATH + \"April_2021/symbols.jpg\", dpi=300, bbox_inches='tight')\n",
    "\n",
    "plt.show()"
   ]
  },
  {
   "cell_type": "code",
   "execution_count": null,
   "metadata": {},
   "outputs": [],
   "source": [
    "tmp_media = march_subs.groupby(['is_repost', 'author_type'], as_index=False).agg({'total_mediacontent': \"sum\"})\n",
    "tmp_media"
   ]
  },
  {
   "cell_type": "code",
   "execution_count": null,
   "metadata": {},
   "outputs": [],
   "source": [
    "tmp_media.total_mediacontent.sum()"
   ]
  },
  {
   "cell_type": "code",
   "execution_count": null,
   "metadata": {},
   "outputs": [],
   "source": [
    "sns.set_palette(\"viridis_r\")\n",
    "\n",
    "def func(pct, allvals):\n",
    "    absolute = round(pct/100.*np.sum(allvals))\n",
    "    return \"{:.1f}%\\n{:d} medias\".format(pct, absolute)\n",
    "\n",
    "fig=plt.figure(figsize=(14,10))\n",
    "gs1 = gridspec.GridSpec(1,1,\n",
    "    left=0.1,right=0.7,\n",
    "    bottom=0.1,top=0.7,\n",
    ")\n",
    "# gs2 = gridspec.GridSpec(1,1,\n",
    "#     left=0.05,right=0.95,\n",
    "#     bottom=0.9,top=1.0,\n",
    "# )\n",
    "\n",
    "pie_ax=fig.add_subplot(gs1[0])\n",
    "# title_ax=fig.add_subplot(gs2[0])\n",
    "\n",
    "# Create a list of colors (from iWantHue)\n",
    "# colors = ['#66b3ff', '#ffcc99', '#99ff99', '#ff6666']\n",
    "labels = ['Пост подсайта \\nАвтор - пользователь', 'Пост подсайта \\nАвтор - подсайт', \n",
    "          'Репост \\nАвтор - пользователь', 'Репост \\nАвтор - подсайт']# tmp.author_type.values  \n",
    "\n",
    "# Create a pie chart\n",
    "wedges = pie_ax.pie(\n",
    "    tmp_media['total_mediacontent'],\n",
    "    shadow=False,\n",
    "#     colors=colors, \n",
    "    startangle=45, #frame=True, \n",
    "    autopct=lambda pct: func(pct, tmp_media['total_mediacontent']), \n",
    "    explode=(0, 0.05, 0.05, 0.05)\n",
    ")\n",
    "\n",
    "bbox_props = dict(boxstyle=\"square,pad=0.3\", fc=\"w\", ec=\"k\", lw=0.72)\n",
    "kw = dict(xycoords='data', textcoords='data', arrowprops=dict(arrowstyle=\"-\"), zorder=0, va=\"center\")\n",
    "\n",
    "for i, p in enumerate(wedges[0]):\n",
    "    ang = (p.theta2 - p.theta1)/2. + p.theta1\n",
    "    y = np.sin(np.deg2rad(ang))\n",
    "    x = np.cos(np.deg2rad(ang))\n",
    "    horizontalalignment = {-1: \"right\", 1: \"left\"}[int(np.sign(x))]\n",
    "    connectionstyle = \"angle,angleA=0,angleB={}\".format(ang)\n",
    "    kw[\"arrowprops\"].update({\"connectionstyle\": connectionstyle,\n",
    "#                              \"color\":colors[i]\n",
    "                            \"color\":'k'\n",
    "                            })\n",
    "    pie_ax.annotate(labels[i], xy=(x, y), xytext=(1.25*np.sign(x), 1.4*y),\n",
    "                 horizontalalignment=horizontalalignment, **kw)\n",
    "\n",
    "\n",
    "centre_circle = plt.Circle((0,0), 0.88, color='black', fc='white',linewidth=0)\n",
    "fig = plt.gcf()\n",
    "fig.gca().add_artist(centre_circle)\n",
    "\n",
    "plt.title('Общее количество единиц медиконтента в публикациях', fontsize=22, pad=26)\n",
    "\n",
    "plt.axis('equal')\n",
    "\n",
    "# plt.savefig(PATH + \"April_2021/medias.jpg\", dpi=300, bbox_inches='tight')\n",
    "\n",
    "plt.show()"
   ]
  },
  {
   "cell_type": "code",
   "execution_count": null,
   "metadata": {},
   "outputs": [],
   "source": [
    "plt.rcParams[\"figure.figsize\"] = [20, 16]\n",
    "\n",
    "import seaborn as sns\n",
    "import matplotlib.pyplot as plt\n",
    "\n",
    "sns.set()\n",
    "ax = sns.scatterplot(x='symbols', y='total_mediacontent', hue='likes', palette='turbo', data=march_subs)\n",
    "\n",
    "norm = plt.Normalize(df.likes.min(), df.likes.max())\n",
    "sm = plt.cm.ScalarMappable(cmap=\"turbo\", norm=norm)\n",
    "sm.set_array([])\n",
    "\n",
    "# Remove the legend and add a colorbar\n",
    "ax.get_legend().remove()\n",
    "ax.figure.colorbar(sm)\n",
    "\n",
    "plt.xlabel('Количество символов в публикации', fontsize=16)\n",
    "plt.ylabel('Количество медиаконтента в публикации', fontsize=16)\n",
    "plt.title('Диаграмма рассеяния между количеством медиаконтента и лайками', fontsize=22, pad=20);\n",
    "\n",
    "# plt.savefig(PATH + \"April_2021/scatter_symbols_media_likes.jpg\", dpi=300, bbox_inches='tight')\n",
    "\n",
    "plt.show()"
   ]
  },
  {
   "cell_type": "markdown",
   "metadata": {},
   "source": [
    "---"
   ]
  },
  {
   "cell_type": "markdown",
   "metadata": {},
   "source": [
    "---"
   ]
  },
  {
   "cell_type": "markdown",
   "metadata": {},
   "source": [
    "---"
   ]
  },
  {
   "cell_type": "code",
   "execution_count": null,
   "metadata": {},
   "outputs": [],
   "source": [
    "march_subs.set_index('date', inplace=True)\n",
    "march_subs.index = pd.to_datetime(march_subs.index)"
   ]
  },
  {
   "cell_type": "code",
   "execution_count": null,
   "metadata": {},
   "outputs": [],
   "source": [
    "march_ts = march_subs.resample('D').apply({'id':'count'})\n",
    "march_ts[\"weekday\"] = march_ts.index.weekday\n",
    "march_ts"
   ]
  },
  {
   "cell_type": "code",
   "execution_count": null,
   "metadata": {},
   "outputs": [],
   "source": [
    "fe = sns.barplot(data=march_ts, x=march_ts.index, y=march_ts.id)\n",
    "ax = fe\n",
    "\n",
    "for item in fe.get_xticklabels():\n",
    "    item.set_rotation(90)\n",
    "\n",
    "for p in ax.patches:\n",
    "             ax.annotate(\"%.1d\" % p.get_height(), (p.get_x() + p.get_width() / 2., p.get_height()),\n",
    "                 ha='center', va='center', fontsize=12, color='gray', xytext=(0, 10),\n",
    "                 textcoords='offset points')    \n",
    "        \n",
    "ax.set_title('Количество постов, публикуемых ежедневно в течение месяца', fontsize=18, pad=20)\n",
    "ax.set_xlabel('Число месяца', fontsize='16')\n",
    "ax.set_ylabel('Количество статей', fontsize='16');\n",
    "\n",
    "# plt.savefig(PATH + \"April_2021/posts_by_day.png\", dpi=300, bbox_inches='tight')"
   ]
  },
  {
   "cell_type": "code",
   "execution_count": null,
   "metadata": {},
   "outputs": [],
   "source": [
    "march_ts.groupby(\"weekday\").sum()"
   ]
  },
  {
   "cell_type": "code",
   "execution_count": null,
   "metadata": {},
   "outputs": [],
   "source": [
    "from pandas.api.types import CategoricalDtype\n",
    "\n",
    "cats = ['Monday', 'Tuesday', 'Wednesday', 'Thursday', 'Friday', 'Saturday', 'Sunday']\n",
    "cat_type = CategoricalDtype(categories=cats, ordered=True)\n",
    "march_subs['weekday'] = march_subs['weekday'].astype(cat_type)"
   ]
  },
  {
   "cell_type": "code",
   "execution_count": null,
   "metadata": {},
   "outputs": [],
   "source": [
    "sns.set_palette('hls')\n",
    "\n",
    "ax = sns.barplot(data=march_subs, x=march_subs.groupby(\"weekday\")[\"id\"].count().sort_index().index, \n",
    "            y=march_subs.groupby(\"weekday\")[\"id\"].count().sort_index().values)\n",
    "\n",
    "for p in ax.patches:\n",
    "             ax.annotate(\"%.1d\" % p.get_height(), (p.get_x() + p.get_width() / 2., p.get_height()),\n",
    "                 ha='center', va='center', fontsize=12, color='gray', xytext=(0, 10),\n",
    "                 textcoords='offset points')  \n",
    "\n",
    "ax.set_title('Количество постов, сгруппированное по дням недели', fontsize=18, pad=20)\n",
    "ax.set_xlabel('День недели', fontsize='16')\n",
    "ax.set_ylabel('Количество статей', fontsize='16');\n",
    "\n",
    "# plt.savefig(PATH + \"April_2021/posts_by_day_sum.png\", dpi=300, bbox_inches='tight')"
   ]
  },
  {
   "cell_type": "markdown",
   "metadata": {},
   "source": [
    "---"
   ]
  },
  {
   "cell_type": "markdown",
   "metadata": {},
   "source": [
    "---"
   ]
  },
  {
   "cell_type": "markdown",
   "metadata": {},
   "source": [
    "---"
   ]
  },
  {
   "cell_type": "code",
   "execution_count": null,
   "metadata": {},
   "outputs": [],
   "source": [
    "hshtgs = pd.Series([x for item in march_subs.hashtags for x in item])\n",
    "hshtgs.value_counts().head(30)"
   ]
  },
  {
   "cell_type": "code",
   "execution_count": null,
   "metadata": {},
   "outputs": [],
   "source": [
    "plt.rcParams[\"figure.figsize\"] = [14, 20]\n",
    "\n",
    "my_cmap = plt.get_cmap(\"coolwarm\")\n",
    "rescale = lambda y: (y - np.min(y)) / (np.max(y) - np.min(y))\n",
    "\n",
    "labels = hshtgs.value_counts().head(30).index[::-1]\n",
    "values = hshtgs.value_counts().head(30).values[::-1]\n",
    "\n",
    "height = 0.9\n",
    "plt.barh(y=labels, width=values, height=height, \n",
    "         color=my_cmap(rescale(values)), \n",
    "         align='center')\n",
    "\n",
    "for i, (label, value) in enumerate(zip(labels, values)):\n",
    "#     im = Image.open(requests.get(label, stream=True).raw)\n",
    "#     plt.imshow(im, extent=[value - 200, value - 20, i - height / 2.5, i + height / 2.5], aspect='auto', zorder=2)\n",
    "    plt.text(value + 1, i, '{:1.0f}'.format(value), ha = 'left', va = 'center')\n",
    "\n",
    "    \n",
    "plt.xlim(0, max(values) * 1.05)\n",
    "plt.ylim(-0.5, len(labels) - 0.5)\n",
    "plt.xlabel('Количество хэштегов', fontsize=16)\n",
    "plt.ylabel('Хэштеги', fontsize=16)\n",
    "plt.title('Топ-30 хэштегов по частоте использования', fontsize=22, pad=20)\n",
    "plt.grid(True, alpha=0.5)\n",
    "plt.tight_layout()\n",
    "\n",
    "# plt.savefig(PATH + \"April_2021/hashtags.jpg\", dpi=300, bbox_inches='tight')\n",
    "\n",
    "plt.show()"
   ]
  },
  {
   "cell_type": "code",
   "execution_count": null,
   "metadata": {},
   "outputs": [],
   "source": [
    "author_set_post = set(march_subs[march_subs.is_repost == False].author_name.unique())\n",
    "author_set_repost = set(march_subs[march_subs.is_repost == True].author_name.unique())\n",
    "\n",
    "from matplotlib_venn import venn2\n",
    "plt.figure(figsize=(30,30))\n",
    "\n",
    "venn = venn2([author_set_post, author_set_repost], ('Авторы подсайта', 'Авторы репостов'))\n",
    "\n",
    "venn.get_label_by_id('100').set_text('\\n'.join(map(str, author_set_post-author_set_repost)))\n",
    "venn.get_label_by_id('110').set_text('\\n'.join(map(str, author_set_post&author_set_repost)))\n",
    "venn.get_label_by_id('010').set_text('\\n'.join(map(str, author_set_repost-author_set_post)))\n",
    "\n",
    "plt.title('Количество уникальных авторов', fontsize=40)\n",
    "\n",
    "# plt.savefig(PATH + \"April_2021/authors_venn.jpg\", dpi=300, bbox_inches='tight')\n",
    "\n",
    "plt.show()"
   ]
  },
  {
   "cell_type": "markdown",
   "metadata": {},
   "source": [
    "---"
   ]
  },
  {
   "cell_type": "markdown",
   "metadata": {},
   "source": [
    "---"
   ]
  },
  {
   "cell_type": "markdown",
   "metadata": {},
   "source": [
    "---"
   ]
  },
  {
   "cell_type": "code",
   "execution_count": null,
   "metadata": {},
   "outputs": [],
   "source": [
    "march_subs.head(2)"
   ]
  },
  {
   "cell_type": "code",
   "execution_count": null,
   "metadata": {
    "scrolled": false
   },
   "outputs": [],
   "source": [
    "# march_subs[march_subs.author_name == \"Knightmare\"] # Reposts from GachaHell"
   ]
  },
  {
   "cell_type": "code",
   "execution_count": null,
   "metadata": {},
   "outputs": [],
   "source": [
    "tmp_3 = march_subs[march_subs.is_repost == False].groupby(['author_name','author_avatar_url'], \n",
    "                as_index=False).count().sort_values(by=\"id\", ascending=False).iloc[:, [0,1,3]].head(10)\n",
    "tmp_3.head(20)"
   ]
  },
  {
   "cell_type": "code",
   "execution_count": null,
   "metadata": {},
   "outputs": [],
   "source": [
    "sum(tmp_3.id[:3])"
   ]
  },
  {
   "cell_type": "code",
   "execution_count": null,
   "metadata": {},
   "outputs": [],
   "source": [
    "march_subs.id.count()"
   ]
  },
  {
   "cell_type": "code",
   "execution_count": null,
   "metadata": {},
   "outputs": [],
   "source": [
    "sum(tmp_3.id[:3]) / march_subs.id.count() * 100"
   ]
  },
  {
   "cell_type": "code",
   "execution_count": null,
   "metadata": {},
   "outputs": [],
   "source": [
    "plt.rcParams[\"figure.figsize\"] = [14, 10]\n",
    "\n",
    "labels = tmp_3.author_avatar_url[::-1]\n",
    "colors = ['lightcoral', 'orchid', 'tan', 'peachpuff', 'goldenrod', 'darkred', 'darkturquoise', 'indigo', 'coral', 'pink'][::-1]\n",
    "values = tmp_3.id[::-1] \n",
    "\n",
    "height = 0.9\n",
    "plt.barh(y=tmp_3.author_name[::-1], width=tmp_3.id[::-1], height=height, color=colors, align='center')\n",
    "\n",
    "for i, (label, value) in enumerate(zip(labels, values)):\n",
    "    im = Image.open(requests.get(label, stream=True).raw)\n",
    "    plt.imshow(im, extent=[value - 8, value - 2, i - height / 2.5, i + height / 2.5], aspect='auto', zorder=2)\n",
    "    plt.text(value + 1, i, '{:1.0f}'.format(value), ha = 'left', va = 'center')\n",
    "\n",
    "    \n",
    "plt.xlim(0, max(values) * 1.05)\n",
    "plt.ylim(-0.5, len(labels) - 0.5)\n",
    "plt.xlabel('Количество постов за месяц', fontsize=16)\n",
    "plt.ylabel('Авторы', fontsize=16)\n",
    "plt.title('Топ-10 авторов по количеству постов за март', fontsize=22, pad=20)\n",
    "plt.tight_layout()\n",
    "\n",
    "# plt.savefig(PATH + \"April_2021/authors_top10_posts.jpg\", dpi=300, bbox_inches='tight')\n",
    "\n",
    "plt.show()"
   ]
  },
  {
   "cell_type": "code",
   "execution_count": null,
   "metadata": {},
   "outputs": [],
   "source": [
    "march_subs.columns"
   ]
  },
  {
   "cell_type": "code",
   "execution_count": null,
   "metadata": {},
   "outputs": [],
   "source": [
    "tmp_123 = march_subs[march_subs.is_repost == True].groupby(['subsite','author_avatar_url'], \n",
    "                as_index=False).count().sort_values(by=\"id\", ascending=False).head(10).iloc[:, [0,1,3]] \n",
    "tmp_123.head(20)"
   ]
  },
  {
   "cell_type": "code",
   "execution_count": null,
   "metadata": {},
   "outputs": [],
   "source": [
    "plt.rcParams[\"figure.figsize\"] = [14, 10]\n",
    "\n",
    "labels = tmp_123.author_avatar_url[::-1]\n",
    "# colors = ['lightcoral', 'orchid', 'tan', 'peachpuff', 'goldenrod', 'darkred', 'darkturquoise', 'indigo', 'coral', 'pink'][::-1]\n",
    "values = tmp_123.id[::-1] \n",
    "\n",
    "height = 0.9\n",
    "my_cmap = plt.get_cmap(\"coolwarm\")\n",
    "plt.barh(y=tmp_123.subsite[::-1], width=tmp_123.id[::-1], height=height, \n",
    "         color=my_cmap(rescale(values)), align='center')\n",
    "\n",
    "for i, (label, value) in enumerate(zip(labels, values)):\n",
    "    im = Image.open(requests.get(label, stream=True).raw)\n",
    "    plt.imshow(im, extent=[value - 2.5, value - 0.5, i - height / 2.5, i + height / 2.5], aspect='auto', zorder=2)\n",
    "    plt.text(value + 1, i, '{:1.0f}'.format(value), ha = 'left', va = 'center')\n",
    "\n",
    "    \n",
    "plt.xlim(0, max(values) * 1.05)\n",
    "plt.ylim(-0.5, len(labels) - 0.5)\n",
    "plt.xlabel('Количество репостов за месяц', fontsize=16)\n",
    "plt.ylabel('Авторы', fontsize=16)\n",
    "plt.title('Топ-10 авторов по количеству репостов за март', fontsize=22, pad=20)\n",
    "plt.tight_layout()\n",
    "\n",
    "# plt.savefig(PATH + \"April_2021/authors_top10_reposts.png\", dpi=300, bbox_inches='tight')\n",
    "\n",
    "plt.show()"
   ]
  },
  {
   "cell_type": "code",
   "execution_count": null,
   "metadata": {},
   "outputs": [],
   "source": [
    "tmp_2 = march_subs[march_subs.is_repost == False].groupby(['author_name','author_avatar_url'], \n",
    "                as_index=False).agg({\"likes\": \"sum\"}).sort_values(by=\"likes\", ascending=False).head(20)\n",
    "tmp_2.head(10)"
   ]
  },
  {
   "cell_type": "code",
   "execution_count": null,
   "metadata": {},
   "outputs": [],
   "source": [
    "sum(tmp_2.likes[:3])"
   ]
  },
  {
   "cell_type": "code",
   "execution_count": null,
   "metadata": {},
   "outputs": [],
   "source": [
    "sum(tmp_2.likes[:3]) / (march_subs[(march_subs.is_repost == False)].likes.sum()) * 100"
   ]
  },
  {
   "cell_type": "code",
   "execution_count": null,
   "metadata": {},
   "outputs": [],
   "source": [
    "plt.rcParams[\"figure.figsize\"] = [14, 20]\n",
    "\n",
    "my_cmap = plt.get_cmap(\"coolwarm\")\n",
    "rescale = lambda y: (y - np.min(y)) / (np.max(y) - np.min(y))\n",
    "\n",
    "labels = tmp_2.author_avatar_url[::-1]\n",
    "# colors = ['lightcoral', 'orchid', 'peachpuff', 'coral', 'tan', 'indigo', 'goldenrod', 'pink', 'darkturquoise', 'teal'][::-1]\n",
    "values = tmp_2.likes[::-1] \n",
    "\n",
    "height = 0.9\n",
    "plt.barh(y=tmp_2.author_name[::-1], width=tmp_2.likes[::-1], height=height, \n",
    "         color=my_cmap(rescale(values)), \n",
    "         align='center')\n",
    "\n",
    "for i, (label, value) in enumerate(zip(labels, values)):\n",
    "    im = Image.open(requests.get(label, stream=True).raw)\n",
    "    plt.imshow(im, extent=[value - 200, value - 20, i - height / 2.5, i + height / 2.5], aspect='auto', zorder=2)\n",
    "    plt.text(value + 1, i, '{:1.0f}'.format(value), ha = 'left', va = 'center')\n",
    "\n",
    "    \n",
    "plt.xlim(0, max(values) * 1.05)\n",
    "plt.ylim(-0.5, len(labels) - 0.5)\n",
    "plt.xlabel('Сумма рейтинга за месяц', fontsize=16)\n",
    "plt.ylabel('Авторы', fontsize=16)\n",
    "plt.title('Топ-20 авторов по сумме рейтинга за март', fontsize=22, pad=20)\n",
    "plt.tight_layout()\n",
    "\n",
    "# plt.savefig(PATH + \"April_2021/authors_top20_sum_likes.png\", dpi=300, bbox_inches='tight')\n",
    "\n",
    "plt.show()"
   ]
  },
  {
   "cell_type": "markdown",
   "metadata": {},
   "source": [
    "---"
   ]
  },
  {
   "cell_type": "markdown",
   "metadata": {},
   "source": [
    "---"
   ]
  },
  {
   "cell_type": "markdown",
   "metadata": {},
   "source": [
    "---"
   ]
  },
  {
   "cell_type": "code",
   "execution_count": null,
   "metadata": {},
   "outputs": [],
   "source": [
    "tmp_4 = march_subs[(march_subs.is_repost == False)].sort_values(by='likes', ascending=False) \\\n",
    ".head(10).loc[:, [\"id\", 'author_name','author_avatar_url', 'title', \"likes\", 'date', 'type_of_post']]\n",
    "tmp_4.loc[573, 'title'] = '50 лайков этой милой тян или завтра я запощу гяру ...' \n",
    "tmp_4.loc[517, 'title'] = \"Объемная подборка смущенных(и не очень) дев ...\"\n",
    "tmp_4.loc[353, 'title'] = \"Спорт. Шортики, голубые волосы и кроссы ...\"\n",
    "tmp_4.loc[72, 'title'] = \"Запись пользователя Over9k5000\"\n",
    "tmp_4"
   ]
  },
  {
   "cell_type": "code",
   "execution_count": null,
   "metadata": {},
   "outputs": [],
   "source": [
    "from matplotlib import cm\n",
    "\n",
    "labels = tmp_4.title[::-1]#.astype('str')\n",
    "values = tmp_4.likes[::-1]\n",
    "\n",
    "my_cmap = plt.get_cmap(\"Wistia\")\n",
    "rescale = lambda y: (y - np.min(y)) / (np.max(y) - np.min(y))\n",
    "height = 0.9\n",
    "\n",
    "plt.barh(y=tmp_4.id[::-1].astype(\"str\"), \n",
    "         width=values, height=height, \n",
    "         align='center', color=my_cmap(rescale(values)))\n",
    "\n",
    "for i, (label, value) in enumerate(zip(labels, values)):\n",
    "    plt.text(value + 1, i, '{:1.0f}'.format(value), ha = 'left', va = 'center')\n",
    "    plt.text(5, i, '{}'.format(label), ha = 'left', va = 'center')\n",
    "\n",
    "    \n",
    "plt.xlim(0, max(values) * 1.05)\n",
    "plt.ylim(-0.5, len(labels) - 0.5)\n",
    "plt.xlabel('Количество лайков', fontsize=16)\n",
    "plt.ylabel('ID публикации', fontsize=16)\n",
    "plt.title('Топ-10 публикаций по лайкам за март - без учёта репостов', fontsize=22, pad=20)\n",
    "plt.tight_layout()\n",
    "\n",
    "# plt.savefig(PATH + \"April_2021/top10_posts_likes.jpg\", dpi=300, bbox_inches='tight')\n",
    "\n",
    "plt.show()"
   ]
  },
  {
   "cell_type": "code",
   "execution_count": null,
   "metadata": {},
   "outputs": [],
   "source": [
    "tmp_4 = march_subs.sort_values(by='likes', ascending=False) \\\n",
    ".head(10).loc[:, [\"id\", 'author_name','author_avatar_url', 'title', \"likes\", 'date', 'type_of_post']]\n",
    "tmp_4.loc[287, 'title'] = 'Мангаки, сценаристки, режиссёры: 20 ...' \n",
    "tmp_4.loc[175, 'title'] = \"Анимешная раздача игр Steam\"\n",
    "tmp_4.loc[774, 'title'] = \"История визуальных новелл: ...\"\n",
    "tmp_4.loc[306, 'title'] = \"Спорт. Шортики и голубые волосы от ...\"\n",
    "tmp_4.loc[818, 'title'] = \"Ниндзя: история появления, ...\"\n",
    "tmp_4"
   ]
  },
  {
   "cell_type": "code",
   "execution_count": null,
   "metadata": {},
   "outputs": [],
   "source": [
    "from matplotlib import cm\n",
    "\n",
    "labels = tmp_4.title[::-1]#.astype('str')\n",
    "values = tmp_4.likes[::-1]\n",
    "\n",
    "my_cmap = plt.get_cmap(\"Wistia\")\n",
    "rescale = lambda y: (y - np.min(y)) / (np.max(y) - np.min(y))\n",
    "height = 0.9\n",
    "\n",
    "plt.barh(y=tmp_4.author_name[::-1].astype(\"str\"), \n",
    "         width=values, height=height, \n",
    "         align='center', color=my_cmap(rescale(values)))\n",
    "\n",
    "for i, (label, value) in enumerate(zip(labels, values)):\n",
    "    plt.text(value + 1, i, '{:1.0f}'.format(value), ha = 'left', va = 'center')\n",
    "    plt.text(5, i, '{}'.format(label), ha = 'left', va = 'center')\n",
    "\n",
    "    \n",
    "plt.xlim(0, max(values) * 1.05)\n",
    "plt.ylim(-0.5, len(labels) - 0.5)\n",
    "plt.xlabel('Количество лайков', fontsize=16)\n",
    "plt.ylabel('Автор публикации', fontsize=16)\n",
    "plt.title('Топ-10 публикаций по лайкам за март - с учётом репостов', fontsize=22, pad=20)\n",
    "plt.tight_layout()\n",
    "\n",
    "# plt.savefig(PATH + \"April_2021/top10_reposts_likes.jpg\", dpi=300, bbox_inches='tight')\n",
    "\n",
    "plt.show()"
   ]
  },
  {
   "cell_type": "code",
   "execution_count": null,
   "metadata": {},
   "outputs": [],
   "source": [
    "tmp_5 = march_subs[(march_subs.is_repost == False)].sort_values(by='hits_count', ascending=False) \\\n",
    ".head(10).loc[:, [\"id\", 'author_name','author_avatar_url', 'title', \"hits_count\", 'date']]\n",
    "tmp_5.loc[858, 'title'] = 'Статистика печатной ...'\n",
    "tmp_5.loc[845, 'title'] = 'My girl — Храбрость  ...' \n",
    "tmp_5.loc[8, 'title'] = 'Neko no Otera ...' \n",
    "tmp_5.loc[638, 'title'] = 'Обычная яп...' \n",
    "tmp_5.loc[134, 'title'] = 'Бикини, хво...' \n",
    "tmp_5.loc[600, 'title'] = \"Запись ...\"\n",
    "tmp_5.loc[867, 'title'] = \"Смена напр...\"\n",
    "\n",
    "tmp_5"
   ]
  },
  {
   "cell_type": "code",
   "execution_count": null,
   "metadata": {},
   "outputs": [],
   "source": [
    "from matplotlib import cm\n",
    "\n",
    "labels = tmp_5.title[::-1]#.astype('str')\n",
    "values = tmp_5.hits_count[::-1]\n",
    "\n",
    "my_cmap = plt.get_cmap(\"summer\")\n",
    "rescale = lambda y: (y - np.min(y)) / (np.max(y) - np.min(y))\n",
    "height = 0.9\n",
    "\n",
    "plt.barh(y=tmp_5.id[::-1].astype(\"str\"), \n",
    "         width=values, height=height, \n",
    "         align='center', color=my_cmap(rescale(values)))\n",
    "\n",
    "for i, (label, value) in enumerate(zip(labels, values)):\n",
    "    plt.text(value + 1, i, '{:1.0f}'.format(value), ha = 'left', va = 'center')\n",
    "    plt.text(50, i, '{}'.format(label), ha = 'left', va = 'center')\n",
    "\n",
    "    \n",
    "plt.xlim(0, max(values) * 1.05)\n",
    "plt.ylim(-0.5, len(labels) - 0.5)\n",
    "plt.xlabel('Количество просмотров', fontsize=16)\n",
    "plt.ylabel('ID публикации', fontsize=16)\n",
    "plt.title('Топ-10 публикаций по просмотрам за март - без учёта репостов', fontsize=22, pad=20)\n",
    "plt.tight_layout()\n",
    "\n",
    "# plt.savefig(PATH + \"April_2021/top10_posts_hits.jpg\", dpi=300, bbox_inches='tight')\n",
    "\n",
    "plt.show()"
   ]
  },
  {
   "cell_type": "code",
   "execution_count": null,
   "metadata": {},
   "outputs": [],
   "source": [
    "tmp_5 = march_subs.sort_values(by='hits_count', ascending=False) \\\n",
    ".head(10).loc[:, [\"id\", 'author_name','author_avatar_url', 'title', \"hits_count\", 'date']]\n",
    "tmp_5.loc[234, 'title'] = '«Классика японской литературы»...'\n",
    "tmp_5.loc[423, 'title'] = \"Вышли все 12 серий аниме VLAD ...\"\n",
    "tmp_5.loc[287, 'title'] = 'Мангаки, сценаристки, реж...' \n",
    "tmp_5.loc[126, 'title'] = 'Художник показал конц...' \n",
    "tmp_5.loc[326, 'title'] = 'Конкурс Весенние школ...' \n",
    "\n",
    "tmp_5"
   ]
  },
  {
   "cell_type": "code",
   "execution_count": null,
   "metadata": {},
   "outputs": [],
   "source": [
    "from matplotlib import cm\n",
    "\n",
    "labels = tmp_5.title[::-1]#.astype('str')\n",
    "values = tmp_5.hits_count[::-1]\n",
    "\n",
    "my_cmap = plt.get_cmap(\"summer\")\n",
    "rescale = lambda y: (y - np.min(y)) / (np.max(y) - np.min(y))\n",
    "height = 0.9\n",
    "\n",
    "plt.barh(y=tmp_5.author_name[::-1].astype(\"str\"), \n",
    "         width=values, height=height, \n",
    "         align='center', color=my_cmap(rescale(values)))\n",
    "\n",
    "for i, (label, value) in enumerate(zip(labels, values)):\n",
    "    plt.text(value + 1, i, '{:1.0f}'.format(value), ha = 'left', va = 'center')\n",
    "    plt.text(50, i, '{}'.format(label), ha = 'left', va = 'center')\n",
    "\n",
    "    \n",
    "plt.xlim(0, max(values) * 1.05)\n",
    "plt.ylim(-0.5, len(labels) - 0.5)\n",
    "plt.xlabel('Количество просмотров', fontsize=16)\n",
    "plt.ylabel('Автор публикации', fontsize=16)\n",
    "plt.title('Топ-10 публикаций по просмотрам за март - с учётом репостов', fontsize=22, pad=20)\n",
    "plt.tight_layout()\n",
    "\n",
    "# plt.savefig(PATH + \"April_2021/top10_reposts_hits.jpg\", dpi=300, bbox_inches='tight')\n",
    "\n",
    "plt.show()"
   ]
  },
  {
   "cell_type": "code",
   "execution_count": null,
   "metadata": {},
   "outputs": [],
   "source": [
    "tmp_6 = march_subs[(march_subs.is_repost == False)].sort_values(by='comments_count', ascending=False) \\\n",
    ".head(10).loc[:, [\"id\", 'author_name','author_avatar_url', 'title', \"comments_count\", 'date']]\n",
    "tmp_6.loc[644, 'title'] = 'Запись пользователя Marshal_New_Arleana'\n",
    "tmp_6"
   ]
  },
  {
   "cell_type": "code",
   "execution_count": null,
   "metadata": {
    "scrolled": false
   },
   "outputs": [],
   "source": [
    "labels = tmp_6.title[::-1]#.astype('str')\n",
    "values = tmp_6.comments_count[::-1]\n",
    "\n",
    "my_cmap = plt.get_cmap(\"coolwarm\")\n",
    "rescale = lambda y: (y - np.min(y)) / (np.max(y) - np.min(y))\n",
    "height = 0.9\n",
    "\n",
    "plt.barh(y=tmp_6.id[::-1].astype(\"str\"), \n",
    "         width=values, height=height, \n",
    "         align='center', color=my_cmap(rescale(values)))\n",
    "\n",
    "for i, (label, value) in enumerate(zip(labels, values)):\n",
    "    plt.text(value + 1, i, '{:1.0f}'.format(value), ha = 'left', va = 'center')\n",
    "    plt.text(2, i, '{}'.format(label), ha = 'left', va = 'center')\n",
    "\n",
    "    \n",
    "plt.xlim(0, max(values) * 1.05)\n",
    "plt.ylim(-0.5, len(labels) - 0.5)\n",
    "plt.xlabel('Количество комментариев', fontsize=16)\n",
    "plt.ylabel('ID публикации', fontsize=16)\n",
    "plt.title('Топ-10 публикаций по количеству комментариев за март - без учёта репостов', fontsize=22, pad=20)\n",
    "plt.tight_layout()\n",
    "\n",
    "# plt.savefig(PATH + \"April_2021/top10_posts_comments_alter.jpg\", dpi=300, bbox_inches='tight')\n",
    "\n",
    "plt.show()"
   ]
  },
  {
   "cell_type": "code",
   "execution_count": null,
   "metadata": {},
   "outputs": [],
   "source": [
    "tmp_6 = march_subs.sort_values(by='comments_count', ascending=False) \\\n",
    ".head(10).loc[:, [\"id\", 'author_name','author_avatar_url', 'title', \"comments_count\", 'date']]\n",
    "tmp_6.loc[587, 'title'] = 'Интересные вещи происходят в япо...'\n",
    "tmp_6.loc[666, 'title'] = 'Genshin Impact или как у miHoYo...'\n",
    "tmp_6.loc[816, 'title'] = 'Я сначала не понял, а потом как...'\n",
    "tmp_6"
   ]
  },
  {
   "cell_type": "code",
   "execution_count": null,
   "metadata": {},
   "outputs": [],
   "source": [
    "labels = tmp_6.title[::-1]#.astype('str')\n",
    "values = tmp_6.comments_count[::-1]\n",
    "\n",
    "my_cmap = plt.get_cmap(\"coolwarm\")\n",
    "rescale = lambda y: (y - np.min(y)) / (np.max(y) - np.min(y))\n",
    "height = 0.9\n",
    "\n",
    "plt.barh(y=tmp_6.author_name[::-1].astype(\"str\"), \n",
    "         width=values, height=height, \n",
    "         align='center', color=my_cmap(rescale(values)))\n",
    "\n",
    "for i, (label, value) in enumerate(zip(labels, values)):\n",
    "    plt.text(value + 1, i, '{:1.0f}'.format(value), ha = 'left', va = 'center')\n",
    "    plt.text(2, i, '{}'.format(label), ha = 'left', va = 'center')\n",
    "\n",
    "    \n",
    "plt.xlim(0, max(values) * 1.05)\n",
    "plt.ylim(-0.5, len(labels) - 0.5)\n",
    "plt.xlabel('Количество комментариев', fontsize=16)\n",
    "plt.ylabel('Автор публикации', fontsize=16)\n",
    "plt.title('Топ-10 публикаций по количеству комментариев за март - с учётом репостов', fontsize=22, pad=20)\n",
    "plt.tight_layout()\n",
    "\n",
    "# plt.savefig(PATH + \"April_2021/top10_reposts_comments_alter.jpg\", dpi=300, bbox_inches='tight')\n",
    "\n",
    "plt.show()"
   ]
  },
  {
   "cell_type": "code",
   "execution_count": null,
   "metadata": {},
   "outputs": [],
   "source": [
    "tmp_7 = march_subs[(march_subs.is_repost == False)].sort_values(by='favorites_count', ascending=False) \\\n",
    ".head(10).loc[:, [\"id\", 'author_name','author_avatar_url', 'title', \"favorites_count\", 'date']]\n",
    "tmp_7"
   ]
  },
  {
   "cell_type": "code",
   "execution_count": null,
   "metadata": {},
   "outputs": [],
   "source": [
    "plt.rcParams[\"figure.figsize\"] = [16, 10]\n",
    "\n",
    "labels = tmp_7.title[::-1]#.astype('str')\n",
    "values = tmp_7.favorites_count[::-1]\n",
    "\n",
    "my_cmap = plt.get_cmap(\"Spectral\")\n",
    "rescale = lambda y: (y - np.min(y)) / (np.max(y) - np.min(y))\n",
    "height = 0.9\n",
    "\n",
    "plt.barh(y=tmp_7.id[::-1].astype(\"str\"), \n",
    "         width=values, height=height, \n",
    "         align='center', color=my_cmap(rescale(values)))\n",
    "\n",
    "for i, (label, value) in enumerate(zip(labels, values)):\n",
    "    plt.text(value + 1, i, '{:1.0f}'.format(value), ha = 'left', va = 'center')\n",
    "    plt.text(2, i, '{}'.format(label), ha = 'left', va = 'center')\n",
    "\n",
    "    \n",
    "plt.xlim(0, max(values) * 1.05)\n",
    "plt.ylim(-0.5, len(labels) - 0.5)\n",
    "plt.xlabel('Количество добавлений в закладки', fontsize=16)\n",
    "plt.ylabel('ID публикации', fontsize=16)\n",
    "plt.title('Топ-10 публикаций по количеству добавлений в закладки за март - без учёта репостов', fontsize=22, pad=20)\n",
    "plt.tight_layout()\n",
    "\n",
    "# plt.savefig(PATH + \"April_2021/top10_posts_favorites_alter.jpg\", dpi=300, bbox_inches='tight')\n",
    "\n",
    "plt.show()"
   ]
  },
  {
   "cell_type": "code",
   "execution_count": null,
   "metadata": {},
   "outputs": [],
   "source": [
    "tmp_7 = march_subs.sort_values(by='favorites_count', ascending=False) \\\n",
    ".head(10).loc[:, [\"id\", 'author_name','author_avatar_url', 'title', \"favorites_count\", 'date']]\n",
    "tmp_7.loc[818, 'title'] = 'Ниндзя: история появления, развитие, отражение...'\n",
    "tmp_7.loc[774, 'title'] = 'История визуальных новелл: Последние годы без ...'\n",
    "tmp_7.loc[287, 'title'] = 'Мангаки, сценаристки, режиссёры: 20 великих жен...'\n",
    "tmp_7.loc[306, 'title'] = 'Спорт. Шортики и голубые волосы ...'\n",
    "tmp_7.loc[616, 'title'] = 'Об «Этажах», ЛГБТ и аниме...'\n",
    "tmp_7.loc[845, 'title'] = 'My girl — Храбрость идти впе...'\n",
    "\n",
    "tmp_7"
   ]
  },
  {
   "cell_type": "code",
   "execution_count": null,
   "metadata": {},
   "outputs": [],
   "source": [
    "plt.rcParams[\"figure.figsize\"] = [16, 10]\n",
    "\n",
    "labels = tmp_7.title[::-1]#.astype('str')\n",
    "values = tmp_7.favorites_count[::-1]\n",
    "\n",
    "my_cmap = plt.get_cmap(\"Spectral\")\n",
    "rescale = lambda y: (y - np.min(y)) / (np.max(y) - np.min(y))\n",
    "height = 0.9\n",
    "\n",
    "plt.barh(y=tmp_7.author_name[::-1].astype(\"str\"), \n",
    "         width=values, height=height, \n",
    "         align='center', color=my_cmap(rescale(values)))\n",
    "\n",
    "for i, (label, value) in enumerate(zip(labels, values)):\n",
    "    plt.text(value + 1, i, '{:1.0f}'.format(value), ha = 'left', va = 'center')\n",
    "    plt.text(2, i, '{}'.format(label), ha = 'left', va = 'center')\n",
    "\n",
    "    \n",
    "plt.xlim(0, max(values) * 1.05)\n",
    "plt.ylim(-0.5, len(labels) - 0.5)\n",
    "plt.xlabel('Количество добавлений в закладки', fontsize=16)\n",
    "plt.ylabel('Автор публикации', fontsize=16)\n",
    "plt.title('Топ-10 публикаций по количеству добавлений в закладки за март - с учётом репостов', fontsize=22, pad=20)\n",
    "plt.tight_layout()\n",
    "\n",
    "# plt.savefig(PATH + \"April_2021/top10_reposts_favorites_alter.jpg\", dpi=300, bbox_inches='tight')\n",
    "\n",
    "plt.show()"
   ]
  },
  {
   "cell_type": "code",
   "execution_count": null,
   "metadata": {},
   "outputs": [],
   "source": [
    "march_subs.type_of_post.unique()"
   ]
  },
  {
   "cell_type": "code",
   "execution_count": null,
   "metadata": {},
   "outputs": [],
   "source": [
    "tmp_111 = march_subs[(march_subs.is_repost == False) & (march_subs.type_of_post == \"Ультра-Подборка\")].sort_values(by='likes', ascending=False) \\\n",
    ".head(5).loc[:, [\"id\", 'author_name','author_avatar_url', 'title', \"likes\", 'date']]\n",
    "# meme\n",
    "# tmp_111.loc[72, 'title'] = 'Запись пользователя Over9k5000'\n",
    "# tmp_111.loc[39, 'title'] = 'Запись пользователя Diego Paw'\n",
    "# tmp_111.loc[832, 'title'] = 'Запись пользователя Лолег'\n",
    "# tmp_111.loc[268, 'title'] = 'Запись пользователя nahtigalka'\n",
    "# note\n",
    "# tmp_111.loc[573, 'title'] = '50 лайков этой милой тян или завтра я запощу ...'\n",
    "# tmp_111.loc[811, 'title'] = 'Приятного аппетита всем кто кушает и с началом...'\n",
    "# tmp_111.loc[867, 'title'] = 'Смена направления подсайта и полный зап...'\n",
    "# article\n",
    "# tmp_111.loc[361, 'title'] = 'Jumyou wo Kaitotte Moratta. Ichinen ni Tsuki, ...'\n",
    "# ultraset\n",
    "# tmp_111.loc[232, 'title'] = 'S1EP2/BD...'\n",
    "# tmp_111.loc[602, 'title'] = 'S1EP4/BD...'\n",
    "\n",
    "tmp_111"
   ]
  },
  {
   "cell_type": "code",
   "execution_count": null,
   "metadata": {},
   "outputs": [],
   "source": [
    "# march_subs.loc[766, 'type_of_post'] = \"Подборка\"\n",
    "# march_subs.loc[90, 'type_of_post'] = \"Подборка\"\n",
    "# march_subs.loc[18, 'type_of_post'] = \"Подборка\"\n",
    "# march_subs.loc[482, 'type_of_post'] = \"Подборка\""
   ]
  },
  {
   "cell_type": "code",
   "execution_count": null,
   "metadata": {},
   "outputs": [],
   "source": [
    "from matplotlib import cm\n",
    "\n",
    "labels = tmp_111.title[::-1]#.astype('str')\n",
    "values = tmp_111.likes[::-1]\n",
    "\n",
    "my_cmap = plt.get_cmap(\"Wistia\")\n",
    "rescale = lambda y: (y - np.min(y)) / (np.max(y) - np.min(y))\n",
    "height = 0.9\n",
    "\n",
    "plt.barh(y=tmp_111.id[::-1].astype(\"str\"), \n",
    "         width=values, height=height, \n",
    "         align='center', color=my_cmap(rescale(values)))\n",
    "\n",
    "for i, (label, value) in enumerate(zip(labels, values)):\n",
    "    plt.text(value + 1, i, '{:1.0f}'.format(value), ha = 'left', va = 'center')\n",
    "    plt.text(5, i, '{}'.format(label), ha = 'left', va = 'center')\n",
    "\n",
    "    \n",
    "plt.xlim(0, max(values) * 1.05)\n",
    "plt.ylim(-0.5, len(labels) - 0.5)\n",
    "plt.xlabel('Количество лайков', fontsize=16)\n",
    "plt.ylabel('ID публикации', fontsize=16)\n",
    "plt.title('Топ-5 ультра-подборок за март', fontsize=22, pad=20)\n",
    "plt.tight_layout()\n",
    "\n",
    "# plt.savefig(PATH + \"April_2021/top_ultraset_likes.jpg\", dpi=300, bbox_inches='tight')\n",
    "\n",
    "plt.show()"
   ]
  },
  {
   "cell_type": "code",
   "execution_count": null,
   "metadata": {},
   "outputs": [],
   "source": []
  },
  {
   "cell_type": "markdown",
   "metadata": {},
   "source": [
    "# Аналитика за февраль"
   ]
  },
  {
   "cell_type": "code",
   "execution_count": null,
   "metadata": {},
   "outputs": [],
   "source": [
    "df.set_index('date', inplace=True)\n",
    "df.index = pd.to_datetime(df.index)"
   ]
  },
  {
   "cell_type": "code",
   "execution_count": null,
   "metadata": {},
   "outputs": [],
   "source": [
    "fev_subs = df[\"2021-02\"]\n",
    "fev_subs.reset_index(inplace=True)\n",
    "fev_subs.head()"
   ]
  },
  {
   "cell_type": "code",
   "execution_count": null,
   "metadata": {},
   "outputs": [],
   "source": [
    "fev_subs.tail()"
   ]
  },
  {
   "cell_type": "code",
   "execution_count": null,
   "metadata": {},
   "outputs": [],
   "source": [
    "fev_subs.shape"
   ]
  },
  {
   "cell_type": "code",
   "execution_count": null,
   "metadata": {},
   "outputs": [],
   "source": [
    "import matplotlib as mpl\n",
    "sns.set_palette('husl', 10)\n",
    "\n",
    "def func(pct, allvals):\n",
    "    absolute = int(pct/100.*np.sum(allvals))\n",
    "    return \"{:.1f}%\\n{:d} posts\".format(pct, absolute)\n",
    "\n",
    "plt.rcParams[\"figure.figsize\"] = [14, 10]\n",
    "mpl.rcParams['font.size'] = 14.0\n",
    "\n",
    "labels = 'Статья подсайта', 'Репост'\n",
    "sizes = fev_subs.groupby(['isRepost']).agg({'id': \"count\"})['id'].values\n",
    "explode = (0, 0.1)  \n",
    "\n",
    "fig1, ax1 = plt.subplots()\n",
    "patches, texts, autotexts = ax1.pie(sizes, explode=explode, labels=labels, autopct=lambda pct: func(pct, sizes), #shadow=True, \n",
    "        startangle=90)\n",
    "\n",
    "texts[0].set_fontsize(14)\n",
    "texts[1].set_fontsize(14)\n",
    "\n",
    "ax1.axis('equal')\n",
    "plt.title('Доля репостов от общего количества публикаций за февраль', fontsize=22, pad=20)\n",
    "\n",
    "# plt.savefig(PATH + \"March_2021/part_of_reposts.png\", dpi=300, bbox_inches='tight')\n",
    "plt.show()"
   ]
  },
  {
   "cell_type": "code",
   "execution_count": null,
   "metadata": {},
   "outputs": [],
   "source": [
    "fev_subs.commentsCount.sum()"
   ]
  },
  {
   "cell_type": "code",
   "execution_count": null,
   "metadata": {},
   "outputs": [],
   "source": [
    "fev_subs.groupby([\"isRepost\"]).commentsCount.sum()"
   ]
  },
  {
   "cell_type": "code",
   "execution_count": null,
   "metadata": {},
   "outputs": [],
   "source": [
    "import matplotlib as mpl\n",
    "\n",
    "def func(pct, allvals):\n",
    "    absolute = int(pct/100.*np.sum(allvals))\n",
    "    return \"{:.1f}%\\n{:d} comments\".format(pct, absolute)\n",
    "\n",
    "sns.set_theme()\n",
    "sns.set_palette(\"pastel\")\n",
    "\n",
    "plt.rcParams[\"figure.figsize\"] = [14, 10]\n",
    "mpl.rcParams['font.size'] = 14.0\n",
    "\n",
    "labels = 'Статья подсайта', 'Репост'\n",
    "sizes = fev_subs.groupby([\"isRepost\"]).commentsCount.sum().values\n",
    "explode = (0, 0.1)  \n",
    "\n",
    "fig1, ax1 = plt.subplots()\n",
    "patches, texts, autotexts = ax1.pie(sizes, explode=explode, labels=labels, \n",
    "                                    autopct=lambda pct: func(pct, sizes), #shadow=True, \n",
    "        startangle=90)\n",
    "\n",
    "texts[0].set_fontsize(14)\n",
    "texts[1].set_fontsize(14)\n",
    "ax1.axis('equal')\n",
    "plt.title('Количество комментариев в публикациях за февраль', fontsize=22, pad=20)\n",
    "\n",
    "# plt.savefig(PATH + \"March_2021/comments_parted.png\", dpi=300, bbox_inches='tight')\n",
    "plt.show()\n",
    "\n",
    "sns.set_theme()"
   ]
  },
  {
   "cell_type": "code",
   "execution_count": null,
   "metadata": {},
   "outputs": [],
   "source": [
    "sns.set_theme()"
   ]
  },
  {
   "cell_type": "code",
   "execution_count": null,
   "metadata": {},
   "outputs": [],
   "source": [
    "from pandas.plotting import table "
   ]
  },
  {
   "cell_type": "code",
   "execution_count": null,
   "metadata": {},
   "outputs": [],
   "source": [
    "fev_subs.groupby(['isRepost']).agg({'commentsCount': [\"sum\", \"median\", \"mean\", \"max\", \"min\"]})"
   ]
  },
  {
   "cell_type": "code",
   "execution_count": null,
   "metadata": {},
   "outputs": [],
   "source": [
    "# ax = plt.subplot(111, frame_on=False) # no visible frame\n",
    "# ax.xaxis.set_visible(False)  # hide the x axis\n",
    "# ax.yaxis.set_visible(False)  # hide the y axis\n",
    "\n",
    "# table(ax, fev_subs.groupby(['isRepost']).agg({'commentsCount': [\"sum\", \"median\", \"mean\", \"max\", \"min\"]}))  # where df is your data frame\n",
    "# plt.tight_layout()\n",
    "# plt.savefig(PATH + \"March_2021/test_table.png\", dpi=300, bbox_inches='tight')\n",
    "# plt.show()"
   ]
  },
  {
   "cell_type": "code",
   "execution_count": null,
   "metadata": {},
   "outputs": [],
   "source": [
    "# sns.histplot(x = fev_subs.commentsCount, data=fev_subs, hue=\"isRepost\", kde=True)\n",
    "sns.displot(x = fev_subs.commentsCount, data=fev_subs, col=\"isRepost\", kde=True)"
   ]
  },
  {
   "cell_type": "markdown",
   "metadata": {},
   "source": [
    "Надо попробовать посчитать количество уникальных авторов, которые зарепосчены извне."
   ]
  },
  {
   "cell_type": "code",
   "execution_count": null,
   "metadata": {},
   "outputs": [],
   "source": [
    "len(fev_subs[fev_subs.isRepost == False].author_name.unique())"
   ]
  },
  {
   "cell_type": "code",
   "execution_count": null,
   "metadata": {},
   "outputs": [],
   "source": [
    "len(fev_subs[fev_subs.isRepost == True].author_name.unique())"
   ]
  },
  {
   "cell_type": "code",
   "execution_count": null,
   "metadata": {},
   "outputs": [],
   "source": [
    "fev_subs[(fev_subs.isRepost == False) & (fev_subs.title != \"Статья удалена\")].likes.sum()"
   ]
  },
  {
   "cell_type": "code",
   "execution_count": null,
   "metadata": {},
   "outputs": [],
   "source": [
    "fev_subs.groupby(['isRepost']).author_name.unique()"
   ]
  },
  {
   "cell_type": "code",
   "execution_count": null,
   "metadata": {},
   "outputs": [],
   "source": [
    "fev_subs.author_name.unique()"
   ]
  },
  {
   "cell_type": "code",
   "execution_count": null,
   "metadata": {},
   "outputs": [],
   "source": [
    "fev_subs.columns"
   ]
  },
  {
   "cell_type": "code",
   "execution_count": null,
   "metadata": {},
   "outputs": [],
   "source": [
    "fev_subs.hitsCount.sum()"
   ]
  },
  {
   "cell_type": "code",
   "execution_count": null,
   "metadata": {},
   "outputs": [],
   "source": [
    "fev_subs.groupby(['isRepost']).agg({'hitsCount': [\"sum\", \"median\", \"mean\", \"max\", \"min\"]})"
   ]
  },
  {
   "cell_type": "code",
   "execution_count": null,
   "metadata": {},
   "outputs": [],
   "source": [
    "def func(pct, allvals):\n",
    "    absolute = int(pct/100.*np.sum(allvals))\n",
    "    return \"{:.1f}%\\n{:d} просмотров\".format(pct, absolute)\n",
    "\n",
    "sns.set_palette(\"rainbow\")\n",
    "\n",
    "plt.rcParams[\"figure.figsize\"] = [14, 10]\n",
    "mpl.rcParams['font.size'] = 14.0\n",
    "\n",
    "labels = 'Статья подсайта', 'Репост'\n",
    "sizes = fev_subs.groupby([\"isRepost\"]).hitsCount.sum().values\n",
    "explode = (0, 0.1)  \n",
    "\n",
    "fig1, ax1 = plt.subplots()\n",
    "patches, texts, autotexts = ax1.pie(sizes, explode=explode, labels=labels, autopct=lambda pct: func(pct, sizes), #shadow=True, \n",
    "        startangle=90)\n",
    "\n",
    "texts[0].set_fontsize(14)\n",
    "texts[1].set_fontsize(14)\n",
    "\n",
    "ax1.axis('equal')\n",
    "plt.title('Просмотры публикаций за февраль', fontsize=22, pad=20)\n",
    "\n",
    "# plt.savefig(PATH + \"March_2021/part_of_reposts_hits.png\", dpi=300, bbox_inches='tight')\n",
    "plt.show()"
   ]
  },
  {
   "cell_type": "code",
   "execution_count": null,
   "metadata": {},
   "outputs": [],
   "source": [
    "fev_subs.favoritesCount.sum()"
   ]
  },
  {
   "cell_type": "code",
   "execution_count": null,
   "metadata": {},
   "outputs": [],
   "source": [
    "fev_subs.groupby(['isRepost']).agg({'favoritesCount': [\"sum\", \"median\", \"mean\", \"max\", \"min\"]})"
   ]
  },
  {
   "cell_type": "code",
   "execution_count": null,
   "metadata": {},
   "outputs": [],
   "source": [
    "def func(pct, allvals):\n",
    "    absolute = int(pct/100.*np.sum(allvals))\n",
    "    return \"{:.1f}%\\n{:d} добавлений в закладки\".format(pct, absolute)\n",
    "\n",
    "sns.set_palette(\"summer\")\n",
    "\n",
    "plt.rcParams[\"figure.figsize\"] = [14, 10]\n",
    "mpl.rcParams['font.size'] = 12.0\n",
    "\n",
    "labels = 'Статья подсайта', 'Репост'\n",
    "sizes = fev_subs.groupby([\"isRepost\"]).favoritesCount.sum().values\n",
    "explode = (0, 0.1)  \n",
    "\n",
    "fig1, ax1 = plt.subplots()\n",
    "patches, texts, autotexts = ax1.pie(sizes, explode=explode, labels=labels, autopct=lambda pct: func(pct, sizes), #shadow=True, \n",
    "        startangle=90)\n",
    "\n",
    "texts[0].set_fontsize(14)\n",
    "texts[1].set_fontsize(14)\n",
    "\n",
    "ax1.axis('equal')\n",
    "plt.title('Добавления статей в закладки за февраль', fontsize=22, pad=20)\n",
    "\n",
    "# plt.savefig(PATH + \"March_2021/part_of_reposts_fav.png\", dpi=300, bbox_inches='tight')\n",
    "plt.show()"
   ]
  },
  {
   "cell_type": "code",
   "execution_count": null,
   "metadata": {},
   "outputs": [],
   "source": [
    "fev_subs.likes.sum()"
   ]
  },
  {
   "cell_type": "code",
   "execution_count": null,
   "metadata": {},
   "outputs": [],
   "source": [
    "fev_subs[fev_subs.title != 'Статья удалена'].likes.sum()"
   ]
  },
  {
   "cell_type": "code",
   "execution_count": null,
   "metadata": {},
   "outputs": [],
   "source": [
    "fev_subs[fev_subs.title != 'Статья удалена'].groupby(['isRepost']).agg({'likes': [\"sum\", \"median\", \"mean\", \"max\", \"min\"]})"
   ]
  },
  {
   "cell_type": "code",
   "execution_count": null,
   "metadata": {},
   "outputs": [],
   "source": [
    "18492 + 4570"
   ]
  },
  {
   "cell_type": "code",
   "execution_count": null,
   "metadata": {},
   "outputs": [],
   "source": [
    "def func(pct, allvals):\n",
    "    absolute = int(pct/100.*np.sum(allvals))\n",
    "    return \"{:.1f}%\\n{:d} лайков\".format(pct, absolute)\n",
    "\n",
    "sns.set_palette(\"Spectral\")\n",
    "\n",
    "plt.rcParams[\"figure.figsize\"] = [14, 10]\n",
    "mpl.rcParams['font.size'] = 14.0\n",
    "\n",
    "labels = 'Статья подсайта', 'Репост'\n",
    "sizes = fev_subs[fev_subs.title != 'Статья удалена'].groupby([\"isRepost\"]).likes.sum().values\n",
    "explode = (0, 0.1)  \n",
    "\n",
    "fig1, ax1 = plt.subplots()\n",
    "patches, texts, autotexts = ax1.pie(sizes, explode=explode, labels=labels, autopct=lambda pct: func(pct, sizes), #shadow=True, \n",
    "        startangle=90)\n",
    "\n",
    "texts[0].set_fontsize(14)\n",
    "texts[1].set_fontsize(14)\n",
    "\n",
    "ax1.axis('equal')\n",
    "plt.title('Количество лайков за февраль', fontsize=22, pad=20)\n",
    "\n",
    "# plt.savefig(PATH + \"March_2021/part_of_reposts_likes.png\", dpi=300, bbox_inches='tight')\n",
    "plt.show()"
   ]
  },
  {
   "cell_type": "code",
   "execution_count": null,
   "metadata": {},
   "outputs": [],
   "source": [
    "# fev_subs.likes[fev_subs.isRepost == True]\n",
    "# fev_subs.likes[fev_subs.isRepost == False]"
   ]
  },
  {
   "cell_type": "code",
   "execution_count": null,
   "metadata": {},
   "outputs": [],
   "source": [
    "# fev_subs.groupby(['isRepost']).agg({})"
   ]
  },
  {
   "cell_type": "code",
   "execution_count": null,
   "metadata": {},
   "outputs": [],
   "source": [
    "f, axes = plt.subplots(1, 2, sharey=True, sharex=True)\n",
    "f.suptitle(\"Распределение количества лайков у постов\")\n",
    "\n",
    "sns.histplot(x = fev_subs.likes[fev_subs.isRepost == False], \n",
    "             data=fev_subs, kde=True, ax=axes[0], bins=20).set_title(\"Посты подсайта\")\n",
    "\n",
    "sns.histplot(x = fev_subs.likes[fev_subs.isRepost == True], \n",
    "             data=fev_subs, kde=True, ax=axes[1], bins=20).set_title(\"Репосты\")\n",
    "\n",
    "\n",
    "# plt.savefig(PATH + \"March_2021/part_of_reposts_dist_likes.png\", dpi=300, bbox_inches='tight')\n",
    "\n",
    "plt.show()"
   ]
  },
  {
   "cell_type": "code",
   "execution_count": null,
   "metadata": {},
   "outputs": [],
   "source": [
    "fev_subs.symbols.sum()"
   ]
  },
  {
   "cell_type": "code",
   "execution_count": null,
   "metadata": {},
   "outputs": [],
   "source": [
    "fev_subs.images.sum() + fev_subs.videos.sum() + fev_subs.links.sum()"
   ]
  },
  {
   "cell_type": "code",
   "execution_count": null,
   "metadata": {},
   "outputs": [],
   "source": []
  },
  {
   "cell_type": "code",
   "execution_count": null,
   "metadata": {},
   "outputs": [],
   "source": [
    "tmp_2 = fev_subs[fev_subs.isRepost == False].groupby(['author_name','author_avatar_url'], as_index=False).agg({\"likes\": \"sum\"}) \\\n",
    ".sort_values(by=\"likes\", ascending=False).head(20)\n",
    "tmp_2.head(10)"
   ]
  },
  {
   "cell_type": "code",
   "execution_count": null,
   "metadata": {},
   "outputs": [],
   "source": [
    "sum(tmp_2.likes[:5])"
   ]
  },
  {
   "cell_type": "code",
   "execution_count": null,
   "metadata": {},
   "outputs": [],
   "source": [
    "sum(tmp_2.likes[:5]) / (fev_subs[(fev_subs.isRepost == False) & (fev_subs.title != \"Статья удалена\")].likes.sum()) * 100"
   ]
  },
  {
   "cell_type": "code",
   "execution_count": null,
   "metadata": {},
   "outputs": [],
   "source": [
    "plt.rcParams[\"figure.figsize\"] = [14, 20]\n",
    "\n",
    "my_cmap = plt.get_cmap(\"coolwarm\")\n",
    "rescale = lambda y: (y - np.min(y)) / (np.max(y) - np.min(y))\n",
    "\n",
    "labels = tmp_2.author_avatar_url[::-1]\n",
    "# colors = ['lightcoral', 'orchid', 'peachpuff', 'coral', 'tan', 'indigo', 'goldenrod', 'pink', 'darkturquoise', 'teal'][::-1]\n",
    "values = tmp_2.likes[::-1] \n",
    "\n",
    "height = 0.9\n",
    "plt.barh(y=tmp_2.author_name[::-1], width=tmp_2.likes[::-1], height=height, \n",
    "         color=my_cmap(rescale(values)), \n",
    "         align='center')\n",
    "\n",
    "for i, (label, value) in enumerate(zip(labels, values)):\n",
    "    im = Image.open(requests.get(label, stream=True).raw)\n",
    "    plt.imshow(im, extent=[value - 200, value - 20, i - height / 2.5, i + height / 2.5], aspect='auto', zorder=2)\n",
    "    plt.text(value + 1, i, '{:1.0f}'.format(value), ha = 'left', va = 'center')\n",
    "\n",
    "    \n",
    "plt.xlim(0, max(values) * 1.05)\n",
    "plt.ylim(-0.5, len(labels) - 0.5)\n",
    "plt.xlabel('Сумма рейтинга за месяц', fontsize=16)\n",
    "plt.ylabel('Авторы', fontsize=16)\n",
    "plt.title('Топ-20 авторов по сумме рейтинга за февраль', fontsize=22, pad=20)\n",
    "plt.tight_layout()\n",
    "\n",
    "# plt.savefig(PATH + \"March_2021/authors_top20_sum_likes.png\", dpi=300, bbox_inches='tight')\n",
    "\n",
    "plt.show()"
   ]
  },
  {
   "cell_type": "code",
   "execution_count": null,
   "metadata": {},
   "outputs": [],
   "source": [
    "tmp_3 = fev_subs[fev_subs.isRepost == False].groupby(['author_name','author_avatar_url'], as_index=False).count() \\\n",
    ".sort_values(by=\"id\", ascending=False).iloc[:, [0,1,3]].head(10)\n",
    "tmp_3.head(20)"
   ]
  },
  {
   "cell_type": "code",
   "execution_count": null,
   "metadata": {},
   "outputs": [],
   "source": [
    "sum(tmp_3.id[:3])"
   ]
  },
  {
   "cell_type": "code",
   "execution_count": null,
   "metadata": {},
   "outputs": [],
   "source": [
    "sum(tmp_3.id[:3]) / 518 * 100"
   ]
  },
  {
   "cell_type": "code",
   "execution_count": null,
   "metadata": {},
   "outputs": [],
   "source": [
    "plt.rcParams[\"figure.figsize\"] = [14, 10]\n",
    "\n",
    "labels = tmp_3.author_avatar_url[::-1]\n",
    "colors = ['lightcoral', 'orchid', 'tan', 'peachpuff', 'goldenrod', 'darkred', 'darkturquoise', 'indigo', 'coral', 'pink'][::-1]\n",
    "values = tmp_3.id[::-1] \n",
    "\n",
    "height = 0.9\n",
    "plt.barh(y=tmp_3.author_name[::-1], width=tmp_3.id[::-1], height=height, color=colors, align='center')\n",
    "\n",
    "for i, (label, value) in enumerate(zip(labels, values)):\n",
    "    im = Image.open(requests.get(label, stream=True).raw)\n",
    "    plt.imshow(im, extent=[value - 8, value - 2, i - height / 2.5, i + height / 2.5], aspect='auto', zorder=2)\n",
    "    plt.text(value + 1, i, '{:1.0f}'.format(value), ha = 'left', va = 'center')\n",
    "\n",
    "    \n",
    "plt.xlim(0, max(values) * 1.05)\n",
    "plt.ylim(-0.5, len(labels) - 0.5)\n",
    "plt.xlabel('Количество постов за месяц', fontsize=16)\n",
    "plt.ylabel('Авторы', fontsize=16)\n",
    "plt.title('Топ-10 авторов по количеству постов за февраль', fontsize=22, pad=20)\n",
    "plt.tight_layout()\n",
    "\n",
    "# plt.savefig(PATH + \"March_2021/authors_top10_posts.png\", dpi=300, bbox_inches='tight')\n",
    "\n",
    "plt.show()"
   ]
  },
  {
   "cell_type": "code",
   "execution_count": null,
   "metadata": {},
   "outputs": [],
   "source": [
    "tmp_4 = fev_subs[(fev_subs.isRepost == False)].sort_values(by='likes', ascending=False).head(10).loc[:, [\"id\", 'author_name','author_avatar_url', 'title', \"likes\", 'date']]\n",
    "# tmp_4.loc[137, 'title'] = 'Японский бренд совместно с CDPR представил линейку одежды и ...'\n",
    "tmp_4.loc[581, 'title'] = \"Запись пользователя Over9k5000\"\n",
    "tmp_4.loc[99, 'title'] = \"Запись пользователя СынМаэстро\"\n",
    "# tmp_4 = tmp_4[tmp_4.index != 128]\n",
    "tmp_4"
   ]
  },
  {
   "cell_type": "code",
   "execution_count": null,
   "metadata": {},
   "outputs": [],
   "source": [
    "# tmp_4 = fev_subs.sort_values(by='likes', ascending=False).head(10).loc[:, [\"id\", 'author_name','author_avatar_url', 'title', \"likes\", 'date']]\n",
    "# tmp_4.loc[137, 'title'] = 'Японский бренд совместно с CDPR представил линейку одежды и ...'\n",
    "# # tmp_4.loc[383, 'title'] = 'Спорт, офис, чулочки и жаркое лето от infin...'\n",
    "# # tmp_4.loc[581, 'title'] = \"Запись пользователя Over9k5000\"\n",
    "# # tmp_4.loc[99, 'title'] = \"Запись пользователя СынМаэстро\"\n",
    "# # # tmp_4 = tmp_4[tmp_4.index != 128]\n",
    "# tmp_4"
   ]
  },
  {
   "cell_type": "code",
   "execution_count": null,
   "metadata": {
    "scrolled": false
   },
   "outputs": [],
   "source": [
    "from matplotlib import cm\n",
    "\n",
    "labels = tmp_4.title[::-1]#.astype('str')\n",
    "values = tmp_4.likes[::-1]\n",
    "\n",
    "my_cmap = plt.get_cmap(\"Wistia\")\n",
    "rescale = lambda y: (y - np.min(y)) / (np.max(y) - np.min(y))\n",
    "height = 0.9\n",
    "\n",
    "plt.barh(y=tmp_4.id[::-1].astype(\"str\"), \n",
    "         width=values, height=height, \n",
    "         align='center', color=my_cmap(rescale(values)))\n",
    "\n",
    "for i, (label, value) in enumerate(zip(labels, values)):\n",
    "    plt.text(value + 1, i, '{:1.0f}'.format(value), ha = 'left', va = 'center')\n",
    "    plt.text(5, i, '{}'.format(label), ha = 'left', va = 'center')\n",
    "\n",
    "    \n",
    "plt.xlim(0, max(values) * 1.05)\n",
    "plt.ylim(-0.5, len(labels) - 0.5)\n",
    "plt.xlabel('Количество лайков', fontsize=16)\n",
    "plt.ylabel('ID публикации', fontsize=16)\n",
    "plt.title('Топ-10 публикаций по лайкам за февраль', fontsize=22, pad=20)\n",
    "plt.tight_layout()\n",
    "\n",
    "# plt.savefig(PATH + \"March_2021/top10_posts_likes.png\", dpi=300, bbox_inches='tight')\n",
    "\n",
    "plt.show()"
   ]
  },
  {
   "cell_type": "code",
   "execution_count": null,
   "metadata": {},
   "outputs": [],
   "source": [
    "tmp_5 = fev_subs[(fev_subs.isRepost == False)].sort_values(by='hitsCount', ascending=False).head(11).loc[:, [\"id\", 'author_name','author_avatar_url', 'title', \"hitsCount\", 'date']]\n",
    "tmp_5.loc[237, 'title'] = 'Арифурэта: Сильнейший ремесленник в мире. Как ...'\n",
    "tmp_5.loc[159, 'title'] = '( ͡° ͜ʖ ͡°) Интересный музей в ...' \n",
    "tmp_5.loc[353, 'title'] = 'Чулочки, каре и немного игривости от ...' \n",
    "tmp_5.loc[339, 'title'] = 'Он вам не Rintarou Okabe (перез...' \n",
    "tmp_5.loc[383, 'title'] = 'Спорт, офис, чулочки и жарк...' \n",
    "tmp_5.loc[475, 'title'] = \"RASP/28 Подборка работ ...\"\n",
    "tmp_5 = tmp_5[tmp_5.index != 128]\n",
    "tmp_5"
   ]
  },
  {
   "cell_type": "code",
   "execution_count": null,
   "metadata": {},
   "outputs": [],
   "source": [
    "# tmp_5 = fev_subs.sort_values(by='hitsCount', ascending=False).head(10).loc[:, [\"id\", 'author_name','author_avatar_url', 'title', \"hitsCount\", 'date']]\n",
    "# # tmp_5.loc[237, 'title'] = 'Арифурэта: Сильнейший ремесленник в мире. Как ...'\n",
    "# # tmp_5.loc[159, 'title'] = '( ͡° ͜ʖ ͡°) Интересный музей в ...' \n",
    "# # tmp_5.loc[353, 'title'] = 'Чулочки, каре и немного игривости от ...' \n",
    "# # tmp_5.loc[339, 'title'] = 'Он вам не Rintarou Okabe (перез...' \n",
    "# # tmp_5.loc[383, 'title'] = 'Спорт, офис, чулочки и жарк...' \n",
    "# # tmp_5.loc[475, 'title'] = \"RASP/28 Подборка работ ...\"\n",
    "# # tmp_5 = tmp_5[tmp_5.index != 128]\n",
    "# # tmp_5['title'] = tmp_5['title'].str.slice(0,30) + str(\"...\")\n",
    "# tmp_5.loc[587, 'title'] = \"Удивительный мир видеоигр по мотивам Neon Gene...\"\n",
    "# tmp_5.loc[380, 'title'] = \"Neon Genesis Evangelion и эмоции, ...\"\n",
    "# tmp_5.loc[123, 'title'] = 'Отзыв на мангу \"О т...'\n",
    "# # tmp_5.loc[432, 'title'] = 'Гость Блогосф...'\n",
    "# tmp_5"
   ]
  },
  {
   "cell_type": "code",
   "execution_count": null,
   "metadata": {},
   "outputs": [],
   "source": [
    "from matplotlib import cm\n",
    "\n",
    "labels = tmp_5.title[::-1]#.astype('str')\n",
    "values = tmp_5.hitsCount[::-1]\n",
    "\n",
    "my_cmap = plt.get_cmap(\"summer\")\n",
    "rescale = lambda y: (y - np.min(y)) / (np.max(y) - np.min(y))\n",
    "height = 0.9\n",
    "\n",
    "plt.barh(y=tmp_5.id[::-1].astype(\"str\"), \n",
    "         width=values, height=height, \n",
    "         align='center', color=my_cmap(rescale(values)))\n",
    "\n",
    "for i, (label, value) in enumerate(zip(labels, values)):\n",
    "    plt.text(value + 1, i, '{:1.0f}'.format(value), ha = 'left', va = 'center')\n",
    "    plt.text(50, i, '{}'.format(label), ha = 'left', va = 'center')\n",
    "\n",
    "    \n",
    "plt.xlim(0, max(values) * 1.05)\n",
    "plt.ylim(-0.5, len(labels) - 0.5)\n",
    "plt.xlabel('Количество просмотров', fontsize=16)\n",
    "plt.ylabel('ID публикации', fontsize=16)\n",
    "plt.title('Топ-10 публикаций по просмотрам за февраль', fontsize=22, pad=20)\n",
    "plt.tight_layout()\n",
    "\n",
    "# plt.savefig(PATH + \"March_2021/top10_posts_hits_alter.png\", dpi=300, bbox_inches='tight')\n",
    "\n",
    "plt.show()"
   ]
  },
  {
   "cell_type": "code",
   "execution_count": null,
   "metadata": {},
   "outputs": [],
   "source": [
    "tmp_6 = fev_subs[(fev_subs.isRepost == False)].sort_values(by='commentsCount', ascending=False).head(11).loc[:, [\"id\", 'author_name','author_avatar_url', 'title', \"commentsCount\", 'date']]\n",
    "# tmp_6.loc[137, 'title'] = 'Японский бренд совместно с CDPR представил линейку одежды и ...'\n",
    "# tmp_6['title'] = tmp_6['title'].str.slice(0,50)\n",
    "tmp_6.loc[237, 'title'] = 'Арифурэта: Сильнейший ремесленник в мире. Как ...'\n",
    "tmp_6 = tmp_6[tmp_6.index != 128]\n",
    "tmp_6"
   ]
  },
  {
   "cell_type": "code",
   "execution_count": null,
   "metadata": {},
   "outputs": [],
   "source": [
    "tmp_6 = fev_subs.sort_values(by='commentsCount', ascending=False).head(10).loc[:, [\"id\", 'author_name','author_avatar_url', 'title', \"commentsCount\", 'date']]\n",
    "tmp_6.loc[137, 'title'] = 'Японский бренд совместно с CDPR представил ...'\n",
    "# tmp_6['title'] = tmp_6['title'].str.slice(0,50)\n",
    "# tmp_6.loc[237, 'title'] = 'Арифурэта: Сильнейший ремесленник в мире. Как ...'\n",
    "# tmp_6 = tmp_6[tmp_6.index != 128]\n",
    "tmp_6.loc[587, 'title'] = \"Удивительный мир ...\"\n",
    "tmp_6.loc[380, 'title'] = \"Neon Genesis Evangelion и ...\"\n",
    "tmp_6.loc[197, 'title'] = 'Беспокойные Сердца - ...'\n",
    "tmp_6.loc[375, 'title'] = 'Re:DTF Жизнь с нуля в...'\n",
    "tmp_6"
   ]
  },
  {
   "cell_type": "code",
   "execution_count": null,
   "metadata": {
    "scrolled": false
   },
   "outputs": [],
   "source": [
    "labels = tmp_6.title[::-1]#.astype('str')\n",
    "values = tmp_6.commentsCount[::-1]\n",
    "\n",
    "my_cmap = plt.get_cmap(\"coolwarm\")\n",
    "rescale = lambda y: (y - np.min(y)) / (np.max(y) - np.min(y))\n",
    "height = 0.9\n",
    "\n",
    "plt.barh(y=tmp_6.id[::-1].astype(\"str\"), \n",
    "         width=values, height=height, \n",
    "         align='center', color=my_cmap(rescale(values)))\n",
    "\n",
    "for i, (label, value) in enumerate(zip(labels, values)):\n",
    "    plt.text(value + 1, i, '{:1.0f}'.format(value), ha = 'left', va = 'center')\n",
    "    plt.text(2, i, '{}'.format(label), ha = 'left', va = 'center')\n",
    "\n",
    "    \n",
    "plt.xlim(0, max(values) * 1.05)\n",
    "plt.ylim(-0.5, len(labels) - 0.5)\n",
    "plt.xlabel('Количество комментариев', fontsize=16)\n",
    "plt.ylabel('ID публикации', fontsize=16)\n",
    "plt.title('Топ-10 публикаций по количеству комментариев за февраль', fontsize=22, pad=20)\n",
    "plt.tight_layout()\n",
    "\n",
    "# plt.savefig(PATH + \"March_2021/alter_top10_posts_comments_alter.png\", dpi=300, bbox_inches='tight')\n",
    "\n",
    "plt.show()"
   ]
  },
  {
   "cell_type": "code",
   "execution_count": null,
   "metadata": {},
   "outputs": [],
   "source": [
    "tmp_7 = fev_subs[(fev_subs.isRepost == False)].sort_values(by='favoritesCount', ascending=False).head(11).loc[:, [\"id\", 'author_name','author_avatar_url', 'title', \"favoritesCount\", 'date']]\n",
    "# tmp_7['title'] = tmp_7['title'].str.slice(0,25) + str(\"...\")\n",
    "tmp_7 = tmp_7[tmp_7.index != 128]\n",
    "tmp_7.loc[339, 'title'] = 'Он вам не Rintarou Okabe (перезалив, автор Mah...' \n",
    "tmp_7"
   ]
  },
  {
   "cell_type": "code",
   "execution_count": null,
   "metadata": {},
   "outputs": [],
   "source": [
    "tmp_7 = fev_subs.sort_values(by='favoritesCount', ascending=False).head(10).loc[:, [\"id\", 'author_name','author_avatar_url', 'title', \"favoritesCount\", 'date']]\n",
    "# tmp_7['title'] = tmp_7['title'].str.slice(0,25) + str(\"...\")\n",
    "# tmp_7 = tmp_7[tmp_7.index != 128]\n",
    "# tmp_7.loc[339, 'title'] = 'Он вам не Rintarou Okabe (перезалив, автор Mah...' \n",
    "# tmp_7.loc[587, 'title'] = \"Удивительный мир ...\"\n",
    "# tmp_7.loc[380, 'title'] = \"Neon Genesis Evangelion и ...\"\n",
    "tmp_7.loc[197, 'title'] = 'Беспокойные Сердца - Замечатель...'\n",
    "tmp_7.loc[353, 'title'] = 'Чулочки, каре и немного игривости ...' \n",
    "tmp_7.loc[136, 'title'] = 'Столько интересных аниме п...'\n",
    "tmp_7.loc[137, 'title'] = 'Японский бренд совм...'\n",
    "tmp_7.loc[123, 'title'] = 'Отзыв на мангу \"О т...'\n",
    "tmp_7"
   ]
  },
  {
   "cell_type": "code",
   "execution_count": null,
   "metadata": {},
   "outputs": [],
   "source": [
    "plt.rcParams[\"figure.figsize\"] = [16, 10]\n",
    "\n",
    "labels = tmp_7.title[::-1]#.astype('str')\n",
    "values = tmp_7.favoritesCount[::-1]\n",
    "\n",
    "my_cmap = plt.get_cmap(\"Spectral\")\n",
    "rescale = lambda y: (y - np.min(y)) / (np.max(y) - np.min(y))\n",
    "height = 0.9\n",
    "\n",
    "plt.barh(y=tmp_7.id[::-1].astype(\"str\"), \n",
    "         width=values, height=height, \n",
    "         align='center', color=my_cmap(rescale(values)))\n",
    "\n",
    "for i, (label, value) in enumerate(zip(labels, values)):\n",
    "    plt.text(value + 1, i, '{:1.0f}'.format(value), ha = 'left', va = 'center')\n",
    "    plt.text(2, i, '{}'.format(label), ha = 'left', va = 'center')\n",
    "\n",
    "    \n",
    "plt.xlim(0, max(values) * 1.05)\n",
    "plt.ylim(-0.5, len(labels) - 0.5)\n",
    "plt.xlabel('Количество добавлений в закладки', fontsize=16)\n",
    "plt.ylabel('ID публикации', fontsize=16)\n",
    "plt.title('Топ-10 публикаций по количеству добавлений в закладки за февраль', fontsize=22, pad=20)\n",
    "plt.tight_layout()\n",
    "\n",
    "# plt.savefig(PATH + \"March_2021/alter_top10_posts_favorites_alter.png\", dpi=300, bbox_inches='tight')\n",
    "\n",
    "plt.show()"
   ]
  },
  {
   "cell_type": "code",
   "execution_count": null,
   "metadata": {},
   "outputs": [],
   "source": []
  },
  {
   "cell_type": "code",
   "execution_count": null,
   "metadata": {},
   "outputs": [],
   "source": []
  },
  {
   "cell_type": "code",
   "execution_count": null,
   "metadata": {},
   "outputs": [],
   "source": []
  },
  {
   "cell_type": "code",
   "execution_count": null,
   "metadata": {},
   "outputs": [],
   "source": [
    "# fev_subs[(fev_subs[\"images\"] + fev_subs[\"videos\"] + fev_subs[\"links\"]) < 100]"
   ]
  },
  {
   "cell_type": "code",
   "execution_count": null,
   "metadata": {},
   "outputs": [],
   "source": [
    "tmp = fev_subs[#(fev_subs.symbols < 10000) \n",
    "               #& ((fev_subs[\"images\"] + fev_subs[\"videos\"] + fev_subs[\"links\"]) < 100) & \n",
    "               (fev_subs.isRepost == False)]"
   ]
  },
  {
   "cell_type": "code",
   "execution_count": null,
   "metadata": {},
   "outputs": [],
   "source": [
    "plt.rcParams[\"figure.figsize\"] = [14, 10]\n",
    "\n",
    "ax = sns.scatterplot(x=tmp.symbols, hue=tmp.likes, \n",
    "                y=sum([tmp.images, tmp.videos, tmp.links]), data=tmp, \n",
    "                palette = \"rocket_r\")\n",
    "                #cmap=\"icefire\")\n",
    "ax.set_title('Диаграмма зависимости количества лайков от количества символов и медиаконтента в статье', fontsize=18, pad=20)\n",
    "ax.get_legend().set_title('Лайки')\n",
    "plt.setp(ax.get_legend().get_texts(), fontsize='14') # for legend text\n",
    "plt.setp(ax.get_legend().get_title(), fontsize='16') # for legend title\n",
    "\n",
    "ax.set_xlabel('Количество символов в статье', fontsize='16')\n",
    "ax.set_ylabel('Количество медиаконтента в статье', fontsize='16');\n",
    "\n",
    "# plt.savefig(PATH + \"March_2021/scatterplot.png\", dpi=300, bbox_inches='tight')"
   ]
  },
  {
   "cell_type": "code",
   "execution_count": null,
   "metadata": {},
   "outputs": [],
   "source": []
  },
  {
   "cell_type": "code",
   "execution_count": null,
   "metadata": {},
   "outputs": [],
   "source": [
    "tmp_8 = fev_subs[(fev_subs.isRepost == False) & (fev_subs.symbols > 2000)].sort_values(by='likes', ascending=False).head(10) \\\n",
    ".loc[:, [\"id\", 'author_name','author_avatar_url', 'title', \"likes\", 'date', 'symbols']]\n",
    "# tmp_4.loc[137, 'title'] = 'Японский бренд совместно с CDPR представил линейку одежды и ...'\n",
    "# tmp_8.loc[581, 'title'] = \"Запись пользователя Over9k5000\"\n",
    "tmp_8.loc[237, 'title'] = \"Арифурэта: Сильнейший ремесл...\"\n",
    "tmp_8"
   ]
  },
  {
   "cell_type": "code",
   "execution_count": null,
   "metadata": {},
   "outputs": [],
   "source": [
    "labels = tmp_8.title[::-1]#.astype('str')\n",
    "values = tmp_8.likes[::-1]\n",
    "\n",
    "my_cmap = plt.get_cmap(\"Wistia\")\n",
    "rescale = lambda y: (y - np.min(y)) / (np.max(y) - np.min(y))\n",
    "height = 0.9\n",
    "\n",
    "plt.barh(y=tmp_8.id[::-1].astype(\"str\"), \n",
    "         width=values, height=height, \n",
    "         align='center', color=my_cmap(rescale(values)))\n",
    "\n",
    "for i, (label, value) in enumerate(zip(labels, values)):\n",
    "    plt.text(value + 1, i, '{:1.0f}'.format(value), ha = 'left', va = 'center')\n",
    "    plt.text(2, i, '{}'.format(label), ha = 'left', va = 'center')\n",
    "\n",
    "    \n",
    "plt.xlim(0, max(values) * 1.05)\n",
    "plt.ylim(-0.5, len(labels) - 0.5)\n",
    "plt.xlabel('Количество лайков', fontsize=16)\n",
    "plt.ylabel('ID публикации', fontsize=16)\n",
    "plt.title('Топ-7 лонгридов (по лайкам) за февраль', fontsize=22, pad=20)\n",
    "plt.tight_layout()\n",
    "\n",
    "# plt.savefig(PATH + \"March_2021/top7_longreads.png\", dpi=300, bbox_inches='tight')\n",
    "\n",
    "plt.show()"
   ]
  },
  {
   "cell_type": "code",
   "execution_count": null,
   "metadata": {},
   "outputs": [],
   "source": [
    "tmp_9 = fev_subs[(fev_subs.isRepost == False) & (fev_subs.images > 5)].sort_values(by='likes', ascending=False).head(10) \\\n",
    ".loc[:, [\"id\", 'author_name','author_avatar_url', 'title', \"likes\", 'date']]\n",
    "# tmp_4.loc[137, 'title'] = 'Японский бренд совместно с CDPR представил линейку одежды и ...'\n",
    "# tmp_8.loc[581, 'title'] = \"Запись пользователя Over9k5000\"\n",
    "# tmp_8.loc[99, 'title'] = \"Запись пользователя СынМаэстро\"\n",
    "tmp_9"
   ]
  },
  {
   "cell_type": "code",
   "execution_count": null,
   "metadata": {},
   "outputs": [],
   "source": [
    "labels = tmp_9.title[::-1]#.astype('str')\n",
    "values = tmp_9.likes[::-1]\n",
    "\n",
    "my_cmap = plt.get_cmap(\"Wistia\")\n",
    "rescale = lambda y: (y - np.min(y)) / (np.max(y) - np.min(y))\n",
    "height = 0.9\n",
    "\n",
    "plt.barh(y=tmp_9.id[::-1].astype(\"str\"), \n",
    "         width=values, height=height, \n",
    "         align='center', color=my_cmap(rescale(values)))\n",
    "\n",
    "for i, (label, value) in enumerate(zip(labels, values)):\n",
    "    plt.text(value + 1, i, '{:1.0f}'.format(value), ha = 'left', va = 'center')\n",
    "    plt.text(5, i, '{}'.format(label), ha = 'left', va = 'center')\n",
    "\n",
    "    \n",
    "plt.xlim(0, max(values) * 1.05)\n",
    "plt.ylim(-0.5, len(labels) - 0.5)\n",
    "plt.xlabel('Количество лайков', fontsize=16)\n",
    "plt.ylabel('ID публикации', fontsize=16)\n",
    "plt.title('Топ-10 подборок (по лайкам) за февраль', fontsize=22, pad=20)\n",
    "plt.tight_layout()\n",
    "\n",
    "# plt.savefig(PATH + \"March_2021/top10_sets.png\", dpi=300, bbox_inches='tight')\n",
    "\n",
    "plt.show()"
   ]
  },
  {
   "cell_type": "code",
   "execution_count": null,
   "metadata": {},
   "outputs": [],
   "source": [
    "tmp_10 = fev_subs[(fev_subs.isRepost == False) & (fev_subs.images+fev_subs.videos+fev_subs.links == 1)].sort_values(by='likes', ascending=False).head(10) \\\n",
    ".loc[:, [\"id\", 'author_name','author_avatar_url', 'title', \"likes\", 'date']]\n",
    "# tmp_4.loc[137, 'title'] = 'Японский бренд совместно с CDPR представил линейку одежды и ...'\n",
    "tmp_10.loc[581, 'title'] = \"Запись пользователя Over9k5000\"\n",
    "tmp_10.loc[99, 'title'] = \"Запись пользователя СынМаэстро\"\n",
    "tmp_10.loc[429, 'title'] = \"Запись пользователя Лолег\"\n",
    "tmp_10.loc[430, 'title'] = \"Запись пользователя Лолег\"\n",
    "tmp_10.loc[381, 'title'] = \"Запись пользователя Diego Paw\"\n",
    "tmp_10"
   ]
  },
  {
   "cell_type": "code",
   "execution_count": null,
   "metadata": {},
   "outputs": [],
   "source": [
    "labels = tmp_10.title[::-1]#.astype('str')\n",
    "values = tmp_10.likes[::-1]\n",
    "\n",
    "my_cmap = plt.get_cmap(\"Wistia\")\n",
    "rescale = lambda y: (y - np.min(y)) / (np.max(y) - np.min(y))\n",
    "height = 0.9\n",
    "\n",
    "plt.barh(y=tmp_10.id[::-1].astype(\"str\"), \n",
    "         width=values, height=height, \n",
    "         align='center', color=my_cmap(rescale(values)))\n",
    "\n",
    "for i, (label, value) in enumerate(zip(labels, values)):\n",
    "    plt.text(value + 1, i, '{:1.0f}'.format(value), ha = 'left', va = 'center')\n",
    "    plt.text(5, i, '{}'.format(label), ha = 'left', va = 'center')\n",
    "\n",
    "    \n",
    "plt.xlim(0, max(values) * 1.05)\n",
    "plt.ylim(-0.5, len(labels) - 0.5)\n",
    "plt.xlabel('Количество лайков', fontsize=16)\n",
    "plt.ylabel('ID публикации', fontsize=16)\n",
    "plt.title('Топ-10 мемов (по лайкам) за февраль', fontsize=22, pad=20)\n",
    "plt.tight_layout()\n",
    "\n",
    "# plt.savefig(PATH + \"March_2021/top10_memes.png\", dpi=300, bbox_inches='tight')\n",
    "\n",
    "plt.show()"
   ]
  },
  {
   "cell_type": "code",
   "execution_count": null,
   "metadata": {},
   "outputs": [],
   "source": []
  },
  {
   "cell_type": "code",
   "execution_count": null,
   "metadata": {},
   "outputs": [],
   "source": []
  },
  {
   "cell_type": "code",
   "execution_count": null,
   "metadata": {},
   "outputs": [],
   "source": []
  },
  {
   "cell_type": "code",
   "execution_count": null,
   "metadata": {},
   "outputs": [],
   "source": [
    "plt.rcParams[\"figure.figsize\"] = [14, 10]\n",
    "\n",
    "ax = sns.scatterplot(x=df.symbols, hue=df.likes, \n",
    "                y=sum([df.images, df.videos, df.links]), data=df[df.isRepost == False], \n",
    "                palette = \"crest\")\n",
    "                #cmap=\"icefire\")\n",
    "ax.set_title('Диаграмма зависимости количества лайков от количества символов и медиаконтента в статье', fontsize=18, pad=20)\n",
    "ax.get_legend().set_title('Лайки')\n",
    "plt.setp(ax.get_legend().get_texts(), fontsize='14') # for legend text\n",
    "plt.setp(ax.get_legend().get_title(), fontsize='16') # for legend title\n",
    "\n",
    "ax.set_xlabel('Количество символов в статье', fontsize='16')\n",
    "ax.set_ylabel('Количество медиаконтента в статье', fontsize='16');\n"
   ]
  },
  {
   "cell_type": "code",
   "execution_count": null,
   "metadata": {},
   "outputs": [],
   "source": [
    "df[(df.symbols > 20000)]# & (df.isRepost == False)].author_name"
   ]
  },
  {
   "cell_type": "code",
   "execution_count": null,
   "metadata": {},
   "outputs": [],
   "source": []
  },
  {
   "cell_type": "code",
   "execution_count": null,
   "metadata": {},
   "outputs": [],
   "source": []
  },
  {
   "cell_type": "code",
   "execution_count": null,
   "metadata": {},
   "outputs": [],
   "source": []
  },
  {
   "cell_type": "code",
   "execution_count": null,
   "metadata": {},
   "outputs": [],
   "source": []
  },
  {
   "cell_type": "code",
   "execution_count": null,
   "metadata": {},
   "outputs": [],
   "source": [
    "# fev_subs[fev_subs.likes > 150]"
   ]
  },
  {
   "cell_type": "code",
   "execution_count": null,
   "metadata": {},
   "outputs": [],
   "source": [
    "tmp = fev_subs[fev_subs.title == \"Статья удалена\"]\n",
    "tmp"
   ]
  },
  {
   "cell_type": "code",
   "execution_count": null,
   "metadata": {},
   "outputs": [],
   "source": [
    "tmp.id.unique()"
   ]
  },
  {
   "cell_type": "code",
   "execution_count": null,
   "metadata": {},
   "outputs": [],
   "source": [
    "sns.scatterplot(x=tmp.likes, #hue=tmp.subsite, \n",
    "                y=tmp.hitsCount, data=tmp)"
   ]
  },
  {
   "cell_type": "code",
   "execution_count": null,
   "metadata": {},
   "outputs": [],
   "source": [
    "fev_subs"
   ]
  },
  {
   "cell_type": "code",
   "execution_count": null,
   "metadata": {},
   "outputs": [],
   "source": [
    "fev_subs.set_index('date', inplace=True)\n",
    "fev_subs.index = pd.to_datetime(fev_subs.index)"
   ]
  },
  {
   "cell_type": "code",
   "execution_count": null,
   "metadata": {},
   "outputs": [],
   "source": [
    "# # #fev_subs.reset_index(inplace=True)\n",
    "fev_subs.head()"
   ]
  },
  {
   "cell_type": "code",
   "execution_count": null,
   "metadata": {
    "scrolled": false
   },
   "outputs": [],
   "source": [
    "fev_subs[\"2021-02-08\"]"
   ]
  },
  {
   "cell_type": "code",
   "execution_count": null,
   "metadata": {
    "scrolled": false
   },
   "outputs": [],
   "source": [
    "feb_ts = fev_subs.resample('D').apply({'id':'count'})\n",
    "feb_ts[\"weekday\"] = feb_ts.index.weekday\n",
    "feb_ts"
   ]
  },
  {
   "cell_type": "code",
   "execution_count": null,
   "metadata": {},
   "outputs": [],
   "source": [
    "fe = sns.barplot(data=feb_ts, x=feb_ts.index, y=feb_ts.id)\n",
    "ax = fe\n",
    "\n",
    "for item in fe.get_xticklabels():\n",
    "    item.set_rotation(90)\n",
    "\n",
    "for p in ax.patches:\n",
    "             ax.annotate(\"%.1d\" % p.get_height(), (p.get_x() + p.get_width() / 2., p.get_height()),\n",
    "                 ha='center', va='center', fontsize=12, color='gray', xytext=(0, 10),\n",
    "                 textcoords='offset points')    \n",
    "        \n",
    "ax.set_title('Количество постов, публикуемых ежедневно в течение месяца', fontsize=18, pad=20)\n",
    "ax.set_xlabel('Число месяца', fontsize='16')\n",
    "ax.set_ylabel('Количество статей', fontsize='16');\n",
    "\n",
    "# plt.savefig(PATH + \"March_2021/posts_by_day.png\", dpi=300, bbox_inches='tight')"
   ]
  },
  {
   "cell_type": "code",
   "execution_count": null,
   "metadata": {},
   "outputs": [],
   "source": [
    "feb_ts.groupby(\"weekday\").sum()"
   ]
  },
  {
   "cell_type": "code",
   "execution_count": null,
   "metadata": {},
   "outputs": [],
   "source": []
  },
  {
   "cell_type": "code",
   "execution_count": null,
   "metadata": {},
   "outputs": [],
   "source": [
    "days = {'Monday': 'Понедельник', 'Tuesday': 'Вторник', 'Wednesday': 'Среда', 'Thursday': 'Четверг', \n",
    " 'Friday': 'Пятница', 'Saturday': 'Суббота',  'Sunday': 'Воскресенье'}  \n",
    "\n",
    "from pandas.api.types import CategoricalDtype\n",
    "\n",
    "cats = ['Monday', 'Tuesday', 'Wednesday', 'Thursday', 'Friday', 'Saturday', 'Sunday']\n",
    "cat_type = CategoricalDtype(categories=cats, ordered=True)\n",
    "fev_subs['weekday'] = fev_subs['weekday'].astype(cat_type)\n",
    "# fev_subs['weekday'].replace(to_replace=days, inplace=True)"
   ]
  },
  {
   "cell_type": "code",
   "execution_count": null,
   "metadata": {},
   "outputs": [],
   "source": [
    "sns.set_palette('hls')\n",
    "\n",
    "ax = sns.barplot(data=fev_subs, x=fev_subs.groupby(\"weekday\")[\"id\"].count().sort_index().index, \n",
    "            y=fev_subs.groupby(\"weekday\")[\"id\"].count().sort_index().values)\n",
    "\n",
    "for p in ax.patches:\n",
    "             ax.annotate(\"%.1d\" % p.get_height(), (p.get_x() + p.get_width() / 2., p.get_height()),\n",
    "                 ha='center', va='center', fontsize=12, color='gray', xytext=(0, 10),\n",
    "                 textcoords='offset points')  \n",
    "\n",
    "ax.set_title('Количество постов, сгруппированное по дням недели', fontsize=18, pad=20)\n",
    "ax.set_xlabel('День недели', fontsize='16')\n",
    "ax.set_ylabel('Количество статей', fontsize='16');\n",
    "\n",
    "# plt.savefig(PATH + \"March_2021/posts_by_day_sum.png\", dpi=300, bbox_inches='tight')"
   ]
  },
  {
   "cell_type": "code",
   "execution_count": null,
   "metadata": {},
   "outputs": [],
   "source": []
  },
  {
   "cell_type": "code",
   "execution_count": null,
   "metadata": {},
   "outputs": [],
   "source": [
    "# fev_subs.groupby(\"weekday\")[\"id\"].count().sort_index().values"
   ]
  },
  {
   "cell_type": "code",
   "execution_count": null,
   "metadata": {},
   "outputs": [],
   "source": []
  }
 ],
 "metadata": {
  "kernelspec": {
   "display_name": "Python 3",
   "language": "python",
   "name": "python3"
  },
  "language_info": {
   "codemirror_mode": {
    "name": "ipython",
    "version": 3
   },
   "file_extension": ".py",
   "mimetype": "text/x-python",
   "name": "python",
   "nbconvert_exporter": "python",
   "pygments_lexer": "ipython3",
   "version": "3.8.5"
  }
 },
 "nbformat": 4,
 "nbformat_minor": 4
}
