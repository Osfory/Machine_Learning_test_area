{
 "cells": [
  {
   "cell_type": "markdown",
   "metadata": {},
   "source": [
    "# Задача классификации. Метод ближайших соседей (kNN)"
   ]
  },
  {
   "cell_type": "markdown",
   "metadata": {},
   "source": []
  },
  {
   "cell_type": "code",
   "execution_count": null,
   "metadata": {},
   "outputs": [],
   "source": [
    "import numpy as np\n",
    "import pandas as pd\n",
    "import seaborn as sns\n",
    "import matplotlib\n",
    "import matplotlib.pyplot as plt\n",
    "\n",
    "%matplotlib inline\n",
    "#plt.rcParams[\"figure.figsize\"] = [14, 14]\n",
    "\n",
    "%config Completer.use_jedi = False\n",
    "# https://stackoverflow.com/questions/44186370/kernel-taking-too-long-to-autocomplete-tab-in-jupyter-notebook\n",
    "# https://stackoverflow.com/questions/40536560/ipython-and-jupyter-autocomplete-not-working\n",
    "\n",
    "# import warnings\n",
    "# warnings.filterwarnings(\"ignore\")\n",
    "\n",
    "print(\"Imports Done!\")"
   ]
  },
  {
   "cell_type": "markdown",
   "metadata": {},
   "source": [
    "Импортируем данные. Разбору подвергнется следующий датасет: https://www.kaggle.com/uciml/breast-cancer-wisconsin-data\n",
    "\n",
    "Признаками в этом наборе данных являются различные измерения образований в груди, такие как радиус, симметричность, и т.д. Целевая переменная - диагноз, является ли новообразование злокачественным или нет."
   ]
  },
  {
   "cell_type": "code",
   "execution_count": null,
   "metadata": {},
   "outputs": [],
   "source": [
    "PATH = \"~/PycharmProjects/Datasets/\"\n",
    "breast_path = PATH + \"data.csv\"\n",
    "breast_dataset_origin = pd.read_csv(breast_path)"
   ]
  },
  {
   "cell_type": "code",
   "execution_count": null,
   "metadata": {},
   "outputs": [],
   "source": [
    "breast_dataset_origin.head()"
   ]
  },
  {
   "cell_type": "markdown",
   "metadata": {},
   "source": [
    "id - ID number\n",
    "\n",
    "diagnosis - The diagnosis of breast tissues (M = malignant, B = benign)\n",
    "\n",
    "radius_mean - mean of distances from center to points on the perimeter\n",
    "\n",
    "texture_mean - standard deviation of gray-scale values\n",
    "\n",
    "perimeter_mean - mean size of the core tumor\n",
    "\n",
    "area_mean - mean size of the area\n",
    "\n",
    "smoothness_mean - mean of local variation in radius lengths\n",
    "\n",
    "compactness_mean - mean of perimeter^2 / area - 1.0\n",
    "\n",
    "concavity_mean - mean of severity of concave portions of the contour\n",
    "\n",
    "concave points_mean - mean for number of concave portions of the contour\n",
    "\n"
   ]
  },
  {
   "cell_type": "code",
   "execution_count": null,
   "metadata": {},
   "outputs": [],
   "source": [
    "breast_dataset_origin.info()"
   ]
  },
  {
   "cell_type": "code",
   "execution_count": null,
   "metadata": {},
   "outputs": [],
   "source": [
    "# breast_dataset_origin.isnull().sum()"
   ]
  },
  {
   "cell_type": "code",
   "execution_count": null,
   "metadata": {},
   "outputs": [],
   "source": [
    "breast_dataset_origin = breast_dataset_origin.drop(\"Unnamed: 32\", axis=1)"
   ]
  },
  {
   "cell_type": "code",
   "execution_count": null,
   "metadata": {},
   "outputs": [],
   "source": [
    "breast_dataset_origin.describe().T"
   ]
  },
  {
   "cell_type": "code",
   "execution_count": null,
   "metadata": {},
   "outputs": [],
   "source": [
    "# sns.histplot(breast_dataset_origin) - Убьёт ноутбук"
   ]
  },
  {
   "cell_type": "code",
   "execution_count": null,
   "metadata": {},
   "outputs": [],
   "source": [
    "df = breast_dataset_origin.copy()"
   ]
  },
  {
   "cell_type": "markdown",
   "metadata": {},
   "source": [
    "## EDA"
   ]
  },
  {
   "cell_type": "code",
   "execution_count": null,
   "metadata": {},
   "outputs": [],
   "source": [
    "df.head()"
   ]
  },
  {
   "cell_type": "code",
   "execution_count": null,
   "metadata": {},
   "outputs": [],
   "source": [
    "sns.countplot(data = df, x=\"diagnosis\") "
   ]
  },
  {
   "cell_type": "code",
   "execution_count": null,
   "metadata": {},
   "outputs": [],
   "source": [
    "breast_dataset_origin.diagnosis.value_counts(normalize=True)"
   ]
  },
  {
   "cell_type": "code",
   "execution_count": null,
   "metadata": {},
   "outputs": [],
   "source": [
    "df.id.value_counts()"
   ]
  },
  {
   "cell_type": "markdown",
   "metadata": {},
   "source": [
    "ID не пригодится, ибо не даёт совершенно никакой информации."
   ]
  },
  {
   "cell_type": "code",
   "execution_count": null,
   "metadata": {},
   "outputs": [],
   "source": [
    "df = df.drop(columns=\"id\", axis=1)"
   ]
  },
  {
   "cell_type": "code",
   "execution_count": null,
   "metadata": {},
   "outputs": [],
   "source": [
    "sns.pairplot(hue='diagnosis', data = df[df.columns[:6]], corner=True)"
   ]
  },
  {
   "cell_type": "code",
   "execution_count": null,
   "metadata": {},
   "outputs": [],
   "source": [
    "sns.pairplot(hue='diagnosis', data = df, x_vars= df[df.columns[5:10]], y_vars= df[df.columns[5:10]], corner=True)"
   ]
  },
  {
   "cell_type": "code",
   "execution_count": null,
   "metadata": {},
   "outputs": [],
   "source": [
    "# f, axes = plt.subplots(2, 3, figsize=(20, 20), sharex=True)\n",
    "# for ax, feature in zip(axes.flat, df.columns[1:7]):\n",
    "#     sns.histplot(df[feature], ax=ax, kde=True)"
   ]
  },
  {
   "cell_type": "code",
   "execution_count": null,
   "metadata": {},
   "outputs": [],
   "source": [
    "sns.histplot(data=df, hue=\"diagnosis\", x=df.iloc[:, 1])"
   ]
  },
  {
   "cell_type": "code",
   "execution_count": null,
   "metadata": {},
   "outputs": [],
   "source": [
    "fig, ax = plt.subplots(2, 2)\n",
    "for ax, feature in enumerate(df.columns[1:4]):\n",
    "    sns.distplot(df.loc[:, feature], hist=True, kde=True, label='All values')"
   ]
  },
  {
   "cell_type": "code",
   "execution_count": null,
   "metadata": {},
   "outputs": [],
   "source": [
    "f, axes = plt.subplots(1, 2, figsize=(14, 6), sharex=True)\n",
    "for ax, feature in zip(axes.flat, df.columns[1:3]):\n",
    "    sns.histplot(data = df, x = df[feature], hue = df.columns[0], ax=ax, kde=True)"
   ]
  },
  {
   "cell_type": "code",
   "execution_count": null,
   "metadata": {},
   "outputs": [],
   "source": []
  },
  {
   "cell_type": "code",
   "execution_count": null,
   "metadata": {},
   "outputs": [],
   "source": []
  },
  {
   "cell_type": "code",
   "execution_count": null,
   "metadata": {},
   "outputs": [],
   "source": []
  },
  {
   "cell_type": "code",
   "execution_count": null,
   "metadata": {},
   "outputs": [],
   "source": []
  },
  {
   "cell_type": "code",
   "execution_count": null,
   "metadata": {},
   "outputs": [],
   "source": []
  },
  {
   "cell_type": "code",
   "execution_count": null,
   "metadata": {},
   "outputs": [],
   "source": []
  },
  {
   "cell_type": "code",
   "execution_count": null,
   "metadata": {},
   "outputs": [],
   "source": []
  },
  {
   "cell_type": "code",
   "execution_count": null,
   "metadata": {},
   "outputs": [],
   "source": []
  },
  {
   "cell_type": "code",
   "execution_count": null,
   "metadata": {},
   "outputs": [],
   "source": [
    "X, y = datasets.make_blobs(n_samples=100, random_state=4, centers=2, cluster_std=2)\n",
    "X[:5], y[:5]"
   ]
  },
  {
   "cell_type": "code",
   "execution_count": null,
   "metadata": {},
   "outputs": [],
   "source": [
    "X.shape, y.shape"
   ]
  },
  {
   "cell_type": "code",
   "execution_count": null,
   "metadata": {},
   "outputs": [],
   "source": [
    "def get_class_colour(class_label):\n",
    "    return 'orange' if class_label else 'blue'"
   ]
  },
  {
   "cell_type": "code",
   "execution_count": null,
   "metadata": {},
   "outputs": [],
   "source": [
    "def plot_points(X, y, new_points=None, new_prediction=None, nearest_points=None, file_name=None):\n",
    "    plt.figure(figsize=(14, 14))\n",
    "    plt.scatter(X[:, 0], X[:, 1], c=[get_class_colour(y_i) for y_i in y], s=100, edgecolor='black', alpha=0.3)\n",
    "    \n",
    "    if new_points is not None:\n",
    "        plt.scatter(new_points[:, 0], new_points[:, 1], c='black', s=100, edgecolor='black')\n",
    "    \n",
    "    if new_prediction is not None:\n",
    "        plt.scatter(new_points[:, 0], new_points[:, 1], c=[get_class_colour(y_i) for y_i in new_prediction], \n",
    "                    s=100, edgecolor='black')\n",
    "        \n",
    "    if nearest_points is not None:\n",
    "        plt.scatter(nearest_points[:, 0], nearest_points[:, 1], c='red', s=100, edgecolor='black')\n",
    "    \n",
    "    plt.title(\"Classification problem \\n What is the color for the new (x1, x2) pair?\")\n",
    "    plt.xlabel(\"x1 (feature)\")\n",
    "    plt.ylabel(\"x2 (feature)\")\n",
    "    \n",
    "    if file_name:\n",
    "        plt.savefig(filename)"
   ]
  },
  {
   "cell_type": "code",
   "execution_count": null,
   "metadata": {},
   "outputs": [],
   "source": [
    "plot_points(X, y)"
   ]
  },
  {
   "cell_type": "code",
   "execution_count": null,
   "metadata": {},
   "outputs": [],
   "source": [
    "X_new = np.array([[12, 6]])"
   ]
  },
  {
   "cell_type": "code",
   "execution_count": null,
   "metadata": {},
   "outputs": [],
   "source": [
    "plot_points(X, y, new_points=X_new)"
   ]
  },
  {
   "cell_type": "code",
   "execution_count": null,
   "metadata": {},
   "outputs": [],
   "source": [
    "from scipy.spatial.distance import euclidean\n",
    "\n",
    "def find_nearest_point_index(x_new, X):\n",
    "    d_min = euclidean(x_new, X[0])\n",
    "    min_idx = 0\n",
    "    for idx in range(1, X.shape[0]):\n",
    "        d = euclidean(x_new, X[idx])\n",
    "        if d < d_min:\n",
    "            d_min = d\n",
    "            min_idx = idx\n",
    "    return min_idx\n",
    "\n",
    "\n",
    "min_idx = find_nearest_point_index(X_new, X)"
   ]
  },
  {
   "cell_type": "code",
   "execution_count": null,
   "metadata": {},
   "outputs": [],
   "source": [
    "plot_points(X, y, new_points=X_new, nearest_points=X[[min_idx]])"
   ]
  },
  {
   "cell_type": "code",
   "execution_count": null,
   "metadata": {},
   "outputs": [],
   "source": [
    "def predict_class(x_new, X, y):\n",
    "    min_idx = find_nearest_point_index(x_new, X)\n",
    "    return y[min_idx]\n",
    "\n",
    "y_new = predict_class(X_new, X, y)"
   ]
  },
  {
   "cell_type": "code",
   "execution_count": null,
   "metadata": {},
   "outputs": [],
   "source": [
    "plot_points(X, y, new_points=X_new, new_prediction=[y_new], nearest_points=X[[min_idx]])"
   ]
  },
  {
   "cell_type": "code",
   "execution_count": null,
   "metadata": {},
   "outputs": [],
   "source": [
    "X_new = np.array([[12, -2]])\n",
    "min_idx = find_nearest_point_index(X_new, X)\n",
    "y_new = predict_class(X_new, X, y)"
   ]
  },
  {
   "cell_type": "code",
   "execution_count": null,
   "metadata": {},
   "outputs": [],
   "source": [
    "plot_points(X, y, new_points=X_new, new_prediction=[y_new], nearest_points=X[[min_idx]])"
   ]
  },
  {
   "cell_type": "markdown",
   "metadata": {},
   "source": [
    "## Sklearn"
   ]
  },
  {
   "cell_type": "code",
   "execution_count": null,
   "metadata": {},
   "outputs": [],
   "source": [
    "from sklearn.neighbors import KNeighborsClassifier\n",
    "\n",
    "knn = KNeighborsClassifier(n_neighbors=1)\n",
    "knn.fit(X, y)\n",
    "y_pred = knn.predict(X_new)"
   ]
  },
  {
   "cell_type": "code",
   "execution_count": null,
   "metadata": {},
   "outputs": [],
   "source": [
    "plot_points(X, y, new_points=X_new, new_prediction=[y_pred])"
   ]
  },
  {
   "cell_type": "code",
   "execution_count": null,
   "metadata": {},
   "outputs": [],
   "source": [
    "X_new = np.c_[np.random.randint(5, 15, 10), np.random.randint(-2, 8, 10)]"
   ]
  },
  {
   "cell_type": "code",
   "execution_count": null,
   "metadata": {},
   "outputs": [],
   "source": [
    "plot_points(X, y, new_points=X_new, new_prediction=knn.predict(X_new))"
   ]
  },
  {
   "cell_type": "code",
   "execution_count": null,
   "metadata": {},
   "outputs": [],
   "source": [
    "from scipy.spatial.distance import cdist\n",
    "from collections import Counter\n",
    "\n",
    "def predict_class(x_new, X, y, k=1):\n",
    "    # cdist рассчитывает попарные расстояния между объектами\n",
    "    # https://docs.scipy.org/doc/scipy/reference/generated/scipy.spatial.distance.cdist.html\n",
    "    dist = cdist(x_new, X)\n",
    "    \n",
    "    # argpartition находит отсортированные индексы \n",
    "    # https://docs.scipy.org/doc/numpy/reference/generated/numpy.argpartition.html\n",
    "    nearest_y = y[np.argpartition(dist, k, axis=1)[:, :k]]\n",
    "    return np.array([Counter(row).most_common(1)[0][0] for row in nearest_y])"
   ]
  },
  {
   "cell_type": "code",
   "execution_count": null,
   "metadata": {},
   "outputs": [],
   "source": [
    "y_pred = predict_class(X_new, X, y, k=3)"
   ]
  },
  {
   "cell_type": "code",
   "execution_count": null,
   "metadata": {},
   "outputs": [],
   "source": [
    "plot_points(X, y, new_points=X_new, new_prediction=y_pred)"
   ]
  },
  {
   "cell_type": "code",
   "execution_count": null,
   "metadata": {},
   "outputs": [],
   "source": [
    "knn = KNeighborsClassifier(n_neighbors=3)\n",
    "knn.fit(X, y)\n",
    "y_pred = knn.predict(X_new)\n",
    "plot_points(X, y, new_points=X_new, new_prediction=y_pred)"
   ]
  },
  {
   "cell_type": "code",
   "execution_count": null,
   "metadata": {},
   "outputs": [],
   "source": [
    "X, y = datasets.make_blobs(n_samples=100, random_state=5, centers=2)\n",
    "plot_points(X, y)"
   ]
  },
  {
   "cell_type": "markdown",
   "metadata": {},
   "source": [
    "# Влияние числа соседей k"
   ]
  },
  {
   "cell_type": "code",
   "execution_count": null,
   "metadata": {},
   "outputs": [],
   "source": [
    "h = .02\n",
    "x_min, x_max = X[:, 0].min() - .5, X[:, 0].max() + .5\n",
    "y_min, y_max = X[:, 1].min() - .5, X[:, 1].max() + .5\n",
    "xx, yy = np.meshgrid(np.arange(x_min, x_max, h), np.arange(y_min, y_max, h))\n",
    "x_pred = np.c_[xx.ravel(), yy.ravel()]"
   ]
  },
  {
   "cell_type": "code",
   "execution_count": null,
   "metadata": {},
   "outputs": [],
   "source": [
    "def plot_knn_classifier(k):\n",
    "    knn = KNeighborsClassifier(n_neighbors=k)\n",
    "    knn.fit(X, y)\n",
    "    Z = knn.predict(x_pred)\n",
    "    Z = Z.reshape(xx.shape)\n",
    "    plt.figure(1, figsize=(12, 8))\n",
    "    plt.pcolormesh(xx, yy, Z, cmap=plt.cm.Paired)\n",
    "\n",
    "    plt.scatter(X[:, 0], X[:, 1], c=y, edgecolors='k', cmap=plt.cm.Paired)\n",
    "    plt.xlim(xx.min(), xx.max())\n",
    "    plt.ylim(yy.min(), yy.max())\n",
    "    plt.xticks(())\n",
    "    plt.yticks(())\n",
    "    plt.show()"
   ]
  },
  {
   "cell_type": "code",
   "execution_count": null,
   "metadata": {},
   "outputs": [],
   "source": [
    "plot_knn_classifier(1)"
   ]
  },
  {
   "cell_type": "code",
   "execution_count": null,
   "metadata": {},
   "outputs": [],
   "source": [
    "plot_knn_classifier(10)"
   ]
  },
  {
   "cell_type": "code",
   "execution_count": null,
   "metadata": {},
   "outputs": [],
   "source": [
    "plot_knn_classifier(30)"
   ]
  },
  {
   "cell_type": "code",
   "execution_count": null,
   "metadata": {},
   "outputs": [],
   "source": [
    "plot_knn_classifier(90)"
   ]
  },
  {
   "cell_type": "markdown",
   "metadata": {},
   "source": [
    "### Тонкий момент - есть взять всю выборку, то алгоритм будет предсказывать самый частый класс!"
   ]
  },
  {
   "cell_type": "markdown",
   "metadata": {},
   "source": [
    "# Нормализация данных в knn"
   ]
  },
  {
   "cell_type": "code",
   "execution_count": null,
   "metadata": {},
   "outputs": [],
   "source": [
    "X, y = datasets.make_blobs(n_samples=100, random_state=4, centers=2, cluster_std=2)\n",
    "X[:, 1] *= 1000000000\n",
    "X[:5], y[:5]"
   ]
  },
  {
   "cell_type": "code",
   "execution_count": null,
   "metadata": {},
   "outputs": [],
   "source": [
    "def plot_points_scaled(X, y, new_points=None, new_prediction=None, nearest_points=None, file_name=None):\n",
    "    plt.scatter(X[:, 0], X[:, 1], c=[get_class_colour(y_i) for y_i in y], s=100, edgecolor='black', alpha=0.3)\n",
    "    plt.figure(1, figsize=(12, 8))\n",
    "    plt.title(\"Classification problem \\n What is the color for the new (x1, x2) pair?\")\n",
    "    plt.xlabel(\"x1 (feature)\")\n",
    "    plt.ylabel(\"x2 (feature)\")\n",
    "    plt.gca().set_aspect('equal', adjustable='datalim')\n",
    "    if file_name:\n",
    "        plt.savefig(filename)"
   ]
  },
  {
   "cell_type": "code",
   "execution_count": null,
   "metadata": {},
   "outputs": [],
   "source": [
    "from sklearn.metrics import accuracy_score, precision_score, recall_score, f1_score"
   ]
  },
  {
   "cell_type": "code",
   "execution_count": null,
   "metadata": {},
   "outputs": [],
   "source": [
    "def quality(prediction_y, true_y):\n",
    "    accuracy = accuracy_score(prediction_y, true_y)\n",
    "    precision = precision_score(prediction_y, true_y)\n",
    "    recall = recall_score(prediction_y, true_y)\n",
    "    f1 = f1_score(prediction_y, true_y)\n",
    "    print(\"Accuracy:  {:.3f}\\nPrecision: {:.3f}\\nRecall:    {:.3f}\\nF1-score:  {:.3f}\".format(\n",
    "        accuracy, precision, recall, f1\n",
    "    ))"
   ]
  },
  {
   "cell_type": "code",
   "execution_count": null,
   "metadata": {},
   "outputs": [],
   "source": [
    "plot_points_scaled(X, y)"
   ]
  },
  {
   "cell_type": "code",
   "execution_count": null,
   "metadata": {},
   "outputs": [],
   "source": [
    "from sklearn.metrics import accuracy_score\n",
    "knn = KNeighborsClassifier(n_neighbors=5)\n",
    "knn.fit(X, y)\n",
    "y_pred = knn.predict(X)\n",
    "quality(y_pred, y)"
   ]
  },
  {
   "cell_type": "code",
   "execution_count": null,
   "metadata": {},
   "outputs": [],
   "source": [
    "from sklearn.preprocessing import MinMaxScaler\n",
    "\n",
    "X_scaled = MinMaxScaler().fit_transform(X)"
   ]
  },
  {
   "cell_type": "code",
   "execution_count": null,
   "metadata": {},
   "outputs": [],
   "source": [
    "plot_points_scaled(X_scaled, y)"
   ]
  },
  {
   "cell_type": "code",
   "execution_count": null,
   "metadata": {},
   "outputs": [],
   "source": [
    "knn = KNeighborsClassifier(n_neighbors=5)\n",
    "knn.fit(X_scaled, y)\n",
    "y_pred = knn.predict(X_scaled)\n",
    "quality(y_pred, y)"
   ]
  },
  {
   "cell_type": "code",
   "execution_count": null,
   "metadata": {},
   "outputs": [],
   "source": [
    "from sklearn.preprocessing import StandardScaler\n",
    "\n",
    "X_scaled_alter = StandardScaler().fit_transform(X)"
   ]
  },
  {
   "cell_type": "code",
   "execution_count": null,
   "metadata": {},
   "outputs": [],
   "source": [
    "plot_points_scaled(X_scaled_alter, y)"
   ]
  },
  {
   "cell_type": "code",
   "execution_count": null,
   "metadata": {},
   "outputs": [],
   "source": [
    "knn = KNeighborsClassifier(n_neighbors=5)\n",
    "knn.fit(X_scaled_alter, y)\n",
    "y_pred = knn.predict(X_scaled_alter)\n",
    "quality(y_pred, y)"
   ]
  },
  {
   "cell_type": "code",
   "execution_count": null,
   "metadata": {},
   "outputs": [],
   "source": [
    "from sklearn.preprocessing import RobustScaler\n",
    "\n",
    "X_scaled_alter_2 = RobustScaler().fit_transform(X)"
   ]
  },
  {
   "cell_type": "code",
   "execution_count": null,
   "metadata": {},
   "outputs": [],
   "source": [
    "plot_points_scaled(X_scaled_alter_2, y)"
   ]
  },
  {
   "cell_type": "code",
   "execution_count": null,
   "metadata": {},
   "outputs": [],
   "source": [
    "knn = KNeighborsClassifier(n_neighbors=5)\n",
    "knn.fit(X_scaled_alter_2, y)\n",
    "y_pred = knn.predict(X_scaled_alter_2)\n",
    "quality(y_pred, y)"
   ]
  },
  {
   "cell_type": "markdown",
   "metadata": {},
   "source": [
    "## Вывод - Алгоритм очень чувствителен к масштабу данных, поэтому ВСЕГДА стоит данные стандартизировать/нормализовать!"
   ]
  },
  {
   "cell_type": "markdown",
   "metadata": {},
   "source": [
    "# Выбор параметров модели\n",
    "\n",
    "## Начинаем запутываться\n",
    "\n",
    "**Testing set** - в самом начале работы откладываем часть данных и не используем их до внедрения модели в боевое окружение. Это наш финальный и самый верный способ проверить качество готовой модели. \n",
    "\n",
    "**Training set** - используется для непосредственной тренировки модели, эти данные модель \"видит\" во время обучения\n",
    "\n",
    "**Validation set** - этот набор даннных модель \"не видит\" во время тренировки, но мы его используем для настройки гиперпараметров, то есть проверяем качество обученной модели и если мы им недовольны - меняем параметры модели и повторяем процедуру. Таким образом, модель хоть напрямую с этими данными и не работает, информацию из них мы всё равно многократно используем и она просачивается в модель в виде настроенных параметров. Т.е., качество модели на валидационной выборке может быть завышено. \n",
    "\n",
    "\n",
    "В `sklearn.model_selection` есть функция `train_test_split`, которая случайным (или не очень, если мы того хотим) образом делит выборку на две части. Вместо train и validation их чаще всего (на самом деле всегда) называют train и test, подразумевая, при этом, что истинная \"тестовая\" выборка хранится отдельно и будет использована в будущем после настройки модели.  "
   ]
  },
  {
   "attachments": {
    "image.png": {
     "image/png": "[encoded data removed]"
    }
   },
   "cell_type": "markdown",
   "metadata": {},
   "source": [
    "![image.png](attachment:image.png)"
   ]
  },
  {
   "cell_type": "markdown",
   "metadata": {},
   "source": [
    "#### Перед началом работы необходимо выделить тестовый датасет в отдельный и не трогать его больше до того момента, пока модель не будет обучена и не будут должным образом подобраны гиперпараметры для неё. \n",
    "\n",
    "#### Таким образом тестовый датасет используется только один раз - в самом последнем тесте для оценки качества модели."
   ]
  },
  {
   "cell_type": "code",
   "execution_count": null,
   "metadata": {},
   "outputs": [],
   "source": [
    "X, y = datasets.make_blobs(n_samples=100, random_state=5, centers=2)\n",
    "plot_points(X, y)"
   ]
  },
  {
   "cell_type": "markdown",
   "metadata": {},
   "source": [
    "### train_test_split - делит датасет на две части, которые для нас являются тренировочной и валидационной."
   ]
  },
  {
   "cell_type": "code",
   "execution_count": null,
   "metadata": {},
   "outputs": [],
   "source": [
    "from sklearn.model_selection import train_test_split\n",
    "X_train, X_test, y_train, y_test = train_test_split(X, y, test_size=0.4, random_state=42)"
   ]
  },
  {
   "cell_type": "code",
   "execution_count": null,
   "metadata": {},
   "outputs": [],
   "source": [
    "X_train.shape, X_test.shape, y_train.shape, y_test.shape "
   ]
  },
  {
   "cell_type": "markdown",
   "metadata": {},
   "source": [
    "По уму - необходимо было бы сделать \"истинный\" тестовый датасет из данных, но сейчас это самый простой пример и делать это не обязательно.\n",
    "\n",
    "Датасет - синтетический и классы сбалансированы, поэтому в качестве метрики можно применить и accuracy - она не будет слишком неадекватной."
   ]
  },
  {
   "cell_type": "code",
   "execution_count": null,
   "metadata": {},
   "outputs": [],
   "source": [
    "neighbors = range(1, 50)\n",
    "accuracy_train = []\n",
    "accuracy_test = []\n",
    "for k in neighbors: \n",
    "    knn = KNeighborsClassifier(n_neighbors=k)\n",
    "    knn.fit(X_train, y_train)\n",
    "    accuracy_train.append(accuracy_score(knn.predict(X_train), y_train))\n",
    "    accuracy_test.append(accuracy_score(knn.predict(X_test), y_test))\n",
    "    \n",
    "plt.plot(neighbors, accuracy_train, color='blue', label='train')\n",
    "plt.plot(neighbors, accuracy_test, color='red', label='test')\n",
    "plt.title(\"Max test quality: {:.3f}\\nBest k: {}\".format(max(accuracy_test), np.argmax(accuracy_test)+1))\n",
    "plt.legend()\n",
    "plt.show()"
   ]
  },
  {
   "cell_type": "code",
   "execution_count": null,
   "metadata": {},
   "outputs": [],
   "source": [
    "X, y = datasets.make_blobs(n_samples=500, random_state=4, centers=2, cluster_std=2)\n",
    "plot_points(X, y)\n",
    "\n",
    "X_train, X_test, y_train, y_test = train_test_split(X, y, test_size=0.4, random_state=42)\n",
    "X_train.shape, X_test.shape, y_train.shape, y_test.shape "
   ]
  },
  {
   "cell_type": "code",
   "execution_count": null,
   "metadata": {},
   "outputs": [],
   "source": [
    "from sklearn.metrics import accuracy_score\n",
    "\n",
    "neighbors = range(1, 100)\n",
    "accuracy_train = []\n",
    "accuracy_test = []\n",
    "for k in neighbors:\n",
    "    knn = KNeighborsClassifier(n_neighbors=k)\n",
    "    knn.fit(X_train, y_train)\n",
    "    accuracy_train.append(accuracy_score(knn.predict(X_train), y_train))\n",
    "    accuracy_test.append(accuracy_score(knn.predict(X_test), y_test))\n",
    "    \n",
    "plt.plot(neighbors, accuracy_train, color='blue', label='train')\n",
    "plt.plot(neighbors, accuracy_test, color='red', label='test')\n",
    "plt.title(\"Max test quality: {:.3f}\\nBest k: {}\".format(max(accuracy_test), np.argmax(accuracy_test)+1))\n",
    "plt.legend()\n",
    "plt.show()"
   ]
  },
  {
   "cell_type": "markdown",
   "metadata": {},
   "source": [
    "## Кросс-валидация (k-fold cross-validation)\n",
    "\n",
    "Иногда данных не то чтобы очень много, а потестировать модель всё же хочется, да и получить устойчивые и надежные оценки качества модели - тоже не так плохо. \n",
    "\n",
    "Для такого случая была придумана очень полезная техника, использующася повсеместно - кросс-валидация. Наш изначальный датасет мы теперь будем делить не на train-validation-test, а на гораздо большее количество кусочков. В самом начале снова можно отложить тестовую выборку, на которой в самом конце мы проверим качество готовой модели. Далее берем оставшийся тренировочный датасет и делим его на папки (фолды, folds).\n",
    "\n",
    "Например, задаём число фолдов равным 6 (обычно берется 3 или 5, но на картинке 6 блоков, так что для соответствия будем использовать 6). Теперь мы делим нашу тренировочную выборку на 6 равных кусков. На пяти их них обучаем модель, на шестом - меряем качество. Теперь берем другое сочетание фолдов и снова повторяем обучение/тестирование. Продолжаем, пока каждый из фолдов не поучаствовал в тестировании. Таким образом, мы получаем столько оценок качества, сколько изначально задали фолдов, и столько же раз нам пришлось нашу модель обучать и тестировать. Теперь эти оценки мы можем усреднить, посчитать стандартное отклонение и узнать как, в среднем, ошибается наша модель и какие интервалы у этой ошибки. \n",
    "\n",
    "Вычислительно кросс-валидации крайне затратна, но если модель учится быстро, а датасет не сильно большой - это отличный способ получить \"честные\" оценки качества модели."
   ]
  },
  {
   "attachments": {
    "image.png": {
     "image/png": "[encoded data removed]"
    }
   },
   "cell_type": "markdown",
   "metadata": {},
   "source": [
    "![image.png](attachment:image.png)"
   ]
  },
  {
   "cell_type": "code",
   "execution_count": null,
   "metadata": {},
   "outputs": [],
   "source": [
    "from sklearn.model_selection import cross_val_score\n",
    "\n",
    "knn = KNeighborsClassifier(n_neighbors=3)\n",
    "\n",
    "scores = cross_val_score(knn, X, y, cv=5, scoring='accuracy')\n",
    "print(scores)\n",
    "print('mean', scores.mean())\n",
    "print('std', scores.std())"
   ]
  },
  {
   "cell_type": "markdown",
   "metadata": {},
   "source": [
    "# Тяжело в учении - легко в бою\n",
    "\n",
    "https://www.kaggle.com/uciml/biomechanical-features-of-orthopedic-patients#_=_\n",
    "\n",
    "Предсказание ортопедических проблем по измерениям костей таза и нижнего позвоночника. Быстро пройдемся по основным этапам работы с данными.\n",
    "\n",
    "Загрузка - Статистики и Визуализация - Предобработка - Моделирование "
   ]
  },
  {
   "cell_type": "code",
   "execution_count": null,
   "metadata": {},
   "outputs": [],
   "source": [
    "data = pd.read_csv('../Datasets/archive/column_2C_weka.csv')"
   ]
  },
  {
   "cell_type": "code",
   "execution_count": null,
   "metadata": {},
   "outputs": [],
   "source": [
    "data.head()"
   ]
  },
  {
   "cell_type": "code",
   "execution_count": null,
   "metadata": {},
   "outputs": [],
   "source": [
    "data.describe()"
   ]
  },
  {
   "cell_type": "code",
   "execution_count": null,
   "metadata": {},
   "outputs": [],
   "source": [
    "data.isnull().sum()"
   ]
  },
  {
   "cell_type": "markdown",
   "metadata": {},
   "source": [
    "## Распределение целевой переменной"
   ]
  },
  {
   "cell_type": "code",
   "execution_count": null,
   "metadata": {},
   "outputs": [],
   "source": [
    "data['class'].value_counts()"
   ]
  },
  {
   "cell_type": "code",
   "execution_count": null,
   "metadata": {},
   "outputs": [],
   "source": [
    "data['class'].value_counts().plot.bar(figsize=(6, 4))\n",
    "plt.grid(axis='y')"
   ]
  },
  {
   "cell_type": "code",
   "execution_count": null,
   "metadata": {},
   "outputs": [],
   "source": [
    "data['class'].value_counts(normalize=True)"
   ]
  },
  {
   "cell_type": "markdown",
   "metadata": {},
   "source": [
    "Здесь же можно прикинуть наш **baseline** качества, с которым можно будет сравнивать результаты работы модели. Если у нас 68% одного класса и 32% другого, то даже если наша модель будет предсказывать сплошные `Abnormal`, то `accuracy` будет равна, в среднем, 68%."
   ]
  },
  {
   "cell_type": "markdown",
   "metadata": {},
   "source": [
    "### Имеет смысл балансировать выборку перед обучением!"
   ]
  },
  {
   "cell_type": "code",
   "execution_count": null,
   "metadata": {},
   "outputs": [],
   "source": [
    "data.hist(figsize=(18, 10));"
   ]
  },
  {
   "cell_type": "code",
   "execution_count": null,
   "metadata": {},
   "outputs": [],
   "source": [
    "#correlation map\n",
    "plt.figure(figsize=(10, 10))\n",
    "sns.heatmap(data.corr(), annot=True, cbar=False, linewidths=.5, fmt= '.2f')\n",
    "plt.show()"
   ]
  },
  {
   "cell_type": "code",
   "execution_count": null,
   "metadata": {},
   "outputs": [],
   "source": [
    "sns.pairplot(data, hue='class');"
   ]
  },
  {
   "cell_type": "code",
   "execution_count": null,
   "metadata": {},
   "outputs": [],
   "source": [
    "import plotly.express as px\n",
    "\n",
    "from plotly.offline import init_notebook_mode, iplot\n",
    "init_notebook_mode(connected=True)\n",
    "# import graph objects as \"go\"\n",
    "import plotly.graph_objs as go\n",
    "\n",
    "# creating trace1\n",
    "trace1 =go.Scatter(\n",
    "                    x = np.arange(0,310),\n",
    "                    y = data[data['class']=='Normal'].sacral_slope,\n",
    "                    mode = \"markers\",\n",
    "                    name = \"Normal\",\n",
    "                    marker = dict(color = 'rgba(0, 100, 255, 0.8)'),\n",
    "                    text= data['class'])\n",
    "# creating trace2\n",
    "trace2 =go.Scatter(\n",
    "                    x = np.arange(0,310),\n",
    "                    y = data[data['class']=='Abnormal'].sacral_slope,\n",
    "                    mode = \"markers\",\n",
    "                    name = \"Abnormal\",\n",
    "                    marker = dict(color = 'rgba(255, 128, 255, 0.8)'),\n",
    "                    text= data['class'])\n",
    "\n",
    "df = [trace1, trace2]\n",
    "layout = dict(title = 'sacral_slope',\n",
    "              xaxis= dict(title= 'index',ticklen= 5,zeroline= False),\n",
    "              yaxis= dict(title= 'Values',ticklen= 5,zeroline= False)\n",
    "             )\n",
    "fig = dict(data = df, layout = layout)\n",
    "iplot(fig)"
   ]
  },
  {
   "cell_type": "markdown",
   "metadata": {},
   "source": [
    "## Перекодируем целевую"
   ]
  },
  {
   "cell_type": "code",
   "execution_count": null,
   "metadata": {},
   "outputs": [],
   "source": [
    "data['class'] = data['class'].apply(lambda x: 1 if x=='Abnormal' else 0)"
   ]
  },
  {
   "cell_type": "code",
   "execution_count": null,
   "metadata": {},
   "outputs": [],
   "source": [
    "data.head()"
   ]
  },
  {
   "cell_type": "markdown",
   "metadata": {},
   "source": [
    "## Train-test split\n",
    "\n",
    "Параметр `stratify` позволяет вам создавать такие разбиения, в которых распределения указанной переменной будут сохраняться. Очень полезно при дисбалансе классов, т.е. когда каких-то классов гораздо больше, чем других. \n",
    "\n",
    "Попробуйте ответить, почему? "
   ]
  },
  {
   "cell_type": "code",
   "execution_count": null,
   "metadata": {},
   "outputs": [],
   "source": [
    "X_train, X_test, y_train, y_test = train_test_split(\n",
    "    data.drop(['class'], axis=1), data['class'], test_size=0.20, random_state=42, #stratify=data['class']\n",
    ")"
   ]
  },
  {
   "cell_type": "code",
   "execution_count": null,
   "metadata": {},
   "outputs": [],
   "source": [
    "X_train.shape, X_test.shape, y_train.shape, y_test.shape"
   ]
  },
  {
   "cell_type": "code",
   "execution_count": null,
   "metadata": {},
   "outputs": [],
   "source": [
    "y_train.value_counts(normalize=True)"
   ]
  },
  {
   "cell_type": "code",
   "execution_count": null,
   "metadata": {},
   "outputs": [],
   "source": [
    "y_test.value_counts(normalize=True)"
   ]
  },
  {
   "cell_type": "markdown",
   "metadata": {},
   "source": [
    "### Стратифицируем выборку по классу!"
   ]
  },
  {
   "cell_type": "code",
   "execution_count": null,
   "metadata": {},
   "outputs": [],
   "source": [
    "X_train, X_test, y_train, y_test = train_test_split(\n",
    "    data.drop(['class'], axis=1), data['class'], test_size=0.20, random_state=42, stratify=data['class']\n",
    ")"
   ]
  },
  {
   "cell_type": "code",
   "execution_count": null,
   "metadata": {},
   "outputs": [],
   "source": [
    "X_train.shape, X_test.shape, y_train.shape, y_test.shape"
   ]
  },
  {
   "cell_type": "code",
   "execution_count": null,
   "metadata": {},
   "outputs": [],
   "source": [
    "y_train.value_counts(normalize=True)"
   ]
  },
  {
   "cell_type": "code",
   "execution_count": null,
   "metadata": {},
   "outputs": [],
   "source": [
    "y_test.value_counts(normalize=True)"
   ]
  },
  {
   "cell_type": "markdown",
   "metadata": {},
   "source": [
    "## Scaling\n",
    "### Важно! \n",
    "Учим на трейне - применяем на тесте. Практически все методы препроцессинга так или иначе используют информацию из выборки, например, при стандартизации считается среднее и дисперсия, значит, мы не хотим, чтобы информация из отложенной выборки просачивалась в тренировочную (data leak). "
   ]
  },
  {
   "cell_type": "markdown",
   "metadata": {},
   "source": [
    "При использовании какого-либо препроцессинга, например, стандартизации - будут расчитаны основные описательные статистики {ОС} (среднее, дисперсия и т. д.) и применены. При стандартизации, например, из текущего значения вычитается среднее и делится на дисперсию. При расчёте ОС используется информация из выборки. Если тестовая выборка будет использоваться для расчёта ОС, то информация о ней будет неявным образом просачиваться в объект для препроцессинга. Это приведёт к неприятным последствиям. Наиболее вероятно переобучение и завышенные метрики качества. "
   ]
  },
  {
   "cell_type": "code",
   "execution_count": null,
   "metadata": {},
   "outputs": [],
   "source": [
    "from sklearn.preprocessing import StandardScaler\n",
    "scaler = StandardScaler()\n",
    "\n",
    "# Оцениваются параметры для препроцессинга.\n",
    "X_train_scaled = scaler.fit_transform(X_train) # Учим на трейне! Метод fit не применяется на тестовой выборке!\n",
    "# Применяются параметры из тренировочной выборки. \n",
    "X_test_scaled = scaler.transform(X_test) # Применяем преобразование на тесте. "
   ]
  },
  {
   "cell_type": "markdown",
   "metadata": {},
   "source": [
    "## Подбор параметров разными способами"
   ]
  },
  {
   "cell_type": "code",
   "execution_count": null,
   "metadata": {},
   "outputs": [],
   "source": [
    "from sklearn.model_selection import cross_val_score"
   ]
  },
  {
   "cell_type": "code",
   "execution_count": null,
   "metadata": {},
   "outputs": [],
   "source": [
    "neighbors = range(1, 50)\n",
    "# Из-за дисбаланса классов метрика accuracy - не лучший выбор, ей доверять нельзя. \n",
    "# Поэтому используем f1-score. \n",
    "f1_score_train = []\n",
    "f1_score_test = []\n",
    "for k in neighbors:\n",
    "    knn = KNeighborsClassifier(n_neighbors=k)\n",
    "    knn.fit(X_train_scaled, y_train)\n",
    "    f1_score_train.append(f1_score(knn.predict(X_train_scaled), y_train))\n",
    "    f1_score_test.append(f1_score(knn.predict(X_test_scaled), y_test))\n",
    "    \n",
    "plt.plot(neighbors, f1_score_train, color='blue', label='train')\n",
    "plt.plot(neighbors, f1_score_test, color='red', label='test')\n",
    "plt.title(\"Max test quality: {:.3f}\\nBest k: {}\".format(max(f1_score_test), np.argmax(f1_score_test)+1))\n",
    "plt.legend();"
   ]
  },
  {
   "cell_type": "markdown",
   "metadata": {},
   "source": [
    "## GridSearchCV"
   ]
  },
  {
   "cell_type": "code",
   "execution_count": null,
   "metadata": {},
   "outputs": [],
   "source": [
    "%%time\n",
    "from sklearn.model_selection import GridSearchCV\n",
    "\n",
    "param_grid = {\n",
    "        'n_neighbors': range(1, 50),\n",
    "        'p': range(1, 4)\n",
    "}\n",
    "\n",
    "knn = KNeighborsClassifier()\n",
    "\n",
    "grid_search = GridSearchCV(knn, param_grid, cv=5, scoring='f1')\n",
    "grid_search.fit(X_train_scaled, y_train)\n",
    "\n",
    "print(\"Best CV score: {:.3f}, best CV k: {}\".format(\n",
    "    grid_search.best_score_, grid_search.best_estimator_.n_neighbors)\n",
    ") \n",
    "\n",
    "\n",
    "test_predictions = grid_search.best_estimator_.predict(X_test_scaled)\n",
    "print(\"Resulting test score: {:.3f}\".format(f1_score(test_predictions, y_test)))"
   ]
  },
  {
   "cell_type": "markdown",
   "metadata": {},
   "source": [
    "## RandomizedSearchCV"
   ]
  },
  {
   "cell_type": "markdown",
   "metadata": {},
   "source": [
    "Как ни странно, но при использовании GridSearch возможно переобучение, а при использовании RSCV - нет."
   ]
  },
  {
   "cell_type": "code",
   "execution_count": null,
   "metadata": {},
   "outputs": [],
   "source": [
    "%%time\n",
    "from sklearn.model_selection import RandomizedSearchCV\n",
    "\n",
    "param_grid = {\n",
    "    'n_neighbors': range(1, 50),\n",
    "    'p': range(1, 4)\n",
    "}\n",
    "\n",
    "knn = KNeighborsClassifier()\n",
    "\n",
    "rand_search = RandomizedSearchCV(knn, param_grid, cv=5, scoring='f1', random_state=40)\n",
    "rand_search.fit(X_train_scaled, y_train)\n",
    "\n",
    "print(\"Best CV score: {:.3f}, best CV k: {}\".format(\n",
    "    rand_search.best_score_, rand_search.best_estimator_.n_neighbors)\n",
    ") \n",
    "\n",
    "test_predictions = rand_search.best_estimator_.predict(X_test_scaled)\n",
    "print(\"Resulting test score: {:.3f}\".format(f1_score(test_predictions, y_test)))\n"
   ]
  },
  {
   "cell_type": "markdown",
   "metadata": {},
   "source": [
    "### Дополнительные материалы:\n",
    "- http://www.machinelearning.ru/wiki/index.php?title=Метод_ближайших_соседей\n",
    "- http://scikit-learn.org/stable/modules/neighbors.html\n",
    "- http://bigdata-madesimple.com/k-nearest-neighbors-curse-dimensionality-python-scikit-learn/\n",
    "- https://www.kaggle.com/skalskip/iris-data-visualization-and-knn-classification"
   ]
  }
 ],
 "metadata": {
  "kernelspec": {
   "display_name": "Python 3",
   "language": "python",
   "name": "python3"
  },
  "language_info": {
   "codemirror_mode": {
    "name": "ipython",
    "version": 3
   },
   "file_extension": ".py",
   "mimetype": "text/x-python",
   "name": "python",
   "nbconvert_exporter": "python",
   "pygments_lexer": "ipython3",
   "version": "3.8.5"
  },
  "varInspector": {
   "cols": {
    "lenName": 16,
    "lenType": 16,
    "lenVar": 40
   },
   "kernels_config": {
    "python": {
     "delete_cmd_postfix": "",
     "delete_cmd_prefix": "del ",
     "library": "var_list.py",
     "varRefreshCmd": "print(var_dic_list())"
    },
    "r": {
     "delete_cmd_postfix": ") ",
     "delete_cmd_prefix": "rm(",
     "library": "var_list.r",
     "varRefreshCmd": "cat(var_dic_list()) "
    }
   },
   "types_to_exclude": [
    "module",
    "function",
    "builtin_function_or_method",
    "instance",
    "_Feature"
   ],
   "window_display": false
  }
 },
 "nbformat": 4,
 "nbformat_minor": 2
}
